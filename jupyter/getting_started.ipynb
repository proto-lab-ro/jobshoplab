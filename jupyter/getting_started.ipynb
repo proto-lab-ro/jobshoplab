{
 "cells": [
  {
   "cell_type": "markdown",
   "metadata": {
    "vscode": {
     "languageId": "plaintext"
    }
   },
   "source": [
    "<img src=\"../docs/assets/JobShopLabLogo.svg\" width=\"50\" align=\"left\" style=\"margin-right: 10px;\">\n",
    "\n",
    "# Getting Started with JobShopLab \n",
    "\n",
    "\n",
    "\n",
    "The **JobShopLab** is a Framework for solving real world JobShopScheduling scenarios using Reinforement Learning.\n",
    "\n",
    "\n",
    "This Getting Started Guide provides some Examples and Explanations on how to use the Framework\n"
   ]
  },
  {
   "cell_type": "markdown",
   "metadata": {},
   "source": [
    "\n",
    "## Table of Contents\n",
    "\n",
    "- [Example of solving a ft06 instance with a random policy](#example)\n",
    "- [Design Choices](#design_choices)\n",
    "- [Configuring the Framework](#configuring-the-framework)\n",
    "    - [Config File](#config-file)\n",
    "    - [Dependency Injection](#dependency-injection)\n",
    "- [Customizing](#customing)\n",
    "- [Defining a Problem](#defining-a-problem)\n",
    "    - [Spec Files](#spec-files)\n",
    "    - [The Compiler](#the-compiler)\n",
    "    - [DSL](#dsl)\n",
    "    - [DSL as a string](#dsl-as-a-string)\n",
    "- [Visualization](#visualization)\n",
    "- [Defining Agents and Solving the Environment](#defining-agents-and-solving-the-environment)\n",
    "\n"
   ]
  },
  {
   "cell_type": "markdown",
   "metadata": {},
   "source": [
    "\n",
    "## Installation\n",
    "\n",
    "> **Note:**  \n",
    "> Ensure you have the required Python version 3.12 or higher installed before proceeding.\n",
    "\n",
    "To install JobShopLab, clone the repository and install it in editable mode using `pip`:\n",
    "\n",
    "\n",
    "\n",
    "```bash\n",
    "cd <desired_dir>\n",
    "# ssh\n",
    "git clone git@github.com:proto-lab-ro/jobshoplab.git\n",
    "# or https\n",
    "git clone https://github.com/proto-lab-ro/jobshoplab.git\n",
    "# install python module in editable mode\n",
    "pip install -e <repo_dir>\n",
    "```\n"
   ]
  },
  {
   "cell_type": "code",
   "execution_count": 66,
   "metadata": {},
   "outputs": [
    {
     "name": "stdout",
     "output_type": "stream",
     "text": [
      "Already in the desired directory: /home/felix/JobShopLab\n"
     ]
    }
   ],
   "source": [
    "from jupyter_utils import change_to_jobshoplab, show_mermaid\n",
    "change_to_jobshoplab()"
   ]
  },
  {
   "cell_type": "markdown",
   "metadata": {},
   "source": [
    "\n",
    "## Example\n",
    "\n",
    "\n",
    "the following example demonstrates how to solve an academic ft06 instance using a random policy."
   ]
  },
  {
   "cell_type": "code",
   "execution_count": 67,
   "metadata": {},
   "outputs": [
    {
     "name": "stdout",
     "output_type": "stream",
     "text": [
      "Dash app running on http://127.0.0.1:8058/\n"
     ]
    }
   ],
   "source": [
    "# Solve a academic ft06 instance with a random policy\n",
    "\n",
    "from jobshoplab import JobShopLabEnv, load_config\n",
    "from pathlib import Path\n",
    "\n",
    "config = load_config(config_path = Path(\"./data/config/getting_started_config.yaml\"))\n",
    "env = JobShopLabEnv(config=config)\n",
    "done = False\n",
    "while not done:\n",
    "    action = env.action_space.sample()\n",
    "    obs, reward, truncated,terminated, info = env.step(action)\n",
    "    done = truncated or terminated\n",
    "env.render()"
   ]
  },
  {
   "cell_type": "markdown",
   "metadata": {
    "vscode": {
     "languageId": "plaintext"
    }
   },
   "source": [
    "<div id='design_choices'/>\n",
    "    \n",
    "# Design Choices \n",
    "\n",
    "<img src=\"../docs/assets/FrameworkOverview.svg\" width=\"600\">\n",
    "\n",
    "*JobShopLab is designed to be fully extensible and customizable.*\n",
    "\n",
    "\n",
    "At its core is a state machine implemented in a functional programming style.<br>\n",
    "The state machine takes inputs and produces outputs using an immutable data type object (interface).<br>\n",
    "\n",
    "To address the need for various time mechanisms, observation spaces, and action spaces, a software layer called *Middleware* is used.<br> The Middleware sits between the Gym environment and the state machine, translating the Gym interface to the state machine interface.<br>\n",
    "\n",
    "\n",
    "\n",
    "> **Note:**  \n",
    "> Observation, reward, and action factories are injected into the Middleware to allow customization.<br> Their interfaces are represented by data type objects (dataclasses).\n",
    "\n",
    "\n",
    "\n",
    "## Rendering\n",
    "\n",
    "\n",
    "Rendering is performed via a dashboard built with Dash. <br>The dashboard displays a central Gantt chart and a table with all schedules. <br> Dashboards can be shown inline in a Jupyter Notebook or in a web browser.\n",
    "\n",
    "\n",
    "> **Hint:**  \n",
    "> Additional rendering utilities are available for debugging,<br> and a 3D simulation web app can also be accessed via the browser.\n",
    "\n",
    "\n",
    "## Configuration Management\n",
    "\n",
    "\n",
    "A critical aspect of maintaining a framework like JobShopLab and ensuring reproducible results is proper configuration management.\n",
    "\n",
    "\n",
    "There are two types of configurations to consider:\n",
    "\n",
    "\n",
    "### 1. Framework Config  \n",
    "\n",
    "\n",
    "A YAML file containing configuration parameters that control the behavior of the framework.<br>\n",
    "**Examples:** Setting the observation space, render modes, and truncation behavior.\n",
    "\n",
    "\n",
    "### 2. Problem Instance Config  \n",
    "A DSL file (a domain-specific language in YAML syntax) that defines the scheduling problem.  \n"
   ]
  },
  {
   "cell_type": "markdown",
   "metadata": {
    "vscode": {
     "languageId": "plaintext"
    }
   },
   "source": [
    "## Configuring the Framework\n",
    "\n",
    "\n",
    "The framework can be configured in two ways:\n",
    "\n",
    "\n",
    "- Via a [config.yaml](#config-file) file\n",
    "- Via [dependency injection](#dependency-injection)\n",
    "\n",
    "\n",
    "\n",
    "> **Note**<br>\n",
    "> A configuration file is always required, but it can be overridden using dependency injection.<br> While dependency injection is useful for testing new components quickly,<br> the recommended approach is to use configuration objects."
   ]
  },
  {
   "cell_type": "markdown",
   "metadata": {
    "vscode": {
     "languageId": "plaintext"
    }
   },
   "source": [
    "## Config File\n",
    "\n",
    "\n",
    "Framework Configs are written in YAML syntax. <br>\n",
    "The YAML gets parsed dynamically into a Python dataclass object.<br>\n",
    "\n",
    "\n",
    "This allows:\n",
    " - Dot notation attribute access\n",
    " - Autocompletion\n",
    " - Type safety and validation\n"
   ]
  },
  {
   "cell_type": "markdown",
   "metadata": {
    "vscode": {
     "languageId": "raw"
    }
   },
   "source": [
    "```yaml\n",
    "# Example configuration file for JobShopLab\n",
    "\n",
    "title: \"Example Environment\"\n",
    "default_loglevel: \"warning\" # JobShopLab uses the logging module with a Logger obj for Verbosity. Set a default loglevel here\n",
    "\n",
    "\n",
    "# Define all Dependencies for the environment here.. want to use a different observation? Simply change the ActionFactory name\n",
    "env: \n",
    "    loglevel: \"warning\"\n",
    "    observation_factory: \"BinaryActionObservationFactory\"\n",
    "    reward_factory: \"BinaryActionJsspReward\"\n",
    "    action_factory: \"BinaryJobActionInterpreter\"\n",
    "    render_backend: \"render_in_dashboard\"\n",
    "    middleware: \"EventBasedBinaryActionMiddleware\"\n",
    "    max_time_fct: 2\n",
    "    max_action_fct: 3\n",
    "\n",
    "# For every Software Component there is a designated field \n",
    "compiler:\n",
    "    loglevel: \"warning\"\n",
    "    repo: \"SpecRepository\" # set to \"YamlRepository\" in order to use custom Problem Instances\n",
    "    validator: \"DummyValidator\"\n",
    "    manipulators: # want to randomize machine times? Set one or multiple Manipulators \n",
    "        - \"DummyManipulator\"\n",
    "    dsl_repository:\n",
    "        dir: \"data/jssp_instances/dsl/default_instance.yaml\" # yaml instance file to read\n",
    "    spec_repository:\n",
    "        dir: \"data/jssp_instances/ft06\" # academic spec file to read\n",
    "state_machine:\n",
    "    loglevel: \"warning\"\n",
    "\n",
    "middleware:\n",
    "    event_based_binary_action_middleware:\n",
    "        loglevel: \"warning\"\n",
    "        truncation_joker: 5 # \n",
    "        truncation_active: False\n",
    "\n",
    "action_factory:\n",
    "    binary_job_action_action_factory:\n",
    "        loglevel: \"warning\"\n",
    "    # want to add settings for a new action_factory (change the action space)\n",
    "    # set a new field here with name of the class as lowercase \n",
    "\n",
    "observation_factory:\n",
    "    binary_action_observation_factory:\n",
    "        loglevel: \"warning\"\n",
    "    \n",
    "    \n",
    "\n",
    "reward_factory:\n",
    "    binary_action_jssp_reward:\n",
    "        loglevel: \"warning\"\n",
    "        sparse_bias: 1 # settings are passed as kwargs to the constructor of the Class\n",
    "        dense_bias: 0.001\n",
    "        truncation_bias: -1\n",
    "\n",
    "render_backend:\n",
    "    render_in_dashboard:\n",
    "        loglevel: \"warning\"\n",
    "        port: 8050\n",
    "        debug: False\n",
    "    simulation:\n",
    "        json_dump_dir: \"data/tmp/simulation_interface.json\"\n",
    "        port: 8051\n",
    "        loglevel: \"warning\"\n",
    "        bind_all: False\n",
    "```"
   ]
  },
  {
   "cell_type": "markdown",
   "metadata": {},
   "source": [
    "\n",
    "\n",
    "> **warning**<br>\n",
    "> The configuration object is immutable. Any attempt to modify its attributes (as shown in the next example) will result in an error.\n",
    "\n",
    "To load the configuration file and create an environment:\n"
   ]
  },
  {
   "cell_type": "code",
   "execution_count": 68,
   "metadata": {},
   "outputs": [
    {
     "name": "stdout",
     "output_type": "stream",
     "text": [
      "Dashboard Port: 8050\n",
      "Error: cannot assign to field 'port'\n"
     ]
    }
   ],
   "source": [
    "# load a config file\n",
    "config = load_config(config_path=Path(\"./data/config/getting_started_config.yaml\"))\n",
    "\n",
    "# config is a object (immutable dataclass) atributtes can be accessed with dot notation\n",
    "# a stub file (.pyi) is automaticly created when the config is loaded to ensure autocompletion\n",
    "print(f\"Dashboard Port: {config.render_backend.render_in_dashboard.port}\") \n",
    "\n",
    "# config is immutable to prevent accidental changes and enforce consistency\n",
    "try:\n",
    "    config.render_backend.render_in_dashboard.port = 1000\n",
    "except AttributeError as e:\n",
    "    print(f\"Error: {e}\")\n",
    "\n",
    "# create an environment with the loaded config\n",
    "env = JobShopLabEnv(config=config)"
   ]
  },
  {
   "cell_type": "markdown",
   "metadata": {
    "vscode": {
     "languageId": "plaintext"
    }
   },
   "source": [
    "## \u23ec Dependency Injection\n",
    "\n",
    "The environment allows you to pass dependencies directly as constructor arguments.<br>\n",
    "\n",
    "The passed instances are constructed inside the environment, and additional arguments not included in the config file can be provided via partial application. <br>This supports dynamic instance creation (useful for hyperparameter optimization), rapid experiment implementation, and customization.\n",
    "\n",
    "> **Note**\n",
    ">   Dependency injection is particularly useful when you need to test new components or override default behaviors quickly.\n",
    "\n",
    "\n",
    "\n",
    "\n",
    "\n",
    "Example using dependency injection with a dummy observation factory:"
   ]
  },
  {
   "cell_type": "code",
   "execution_count": 69,
   "metadata": {},
   "outputs": [],
   "source": [
    "from jobshoplab.env.factories.observations import DummyObservationFactory\n",
    "from functools import partial\n",
    "config = load_config(config_path=Path(\"./data/config/getting_started_config.yaml\"))\n",
    "\n",
    "observation_factory = DummyObservationFactory # instead of using the observation factory from the config, \n",
    "# we will use a dummy observation factory that returns a random observation\n",
    "\n",
    "observation_factory = partial(DummyObservationFactory, test_var=\"test_var\") # we can pass additional arguments to the observation factory using partial application\n",
    "\n",
    "env = JobShopLabEnv(config=config,observation_factory=observation_factory)\n",
    "assert isinstance(env.state_simulator.observation_factory, DummyObservationFactory) # check that the observation factory is the one we passed\n",
    "assert env.state_simulator.observation_factory.test_var == \"test_var\" # check that the argument was passed correctly"
   ]
  },
  {
   "cell_type": "markdown",
   "metadata": {
    "vscode": {
     "languageId": "plaintext"
    }
   },
   "source": [
    "## \u270d\ufe0f Customing\n",
    "\n",
    "Want to introduce a new reward system?<br>\n",
    "\n",
    "The framework provides base classes for every factory, enabling easy customization.<br> This applies to the observation factory and the action factory as well. Abstract base classes define their interfaces.\n",
    "\n",
    "\n",
    "> **hint**\n",
    "> Customizing these components allows you to tailor JobShopLab to fit your specific scheduling and reinforcement learning needs.\n",
    "\n",
    "For example, you can define a custom reward factory as follows:"
   ]
  },
  {
   "cell_type": "code",
   "execution_count": 70,
   "metadata": {},
   "outputs": [],
   "source": [
    "from jobshoplab.env.factories.rewards import RewardFactory\n",
    "from jobshoplab.types import StateMachineResult\n",
    "\n",
    "\n",
    "class CustomRewardFactory(RewardFactory): # inherit from the abstract base class for the desired factory\n",
    "    # note: every ActionFactory takes 3 default arguments: loglevel, config and instance, additional arguments can be passed to the constructor\n",
    "    def __init__(\n",
    "        self, loglevel, config, instance, bias_a, bias_b, *args, **kwargs\n",
    "    ):  # add args and kwargs to the constructor as placeholders\n",
    "        self.test_var = super().__init__(\n",
    "            loglevel, config, instance\n",
    "        )  # call the parent constructor and pass the loglevel, config and instance\n",
    "        self.bias_a, self.bias_b = bias_a, bias_b\n",
    "\n",
    "    # the make method is called to create a reward (see the abstract base class RewardFactory)\n",
    "    def make(self, state_result: StateMachineResult, terminated: bool, truncated: bool) -> float:\n",
    "        if not terminated or truncated:\n",
    "            return self.bias_a\n",
    "        else:  # if done return a reward proportional to the time taken (makespan)\n",
    "            return self.bias_b * state_result.state.time.time\n",
    "\n",
    "    def __repr__(self) -> str:  # add a custom representation to the factory\n",
    "        return f\" CustomRewardFactory with bias_a: {self.bias_a}, bias_b: {self.bias_b}\"\n",
    "\n"
   ]
  },
  {
   "cell_type": "code",
   "execution_count": 71,
   "metadata": {},
   "outputs": [
    {
     "name": "stdout",
     "output_type": "stream",
     "text": [
      "Rewards: [0, 0, 0, 0, 0, 0, 0, 0, 0, 0, 0, 0, 0, 0, 0, 0, 0, 0, 0, 0, 0, 0, 0, 0, 0, 0, 0, 0, 0, 0, 0, 0, 0, 0, 0, 0, 0, 0, 0, 0, 0, 0, 0, 0, 0, 0, 0, 0, 0, 0, 0, 0, 0, 0, 0, 0, 0, 0, 0, 0, 0, 0, 0, 0, 0, 0, 0, 0, 0, 0, 0, 0, 0, 0, 94]\n"
     ]
    }
   ],
   "source": [
    "\n",
    "bias_a, bias_b = 0, 1\n",
    "reward_factory = partial(\n",
    "    CustomRewardFactory, bias_a=bias_a, bias_b=bias_b\n",
    ")  # pass additional arguments to the constructor using partial application\n",
    "env = JobShopLabEnv(config=config, reward_factory=reward_factory)\n",
    "assert env.reward_factory.bias_a == bias_a  # argument was passed correctly and is accessible\n",
    "\n",
    "## lets run a random env and track the rewards\n",
    "done = False\n",
    "rewards = []\n",
    "while not done:\n",
    "    action = env.action_space.sample()\n",
    "    obs, reward, truncated, terminated, info = env.step(action)\n",
    "    done = truncated or terminated\n",
    "    rewards.append(reward)\n",
    "\n",
    "print(f\"Rewards: {rewards}\")"
   ]
  },
  {
   "cell_type": "markdown",
   "metadata": {},
   "source": [
    "# Defining a Problem\n",
    "\n",
    "There are 3 ways of setting the Instance (Problem to solve)"
   ]
  },
  {
   "cell_type": "code",
   "execution_count": 72,
   "metadata": {},
   "outputs": [
    {
     "data": {
      "text/html": [
       "\n",
       "            <style>\n",
       "            div.output_area {\n",
       "                max-height: none !important;\n",
       "                overflow-y: visible !important;\n",
       "            }\n",
       "            </style>\n",
       "            "
      ],
      "text/plain": [
       "<IPython.core.display.HTML object>"
      ]
     },
     "metadata": {},
     "output_type": "display_data"
    },
    {
     "data": {
      "text/html": [
       "<svg id=\"mermaid-svg\" width=\"100%\" xmlns=\"http://www.w3.org/2000/svg\" class=\"flowchart\" style=\"max-width: 855.703125px;\" viewBox=\"0 -0.002391815185546875 855.703125 304.9928283691406\" role=\"graphics-document document\" aria-roledescription=\"flowchart-v2\" xmlns:xlink=\"http://www.w3.org/1999/xlink\"><style xmlns=\"http://www.w3.org/1999/xhtml\">@import url(\"https://cdnjs.cloudflare.com/ajax/libs/font-awesome/6.7.2/css/all.min.css\");</style><style>#mermaid-svg{font-family:\"trebuchet ms\",verdana,arial,sans-serif;font-size:16px;fill:#333;}#mermaid-svg .error-icon{fill:#552222;}#mermaid-svg .error-text{fill:#552222;stroke:#552222;}#mermaid-svg .edge-thickness-normal{stroke-width:1px;}#mermaid-svg .edge-thickness-thick{stroke-width:3.5px;}#mermaid-svg .edge-pattern-solid{stroke-dasharray:0;}#mermaid-svg .edge-thickness-invisible{stroke-width:0;fill:none;}#mermaid-svg .edge-pattern-dashed{stroke-dasharray:3;}#mermaid-svg .edge-pattern-dotted{stroke-dasharray:2;}#mermaid-svg .marker{fill:#333333;stroke:#333333;}#mermaid-svg .marker.cross{stroke:#333333;}#mermaid-svg svg{font-family:\"trebuchet ms\",verdana,arial,sans-serif;font-size:16px;}#mermaid-svg p{margin:0;}#mermaid-svg .label{font-family:\"trebuchet ms\",verdana,arial,sans-serif;color:#333;}#mermaid-svg .cluster-label text{fill:#333;}#mermaid-svg .cluster-label span{color:#333;}#mermaid-svg .cluster-label span p{background-color:transparent;}#mermaid-svg .label text,#mermaid-svg span{fill:#333;color:#333;}#mermaid-svg .node rect,#mermaid-svg .node circle,#mermaid-svg .node ellipse,#mermaid-svg .node polygon,#mermaid-svg .node path{fill:#ECECFF;stroke:#9370DB;stroke-width:1px;}#mermaid-svg .rough-node .label text,#mermaid-svg .node .label text,#mermaid-svg .image-shape .label,#mermaid-svg .icon-shape .label{text-anchor:middle;}#mermaid-svg .node .katex path{fill:#000;stroke:#000;stroke-width:1px;}#mermaid-svg .rough-node .label,#mermaid-svg .node .label,#mermaid-svg .image-shape .label,#mermaid-svg .icon-shape .label{text-align:center;}#mermaid-svg .node.clickable{cursor:pointer;}#mermaid-svg .root .anchor path{fill:#333333!important;stroke-width:0;stroke:#333333;}#mermaid-svg .arrowheadPath{fill:#333333;}#mermaid-svg .edgePath .path{stroke:#333333;stroke-width:2.0px;}#mermaid-svg .flowchart-link{stroke:#333333;fill:none;}#mermaid-svg .edgeLabel{background-color:rgba(232,232,232, 0.8);text-align:center;}#mermaid-svg .edgeLabel p{background-color:rgba(232,232,232, 0.8);}#mermaid-svg .edgeLabel rect{opacity:0.5;background-color:rgba(232,232,232, 0.8);fill:rgba(232,232,232, 0.8);}#mermaid-svg .labelBkg{background-color:rgba(232, 232, 232, 0.5);}#mermaid-svg .cluster rect{fill:#ffffde;stroke:#aaaa33;stroke-width:1px;}#mermaid-svg .cluster text{fill:#333;}#mermaid-svg .cluster span{color:#333;}#mermaid-svg div.mermaidTooltip{position:absolute;text-align:center;max-width:200px;padding:2px;font-family:\"trebuchet ms\",verdana,arial,sans-serif;font-size:12px;background:hsl(80, 100%, 96.2745098039%);border:1px solid #aaaa33;border-radius:2px;pointer-events:none;z-index:100;}#mermaid-svg .flowchartTitleText{text-anchor:middle;font-size:18px;fill:#333;}#mermaid-svg rect.text{fill:none;stroke-width:0;}#mermaid-svg .icon-shape,#mermaid-svg .image-shape{background-color:rgba(232,232,232, 0.8);text-align:center;}#mermaid-svg .icon-shape p,#mermaid-svg .image-shape p{background-color:rgba(232,232,232, 0.8);padding:2px;}#mermaid-svg .icon-shape rect,#mermaid-svg .image-shape rect{opacity:0.5;background-color:rgba(232,232,232, 0.8);fill:rgba(232,232,232, 0.8);}#mermaid-svg :root{--mermaid-font-family:\"trebuchet ms\",verdana,arial,sans-serif;}#mermaid-svg .Sky&gt;*{stroke-width:1px!important;stroke-dasharray:none!important;stroke:#374D7C!important;fill:#E2EBFF!important;color:#374D7C!important;}#mermaid-svg .Sky span{stroke-width:1px!important;stroke-dasharray:none!important;stroke:#374D7C!important;fill:#E2EBFF!important;color:#374D7C!important;}#mermaid-svg .Sky tspan{fill:#374D7C!important;}#mermaid-svg .Ash&gt;*{stroke-width:1px!important;stroke-dasharray:none!important;stroke:#999999!important;fill:#EEEEEE!important;color:#000000!important;}#mermaid-svg .Ash span{stroke-width:1px!important;stroke-dasharray:none!important;stroke:#999999!important;fill:#EEEEEE!important;color:#000000!important;}#mermaid-svg .Ash tspan{fill:#000000!important;}</style><g><marker id=\"mermaid-svg_flowchart-v2-pointEnd\" class=\"marker flowchart-v2\" viewBox=\"0 0 10 10\" refX=\"5\" refY=\"5\" markerUnits=\"userSpaceOnUse\" markerWidth=\"8\" markerHeight=\"8\" orient=\"auto\"><path d=\"M 0 0 L 10 5 L 0 10 z\" class=\"arrowMarkerPath\" style=\"stroke-width: 1; stroke-dasharray: 1, 0;\"/></marker><marker id=\"mermaid-svg_flowchart-v2-pointStart\" class=\"marker flowchart-v2\" viewBox=\"0 0 10 10\" refX=\"4.5\" refY=\"5\" markerUnits=\"userSpaceOnUse\" markerWidth=\"8\" markerHeight=\"8\" orient=\"auto\"><path d=\"M 0 5 L 10 10 L 10 0 z\" class=\"arrowMarkerPath\" style=\"stroke-width: 1; stroke-dasharray: 1, 0;\"/></marker><marker id=\"mermaid-svg_flowchart-v2-circleEnd\" class=\"marker flowchart-v2\" viewBox=\"0 0 10 10\" refX=\"11\" refY=\"5\" markerUnits=\"userSpaceOnUse\" markerWidth=\"11\" markerHeight=\"11\" orient=\"auto\"><circle cx=\"5\" cy=\"5\" r=\"5\" class=\"arrowMarkerPath\" style=\"stroke-width: 1; stroke-dasharray: 1, 0;\"/></marker><marker id=\"mermaid-svg_flowchart-v2-circleStart\" class=\"marker flowchart-v2\" viewBox=\"0 0 10 10\" refX=\"-1\" refY=\"5\" markerUnits=\"userSpaceOnUse\" markerWidth=\"11\" markerHeight=\"11\" orient=\"auto\"><circle cx=\"5\" cy=\"5\" r=\"5\" class=\"arrowMarkerPath\" style=\"stroke-width: 1; stroke-dasharray: 1, 0;\"/></marker><marker id=\"mermaid-svg_flowchart-v2-crossEnd\" class=\"marker cross flowchart-v2\" viewBox=\"0 0 11 11\" refX=\"12\" refY=\"5.2\" markerUnits=\"userSpaceOnUse\" markerWidth=\"11\" markerHeight=\"11\" orient=\"auto\"><path d=\"M 1,1 l 9,9 M 10,1 l -9,9\" class=\"arrowMarkerPath\" style=\"stroke-width: 2; stroke-dasharray: 1, 0;\"/></marker><marker id=\"mermaid-svg_flowchart-v2-crossStart\" class=\"marker cross flowchart-v2\" viewBox=\"0 0 11 11\" refX=\"-1\" refY=\"5.2\" markerUnits=\"userSpaceOnUse\" markerWidth=\"11\" markerHeight=\"11\" orient=\"auto\"><path d=\"M 1,1 l 9,9 M 10,1 l -9,9\" class=\"arrowMarkerPath\" style=\"stroke-width: 2; stroke-dasharray: 1, 0;\"/></marker><g class=\"root\"><g class=\"clusters\"/><g class=\"edgePaths\"><path d=\"M112.188,42.248L120.549,42.164C128.911,42.081,145.635,41.914,159.202,41.831C172.768,41.748,183.177,41.748,188.382,41.748L193.586,41.748\" id=\"L_A_D_0\" class=\" edge-thickness-normal edge-pattern-solid edge-thickness-normal edge-pattern-solid flowchart-link\" style=\"\" marker-end=\"url(#mermaid-svg_flowchart-v2-pointEnd)\"/><path d=\"M318.945,41.748L324.816,41.748C330.688,41.748,342.43,41.748,361.142,56.33C379.855,70.912,405.537,100.076,418.379,114.659L431.22,129.241\" id=\"L_D_G_1\" class=\" edge-thickness-normal edge-pattern-solid edge-thickness-normal edge-pattern-solid flowchart-link\" style=\"\" marker-end=\"url(#mermaid-svg_flowchart-v2-pointEnd)\"/><path d=\"M536.109,159.243L540.276,159.243C544.443,159.243,552.776,159.243,560.443,159.243C568.109,159.243,575.109,159.243,578.609,159.243L582.109,159.243\" id=\"L_G_H_2\" class=\" edge-thickness-normal edge-pattern-solid edge-thickness-normal edge-pattern-solid flowchart-link\" style=\"\" marker-end=\"url(#mermaid-svg_flowchart-v2-pointEnd)\"/><path d=\"M118.867,159.743L126.116,159.659C133.365,159.576,147.862,159.409,159.202,159.326C170.542,159.243,178.724,159.243,182.815,159.243L186.906,159.243\" id=\"L_B_E_3\" class=\" edge-thickness-normal edge-pattern-solid edge-thickness-normal edge-pattern-solid flowchart-link\" style=\"\" marker-end=\"url(#mermaid-svg_flowchart-v2-pointEnd)\"/><path d=\"M325.625,159.243L330.383,159.243C335.141,159.243,344.656,159.243,352.914,159.243C361.172,159.243,368.172,159.243,371.672,159.243L375.172,159.243\" id=\"L_E_G_4\" class=\" edge-thickness-normal edge-pattern-solid edge-thickness-normal edge-pattern-solid flowchart-link\" style=\"\" marker-end=\"url(#mermaid-svg_flowchart-v2-pointEnd)\"/><path d=\"M137.359,269.99L141.526,269.99C145.693,269.99,154.026,269.99,161.693,269.99C169.359,269.99,176.359,269.99,179.859,269.99L183.359,269.99\" id=\"L_C_F_5\" class=\" edge-thickness-normal edge-pattern-solid edge-thickness-normal edge-pattern-solid flowchart-link\" style=\"\" marker-end=\"url(#mermaid-svg_flowchart-v2-pointEnd)\"/><path d=\"M329.172,269.99L333.339,269.99C337.505,269.99,345.839,269.99,362.591,256.52C379.343,243.049,404.514,216.107,417.099,202.636L429.684,189.166\" id=\"L_F_G_6\" class=\" edge-thickness-normal edge-pattern-solid edge-thickness-normal edge-pattern-solid flowchart-link\" style=\"\" marker-end=\"url(#mermaid-svg_flowchart-v2-pointEnd)\"/><path d=\"M710.125,159.243L714.292,159.243C718.458,159.243,726.792,159.243,734.458,159.243C742.125,159.243,749.125,159.243,752.625,159.243L756.125,159.243\" id=\"L_H_I_7\" class=\" edge-thickness-normal edge-pattern-solid edge-thickness-normal edge-pattern-solid flowchart-link\" style=\"\" marker-end=\"url(#mermaid-svg_flowchart-v2-pointEnd)\"/></g><g class=\"edgeLabels\"><g class=\"edgeLabel\"><g class=\"label\" transform=\"translate(0, 0)\"><foreignObject width=\"0\" height=\"0\"><div xmlns=\"http://www.w3.org/1999/xhtml\" class=\"labelBkg\" style=\"display: table-cell; white-space: nowrap; line-height: 1.5; max-width: 200px; text-align: center;\"><span class=\"edgeLabel \"></span></div></foreignObject></g></g><g class=\"edgeLabel\"><g class=\"label\" transform=\"translate(0, 0)\"><foreignObject width=\"0\" height=\"0\"><div xmlns=\"http://www.w3.org/1999/xhtml\" class=\"labelBkg\" style=\"display: table-cell; white-space: nowrap; line-height: 1.5; max-width: 200px; text-align: center;\"><span class=\"edgeLabel \"></span></div></foreignObject></g></g><g class=\"edgeLabel\"><g class=\"label\" transform=\"translate(0, 0)\"><foreignObject width=\"0\" height=\"0\"><div xmlns=\"http://www.w3.org/1999/xhtml\" class=\"labelBkg\" style=\"display: table-cell; white-space: nowrap; line-height: 1.5; max-width: 200px; text-align: center;\"><span class=\"edgeLabel \"></span></div></foreignObject></g></g><g class=\"edgeLabel\"><g class=\"label\" transform=\"translate(0, 0)\"><foreignObject width=\"0\" height=\"0\"><div xmlns=\"http://www.w3.org/1999/xhtml\" class=\"labelBkg\" style=\"display: table-cell; white-space: nowrap; line-height: 1.5; max-width: 200px; text-align: center;\"><span class=\"edgeLabel \"></span></div></foreignObject></g></g><g class=\"edgeLabel\"><g class=\"label\" transform=\"translate(0, 0)\"><foreignObject width=\"0\" height=\"0\"><div xmlns=\"http://www.w3.org/1999/xhtml\" class=\"labelBkg\" style=\"display: table-cell; white-space: nowrap; line-height: 1.5; max-width: 200px; text-align: center;\"><span class=\"edgeLabel \"></span></div></foreignObject></g></g><g class=\"edgeLabel\"><g class=\"label\" transform=\"translate(0, 0)\"><foreignObject width=\"0\" height=\"0\"><div xmlns=\"http://www.w3.org/1999/xhtml\" class=\"labelBkg\" style=\"display: table-cell; white-space: nowrap; line-height: 1.5; max-width: 200px; text-align: center;\"><span class=\"edgeLabel \"></span></div></foreignObject></g></g><g class=\"edgeLabel\"><g class=\"label\" transform=\"translate(0, 0)\"><foreignObject width=\"0\" height=\"0\"><div xmlns=\"http://www.w3.org/1999/xhtml\" class=\"labelBkg\" style=\"display: table-cell; white-space: nowrap; line-height: 1.5; max-width: 200px; text-align: center;\"><span class=\"edgeLabel \"></span></div></foreignObject></g></g><g class=\"edgeLabel\"><g class=\"label\" transform=\"translate(0, 0)\"><foreignObject width=\"0\" height=\"0\"><div xmlns=\"http://www.w3.org/1999/xhtml\" class=\"labelBkg\" style=\"display: table-cell; white-space: nowrap; line-height: 1.5; max-width: 200px; text-align: center;\"><span class=\"edgeLabel \"></span></div></foreignObject></g></g></g><g class=\"nodes\"><g class=\"node default Sky Ash \" id=\"flowchart-A-0\" transform=\"translate(72.6796875, 41.74760818481445)\"><g class=\"basic label-container\" transform=\"translate(0,-3.375)\"><path d=\"M-39.0078125 30.375 C-39.0078125 30.375, -39.0078125 30.375, -39.0078125 30.375 C-38.600643520777005 30.55178073762532, -38.19347454155401 30.728561475250643, -37.4475 31.0524415752457 C-37.011490792912326 31.239832319168517, -36.57548158582466 31.427223063091333, -35.8871875 31.723042368472246 C-35.549021228747144 31.865431336126697, -35.210854957494284 32.007820303781145, -34.326875 32.38003067564499 C-33.85288004750729 32.57346134599606, -33.37888509501459 32.766892016347136, -32.7665625 33.01677225115112 C-32.229988901052934 33.22656663461775, -31.693415302105866 33.436361018084376, -31.20625 33.62683730018658 C-30.687987611921454 33.81856531422145, -30.16972522384291 34.01029332825632, -29.645937500000002 34.20406540660561 C-29.289597255023107 34.327060918100045, -28.933257010046216 34.450056429594476, -28.085625 34.74262774059375 C-27.568890821120814 34.90637919441386, -27.052156642241627 35.07013064823397, -26.5253125 35.23708591799337 C-26.19899165454208 35.33022788648009, -25.872670809084163 35.4233698549668, -24.965 35.682446916922174 C-24.51682287844849 35.79497618156722, -24.06864575689698 35.90750544621227, -23.4046875 36.0742134971386 C-22.973787573400973 36.16651148219092, -22.542887646801944 36.258809467243246, -21.844375 36.40842961302103 C-21.422993232111423 36.48223517362268, -21.001611464222847 36.55604073422434, -20.2840625 36.68172036158213 C-19.793392613721586 36.747634853229464, -19.30272272744317 36.8135493448768, -18.72375 36.8913260621246 C-18.310953006867496 36.92937093076214, -17.898156013734997 36.967415799399674, -17.163437499999997 37.03513012340311 C-16.82255238938004 37.051854244541374, -16.481667278760085 37.06857836567964, -15.603125000000002 37.111680416890835 C-14.981208848649707 37.11507775998043, -14.359292697299411 37.118475103070026, -14.0428125 37.120203940323975 C-13.424856367555085 37.09660380651168, -12.80690023511017 37.073003672699386, -12.482499999999998 37.060614623452395 C-12.077784393407091 37.027647172304334, -11.673068786814184 36.994679721156274, -10.9221875 36.93351419717405 C-10.454285778218955 36.87553956616101, -9.986384056437908 36.81756493514797, -9.361875000000001 36.740186117276835 C-8.899406408257743 36.66383376225459, -8.436937816515485 36.587481407232346, -7.801562499999999 36.482582604145634 C-7.270133823103452 36.37383944384792, -6.738705146206904 36.265096283550214, -6.241250000000001 36.16330492930715 C-5.81008421096533 36.05892628918215, -5.378918421930659 35.954547649057155, -4.680937499999999 35.78557714787841 C-4.259800161149645 35.66887971814894, -3.838662822299292 35.55218228841947, -3.120624999999997 35.35321354216767 C-2.6680298780184564 35.21321752259771, -2.215434756036916 35.07322150302774, -1.560312500000002 34.870580105181205 C-1.0042572089116817 34.68240390204162, -0.4482019178233616 34.49422769890204, 0 34.342550452974194 C0.5887059666017421 34.128208624439495, 1.1774119332034843 33.913866795904795, 1.560312500000002 33.77445661104139 C2.0905061067635087 33.56975403017147, 2.6206997135270154 33.365051449301546, 3.120625000000004 33.17203517170467 C3.6546071369747217 32.95620387217911, 4.1885892739494395 32.74037257265355, 4.680937500000006 32.541369366198666 C5.267850178992501 32.29591532107268, 5.854762857984996 32.05046127594668, 6.241249999999994 31.888827636408326 C6.787189329146485 31.655160509173147, 7.333128658292976 31.421493381937964, 7.801562499999996 31.22099932655906 C8.378720537320518 30.970810300908127, 8.955878574641039 30.720621275257198, 9.361874999999998 30.54462814424253 C9.691172559034651 30.401521277588145, 10.020470118069305 30.25841441093376, 10.9221875 29.866544062686458 C11.2345504726864 29.73182452917991, 11.546913445372802 29.597104995673362, 12.482500000000002 29.19359435191689 C12.899304027025828 29.01701705524864, 13.316108054051654 28.84043975858039, 14.042812500000004 28.532574435258056 C14.410334604326591 28.381257456373763, 14.777856708653179 28.22994047748947, 15.603124999999999 27.890159269378426 C15.993980448144644 27.73552089646292, 16.38483589628929 27.580882523547412, 17.1634375 27.272835940804956 C17.67604231357782 27.08031983687036, 18.18864712715564 26.88780373293576, 18.723750000000003 26.686838159543683 C19.316398921005238 26.47840621484334, 19.90904784201047 26.269974270142995, 20.284062499999997 26.138083311287776 C20.792027302012002 25.973362936730066, 21.29999210402401 25.808642562172356, 21.844375 25.632112703857768 C22.25717582824906 25.510922491496547, 22.669976656498125 25.389732279135327, 23.4046875 25.174035611263427 C23.779496567825827 25.076614876631297, 24.154305635651653 24.979194141999166, 24.964999999999996 24.76847768042827 C25.50208238706194 24.648366237472814, 26.039164774123883 24.528254794517355, 26.5253125 24.419534221564067 C26.847465645891564 24.359905424285415, 27.16961879178313 24.30027662700676, 28.085624999999993 24.13072885386741 C28.64150553138764 24.050302306760866, 29.197386062775287 23.96987575965432, 29.645937500000002 23.904977924132712 C29.972160634078186 23.87143868570106, 30.298383768156373 23.837899447269407, 31.206249999999997 23.744561057581354 C31.647884612763733 23.718107087513282, 32.08951922552747 23.69165311744521, 32.766562500000006 23.651098138283587 C33.29982696281024 23.64236078244587, 33.83309142562048 23.63362342660815, 34.326875 23.62553295162424 C34.681202838045564 23.635204777934728, 35.03553067609113 23.644876604245216, 35.887187499999996 23.668123653989944 C36.23153153132523 23.692469310669555, 36.575875562650474 23.71681496734917, 37.447500000000005 23.778440165914695 C37.88107866930124 23.827604905773804, 38.31465733860247 23.876769645632912, 39.0078125 23.955368515007713 C39.0078125 4.509855099787764, 39.0078125 -14.935658315432185, 39.0078125 -30.375 C15.509203257947394 -30.375, -7.989405984105211 -30.375, -39.0078125 -30.375 C-39.0078125 -11.94718679728463, -39.0078125 6.4806264054307405, -39.0078125 30.375\" stroke=\"none\" stroke-width=\"0\" fill=\"#EEEEEE\" style=\"stroke-width:1px !important;stroke-dasharray:none !important;stroke:#999999 !important;fill:#EEEEEE !important\"/><path d=\"M-39.0078125 30.375 C-39.0078125 30.375, -39.0078125 30.375, -39.0078125 30.375 M-39.0078125 30.375 C-39.0078125 30.375, -39.0078125 30.375, -39.0078125 30.375 M-39.0078125 30.375 C-38.68117859053872 30.5168147904052, -38.35454468107744 30.658629580810395, -37.4475 31.0524415752457 M-39.0078125 30.375 C-38.469015877155556 30.608929570465406, -37.93021925431111 30.842859140930813, -37.4475 31.0524415752457 M-37.4475 31.0524415752457 C-37.100351688450154 31.201641131804138, -36.75320337690031 31.35084068836257, -35.8871875 31.723042368472246 M-37.4475 31.0524415752457 C-37.067238284976085 31.215872815929043, -36.686976569952165 31.379304056612384, -35.8871875 31.723042368472246 M-35.8871875 31.723042368472246 C-35.47918718555384 31.89483579825886, -35.071186871107685 32.06662922804548, -34.326875 32.38003067564499 M-35.8871875 31.723042368472246 C-35.44952911090737 31.907323686586352, -35.01187072181474 32.09160500470046, -34.326875 32.38003067564499 M-34.326875 32.38003067564499 C-33.88858082409847 32.558892361428256, -33.45028664819694 32.73775404721152, -32.7665625 33.01677225115112 M-34.326875 32.38003067564499 C-33.820257435412174 32.58677417494704, -33.31363987082434 32.79351767424909, -32.7665625 33.01677225115112 M-32.7665625 33.01677225115112 C-32.24390124069145 33.221127062632156, -31.721239981382904 33.42548187411319, -31.20625 33.62683730018658 M-32.7665625 33.01677225115112 C-32.19197993576382 33.24142772255551, -31.617397371527645 33.4660831939599, -31.20625 33.62683730018658 M-31.20625 33.62683730018658 C-30.59604898306129 33.85257745002355, -29.98584796612258 34.07831759986052, -29.645937500000002 34.20406540660561 M-31.20625 33.62683730018658 C-30.804429063293522 33.77548850846351, -30.40260812658704 33.92413971674045, -29.645937500000002 34.20406540660561 M-29.645937500000002 34.20406540660561 C-29.28942664105421 34.32711980775023, -28.932915782108413 34.45017420889484, -28.085625 34.74262774059375 M-29.645937500000002 34.20406540660561 C-29.25397527624822 34.339356311510194, -28.862013052496433 34.47464721641479, -28.085625 34.74262774059375 M-28.085625 34.74262774059375 C-27.68729210994557 34.86885819431032, -27.288959219891144 34.995088648026886, -26.5253125 35.23708591799337 M-28.085625 34.74262774059375 C-27.57177339237102 34.905465716551824, -27.057921784742046 35.06830369250991, -26.5253125 35.23708591799337 M-26.5253125 35.23708591799337 C-26.139220272956734 35.34728847031198, -25.75312804591347 35.45749102263059, -24.965 35.682446916922174 M-26.5253125 35.23708591799337 C-25.907876800498705 35.41332098622759, -25.29044110099741 35.5895560544618, -24.965 35.682446916922174 M-24.965 35.682446916922174 C-24.56201409120515 35.78362947577751, -24.159028182410303 35.884812034632844, -23.4046875 36.0742134971386 M-24.965 35.682446916922174 C-24.603687425954767 35.77316604627793, -24.24237485190953 35.863885175633676, -23.4046875 36.0742134971386 M-23.4046875 36.0742134971386 C-22.925219197667378 36.176914740443614, -22.445750895334754 36.27961598374862, -21.844375 36.40842961302103 M-23.4046875 36.0742134971386 C-22.904195928785946 36.18141788662023, -22.403704357571886 36.28862227610186, -21.844375 36.40842961302103 M-21.844375 36.40842961302103 C-21.343402819565327 36.49617553712231, -20.84243063913065 36.58392146122359, -20.2840625 36.68172036158213 M-21.844375 36.40842961302103 C-21.411013799485982 36.484333386711114, -20.977652598971964 36.5602371604012, -20.2840625 36.68172036158213 M-20.2840625 36.68172036158213 C-19.84782038347563 36.74032325968121, -19.411578266951256 36.798926157780286, -18.72375 36.8913260621246 M-20.2840625 36.68172036158213 C-19.68021463455177 36.76283869836297, -19.076366769103537 36.8439570351438, -18.72375 36.8913260621246 M-18.72375 36.8913260621246 C-18.19311638877362 36.94023118103202, -17.662482777547243 36.98913629993944, -17.163437499999997 37.03513012340311 M-18.72375 36.8913260621246 C-18.203022872526205 36.93931816354571, -17.682295745052407 36.987310264966816, -17.163437499999997 37.03513012340311 M-17.163437499999997 37.03513012340311 C-16.571114651107067 37.064189999499874, -15.978791802214138 37.09324987559665, -15.603125000000002 37.111680416890835 M-17.163437499999997 37.03513012340311 C-16.700830625468566 37.057826020548596, -16.23822375093713 37.080521917694085, -15.603125000000002 37.111680416890835 M-15.603125000000002 37.111680416890835 C-15.094709301258796 37.1144577407423, -14.586293602517589 37.11723506459378, -14.0428125 37.120203940323975 M-15.603125000000002 37.111680416890835 C-15.198997807996795 37.11388804362651, -14.794870615993588 37.116095670362185, -14.0428125 37.120203940323975 M-14.0428125 37.120203940323975 C-13.721607356248912 37.107936913627874, -13.400402212497823 37.095669886931766, -12.482499999999998 37.060614623452395 M-14.0428125 37.120203940323975 C-13.443807247384306 37.09732755254534, -12.844801994768613 37.0744511647667, -12.482499999999998 37.060614623452395 M-12.482499999999998 37.060614623452395 C-12.123734874225452 37.03139022102035, -11.764969748450904 37.0021658185883, -10.9221875 36.93351419717405 M-12.482499999999998 37.060614623452395 C-11.89881278608638 37.01306844683608, -11.31512557217276 36.965522270219765, -10.9221875 36.93351419717405 M-10.9221875 36.93351419717405 C-10.550941063786977 36.88751548814509, -10.179694627573955 36.841516779116134, -9.361875000000001 36.740186117276835 M-10.9221875 36.93351419717405 C-10.403381703309229 36.86923237637612, -9.884575906618457 36.80495055557819, -9.361875000000001 36.740186117276835 M-9.361875000000001 36.740186117276835 C-8.838080620034598 36.65370903500167, -8.314286240069194 36.56723195272651, -7.801562499999999 36.482582604145634 M-9.361875000000001 36.740186117276835 C-8.929559700097743 36.668811991878755, -8.497244400195482 36.597437866480675, -7.801562499999999 36.482582604145634 M-7.801562499999999 36.482582604145634 C-7.186878993142992 36.356803492056954, -6.572195486285985 36.231024379968275, -6.241250000000001 36.16330492930715 M-7.801562499999999 36.482582604145634 C-7.292522994403725 36.37842080979501, -6.78348348880745 36.274259015444386, -6.241250000000001 36.16330492930715 M-6.241250000000001 36.16330492930715 C-5.671490956675379 36.02537498297655, -5.101731913350759 35.88744503664594, -4.680937499999999 35.78557714787841 M-6.241250000000001 36.16330492930715 C-5.88491211734161 36.07704098035105, -5.5285742346832185 35.99077703139495, -4.680937499999999 35.78557714787841 M-4.680937499999999 35.78557714787841 C-4.122455176336328 35.63082133378032, -3.5639728526726575 35.476065519682216, -3.120624999999997 35.35321354216767 M-4.680937499999999 35.78557714787841 C-4.088717243747075 35.62147253077866, -3.496496987494151 35.457367913678915, -3.120624999999997 35.35321354216767 M-3.120624999999997 35.35321354216767 C-2.54411125060308 35.1748872053977, -1.9675975012061635 34.99656086862774, -1.560312500000002 34.870580105181205 M-3.120624999999997 35.35321354216767 C-2.7871188996217415 35.25005395363556, -2.453612799243486 35.14689436510345, -1.560312500000002 34.870580105181205 M-1.560312500000002 34.870580105181205 C-1.1238071262157152 34.722861118948764, -0.6873017524314283 34.57514213271632, 0 34.342550452974194 M-1.560312500000002 34.870580105181205 C-0.9367067567632502 34.65954396741034, -0.31310101352649844 34.44850782963948, 0 34.342550452974194 M0 34.342550452974194 C0.4590315728134128 34.17542174653364, 0.9180631456268256 34.00829304009308, 1.560312500000002 33.77445661104139 M0 34.342550452974194 C0.49092266925501493 34.16381052410162, 0.9818453385100299 33.98507059522905, 1.560312500000002 33.77445661104139 M1.560312500000002 33.77445661104139 C2.0837868818969847 33.57234825736334, 2.607261263793967 33.370239903685295, 3.120625000000004 33.17203517170467 M1.560312500000002 33.77445661104139 C2.121659222046312 33.557726116180845, 2.683005944092623 33.34099562132031, 3.120625000000004 33.17203517170467 M3.120625000000004 33.17203517170467 C3.6410124181753316 32.96169874854666, 4.161399836350659 32.75136232538865, 4.680937500000006 32.541369366198666 M3.120625000000004 33.17203517170467 C3.6102428959490975 32.9741355427913, 4.099860791898191 32.77623591387793, 4.680937500000006 32.541369366198666 M4.680937500000006 32.541369366198666 C5.241969441405395 32.30673896138405, 5.803001382810785 32.07210855656943, 6.241249999999994 31.888827636408326 M4.680937500000006 32.541369366198666 C5.056547761205032 32.384284570958144, 5.432158022410056 32.227199775717615, 6.241249999999994 31.888827636408326 M6.241249999999994 31.888827636408326 C6.794542523252402 31.652013273480456, 7.347835046504811 31.415198910552586, 7.801562499999996 31.22099932655906 M6.241249999999994 31.888827636408326 C6.72414427227598 31.682144381810314, 7.207038544551967 31.4754611272123, 7.801562499999996 31.22099932655906 M7.801562499999996 31.22099932655906 C8.323319433763187 30.99482581697604, 8.845076367526378 30.76865230739302, 9.361874999999998 30.54462814424253 M7.801562499999996 31.22099932655906 C8.231568021975946 31.034598625865122, 8.661573543951896 30.848197925171185, 9.361874999999998 30.54462814424253 M9.361874999999998 30.54462814424253 C9.797017938522346 30.355522756819475, 10.232160877044697 30.166417369396417, 10.9221875 29.866544062686458 M9.361874999999998 30.54462814424253 C9.935165183651119 30.2954864193341, 10.508455367302242 30.046344694425674, 10.9221875 29.866544062686458 M10.9221875 29.866544062686458 C11.491089186620568 29.62118153084259, 12.059990873241137 29.375818998998728, 12.482500000000002 29.19359435191689 M10.9221875 29.866544062686458 C11.32213731763758 29.694049056653018, 11.72208713527516 29.521554050619578, 12.482500000000002 29.19359435191689 M12.482500000000002 29.19359435191689 C13.043576893716265 28.95589645388459, 13.60465378743253 28.71819855585229, 14.042812500000004 28.532574435258056 M12.482500000000002 29.19359435191689 C12.94484518725169 28.99772373167593, 13.407190374503381 28.80185311143497, 14.042812500000004 28.532574435258056 M14.042812500000004 28.532574435258056 C14.657558979120406 28.27946971337827, 15.272305458240808 28.026364991498486, 15.603124999999999 27.890159269378426 M14.042812500000004 28.532574435258056 C14.422231796989037 28.376359119022915, 14.801651093978071 28.220143802787774, 15.603124999999999 27.890159269378426 M15.603124999999999 27.890159269378426 C16.204673223428895 27.65216223251268, 16.80622144685779 27.414165195646934, 17.1634375 27.272835940804956 M15.603124999999999 27.890159269378426 C15.958332114548348 27.749624832664008, 16.313539229096698 27.609090395949593, 17.1634375 27.272835940804956 M17.1634375 27.272835940804956 C17.678181387277572 27.07951647700366, 18.192925274555144 26.886197013202363, 18.723750000000003 26.686838159543683 M17.1634375 27.272835940804956 C17.58998556821329 27.11263968423823, 18.016533636426583 26.952443427671504, 18.723750000000003 26.686838159543683 M18.723750000000003 26.686838159543683 C19.221533152927403 26.511770076355845, 19.719316305854804 26.336701993168006, 20.284062499999997 26.138083311287776 M18.723750000000003 26.686838159543683 C19.26867779337537 26.495189519566672, 19.81360558675074 26.303540879589665, 20.284062499999997 26.138083311287776 M20.284062499999997 26.138083311287776 C20.677702373345245 26.010435672865878, 21.07134224669049 25.882788034443983, 21.844375 25.632112703857768 M20.284062499999997 26.138083311287776 C20.74034590214059 25.99012193166587, 21.19662930428118 25.842160552043964, 21.844375 25.632112703857768 M21.844375 25.632112703857768 C22.3119734053506 25.494834999535875, 22.7795718107012 25.357557295213983, 23.4046875 25.174035611263427 M21.844375 25.632112703857768 C22.465532184815178 25.44975315904593, 23.08668936963036 25.26739361423409, 23.4046875 25.174035611263427 M23.4046875 25.174035611263427 C23.98494746173682 25.023213882008246, 24.56520742347364 24.87239215275307, 24.964999999999996 24.76847768042827 M23.4046875 25.174035611263427 C23.852447163085728 25.05765348750777, 24.300206826171454 24.94127136375212, 24.964999999999996 24.76847768042827 M24.964999999999996 24.76847768042827 C25.421592478477045 24.666366751539883, 25.878184956954097 24.564255822651496, 26.5253125 24.419534221564067 M24.964999999999996 24.76847768042827 C25.34960157921045 24.68246657346455, 25.734203158420904 24.596455466500828, 26.5253125 24.419534221564067 M26.5253125 24.419534221564067 C26.89768401604374 24.35061027677046, 27.270055532087486 24.281686331976854, 28.085624999999993 24.13072885386741 M26.5253125 24.419534221564067 C26.869680247098486 24.355793622277933, 27.214047994196978 24.292053022991794, 28.085624999999993 24.13072885386741 M28.085624999999993 24.13072885386741 C28.65187936535255 24.048801387770286, 29.2181337307051 23.966873921673162, 29.645937500000002 23.904977924132712 M28.085624999999993 24.13072885386741 C28.549609818740645 24.063598068070664, 29.0135946374813 23.996467282273915, 29.645937500000002 23.904977924132712 M29.645937500000002 23.904977924132712 C29.98128554054616 23.870500547409424, 30.31663358109232 23.83602317068614, 31.206249999999997 23.744561057581354 M29.645937500000002 23.904977924132712 C30.127048359299792 23.855514565662723, 30.60815921859958 23.806051207192734, 31.206249999999997 23.744561057581354 M31.206249999999997 23.744561057581354 C31.67204546361338 23.71665984944198, 32.13784092722676 23.68875864130261, 32.766562500000006 23.651098138283587 M31.206249999999997 23.744561057581354 C31.62076138633102 23.719731772262765, 32.03527277266204 23.694902486944176, 32.766562500000006 23.651098138283587 M32.766562500000006 23.651098138283587 C33.21027257399879 23.643828100477435, 33.65398264799758 23.636558062671284, 34.326875 23.62553295162424 M32.766562500000006 23.651098138283587 C33.38114371927531 23.641028435202887, 33.995724938550616 23.630958732122192, 34.326875 23.62553295162424 M34.326875 23.62553295162424 C34.854937302282295 23.63994707978578, 35.382999604564596 23.65436120794732, 35.887187499999996 23.668123653989944 M34.326875 23.62553295162424 C34.79411175569878 23.638286769591016, 35.261348511397564 23.65104058755779, 35.887187499999996 23.668123653989944 M35.887187499999996 23.668123653989944 C36.35400415355692 23.7011283148696, 36.820820807113854 23.73413297574925, 37.447500000000005 23.778440165914695 M35.887187499999996 23.668123653989944 C36.31200344477081 23.698158799665656, 36.73681938954162 23.728193945341367, 37.447500000000005 23.778440165914695 M37.447500000000005 23.778440165914695 C37.88631369656028 23.828198520662102, 38.325127393120546 23.87795687540951, 39.0078125 23.955368515007713 M37.447500000000005 23.778440165914695 C37.81606170765532 23.82023244436812, 38.18462341531063 23.862024722821545, 39.0078125 23.955368515007713 M39.0078125 23.955368515007713 C39.0078125 12.195590072197055, 39.0078125 0.4358116293863965, 39.0078125 -30.375 M39.0078125 23.955368515007713 C39.0078125 8.010769883169736, 39.0078125 -7.93382874866824, 39.0078125 -30.375 M39.0078125 -30.375 C16.29571008639837 -30.375, -6.416392327203262 -30.375, -39.0078125 -30.375 M39.0078125 -30.375 C23.232919100698673 -30.375, 7.45802570139735 -30.375, -39.0078125 -30.375 M-39.0078125 -30.375 C-39.0078125 -15.777834201570451, -39.0078125 -1.1806684031409027, -39.0078125 30.375 M-39.0078125 -30.375 C-39.0078125 -14.188766673582869, -39.0078125 1.9974666528342624, -39.0078125 30.375\" stroke=\"#999999\" stroke-width=\"1\" fill=\"none\" style=\"stroke-width:1px !important;stroke-dasharray:none !important;stroke:#999999 !important;fill:#EEEEEE !important\"/></g><g class=\"label\" style=\"color:#000000 !important\" transform=\"translate(-24.0078125,-18.75)\"><rect/><foreignObject width=\"48.015625\" height=\"24\"><div style=\"color: rgb(0, 0, 0) !important; display: table-cell; white-space: nowrap; line-height: 1.5; max-width: 200px; text-align: center;\" xmlns=\"http://www.w3.org/1999/xhtml\"><span style=\"color:#000000 !important\" class=\"nodeLabel \"><p>Dsl file</p></span></div></foreignObject></g></g><g class=\"node default Sky Ash \" id=\"flowchart-D-1\" transform=\"translate(258.265625, 41.74760818481445)\"><rect class=\"basic label-container\" style=\"stroke-width:1px !important;stroke-dasharray:none !important;stroke:#999999 !important;fill:#EEEEEE !important\" x=\"-60.6796875\" y=\"-27\" width=\"121.359375\" height=\"54\"/><g class=\"label\" style=\"color:#000000 !important\" transform=\"translate(-30.6796875, -12)\"><rect/><foreignObject width=\"61.359375\" height=\"24\"><div style=\"color: rgb(0, 0, 0) !important; display: table-cell; white-space: nowrap; line-height: 1.5; max-width: 200px; text-align: center;\" xmlns=\"http://www.w3.org/1999/xhtml\"><span style=\"color:#000000 !important\" class=\"nodeLabel \"><p>DslRepo</p></span></div></foreignObject></g></g><g class=\"node default Sky Ash \" id=\"flowchart-G-3\" transform=\"translate(457.640625, 159.24282455444336)\"><rect class=\"basic label-container\" style=\"stroke-width:1px !important;stroke-dasharray:none !important;stroke:#999999 !important;fill:#EEEEEE !important\" x=\"-78.46875\" y=\"-27\" width=\"156.9375\" height=\"54\"/><g class=\"label\" style=\"color:#000000 !important\" transform=\"translate(-48.46875, -12)\"><rect/><foreignObject width=\"96.9375\" height=\"24\"><div style=\"color: rgb(0, 0, 0) !important; display: table-cell; white-space: nowrap; line-height: 1.5; max-width: 200px; text-align: center;\" xmlns=\"http://www.w3.org/1999/xhtml\"><span style=\"color:#000000 !important\" class=\"nodeLabel \"><p>AbstractRepo</p></span></div></foreignObject></g></g><g class=\"node default Sky Ash \" id=\"flowchart-H-5\" transform=\"translate(648.1171875, 159.24282455444336)\"><rect class=\"basic label-container\" style=\"stroke-width:1px !important;stroke-dasharray:none !important;stroke:#999999 !important;fill:#EEEEEE !important\" x=\"-62.0078125\" y=\"-27\" width=\"124.015625\" height=\"54\"/><g class=\"label\" style=\"color:#000000 !important\" transform=\"translate(-32.0078125, -12)\"><rect/><foreignObject width=\"64.015625\" height=\"24\"><div style=\"color: rgb(0, 0, 0) !important; display: table-cell; white-space: nowrap; line-height: 1.5; max-width: 200px; text-align: center;\" xmlns=\"http://www.w3.org/1999/xhtml\"><span style=\"color:#000000 !important\" class=\"nodeLabel \"><p>Compiler</p></span></div></foreignObject></g></g><g class=\"node default Sky Ash \" id=\"flowchart-B-6\" transform=\"translate(72.6796875, 159.24282455444336)\"><g class=\"basic label-container\" transform=\"translate(0,-3.375)\"><path d=\"M-45.6875 30.375 C-45.6875 30.375, -45.6875 30.375, -45.6875 30.375 C-45.24633623574543 30.538536347686968, -44.80517247149087 30.70207269537394, -43.86 31.0524415752457 C-43.415744611609206 31.215461009363366, -42.97148922321841 31.378480443481035, -42.0325 31.72304236847225 C-41.59961463506611 31.878665144454615, -41.166729270132215 32.03428792043698, -40.205 32.38003067564499 C-39.66491192986263 32.568209350715485, -39.12482385972526 32.75638802578598, -38.3775 33.01677225115112 C-37.85770893904324 33.190291462691896, -37.337917878086486 33.36381067423268, -36.55 33.62683730018658 C-36.16245748884194 33.74924519614972, -35.77491497768387 33.871653092112865, -34.7225 34.20406540660561 C-34.14306026790276 34.37482568815075, -33.563620535805526 34.54558596969589, -32.894999999999996 34.74262774059375 C-32.351628538566764 34.889645230318095, -31.80825707713353 35.03666272004244, -31.0675 35.23708591799337 C-30.51744293614194 35.37113459839155, -29.96738587228388 35.50518327878973, -29.240000000000002 35.682446916922174 C-28.583535070154575 35.82317524556653, -27.927070140309148 35.96390357421088, -27.412499999999998 36.0742134971386 C-26.736882403983742 36.19777152108518, -26.061264807967486 36.32132954503176, -25.585 36.40842961302103 C-25.07380139435405 36.48487604235092, -24.562602788708098 36.56132247168081, -23.7575 36.68172036158213 C-23.198691036244877 36.745813135490366, -22.639882072489755 36.8099059093986, -21.93 36.8913260621246 C-21.253634929051433 36.944548521281554, -20.577269858102866 36.9977709804385, -20.1025 37.03513012340311 C-19.44149913221282 37.06281811816357, -18.780498264425642 37.09050611292404, -18.275000000000002 37.111680416890835 C-17.703571166788507 37.11434558080342, -17.132142333577015 37.117010744716005, -16.447499999999998 37.120203940323975 C-15.883902479227716 37.101826708448, -15.320304958455436 37.083449476572035, -14.619999999999997 37.060614623452395 C-14.243909173421118 37.03445795895031, -13.867818346842238 37.00830129444824, -12.792500000000004 36.93351419717405 C-12.394456384133843 36.891405848079245, -11.996412768267682 36.84929749898445, -10.964999999999996 36.740186117276835 C-10.556284717242855 36.682573809365124, -10.147569434485714 36.62496150145341, -9.137499999999996 36.482582604145634 C-8.676632970259867 36.402065748514914, -8.21576594051974 36.32154889288419, -7.310000000000002 36.16330492930715 C-6.708497009760763 36.03897968168701, -6.106994019521524 35.91465443406686, -5.482500000000002 35.78557714787842 C-4.996789456297283 35.67066411805241, -4.511078912594565 35.5557510882264, -3.655000000000001 35.35321354216767 C-3.180662505303244 35.22794342706121, -2.706325010606487 35.10267331195476, -1.8275000000000006 34.8705801051812 C-1.4144239818893851 34.75122777348325, -1.00134796377877 34.6318754417853, 0 34.342550452974194 C0.6085259102081868 34.15338502356471, 1.2170518204163736 33.96421959415523, 1.8275000000000006 33.77445661104139 C2.366811464266579 33.596676699383785, 2.906122928533158 33.41889678772619, 3.655000000000001 33.17203517170467 C4.25963924642984 32.96337563824901, 4.864278492859679 32.75471610479335, 5.482500000000002 32.541369366198666 C5.993585411455801 32.35887713174615, 6.504670822911601 32.17638489729363, 7.309999999999995 31.888827636408326 C7.754718947726198 31.726312778286335, 8.199437895452402 31.563797920164347, 9.137499999999996 31.220999326559056 C9.545734887737877 31.069908594038058, 9.953969775475757 30.91881786151706, 10.964999999999996 30.54462814424253 C11.480606533131821 30.353315103223103, 11.996213066263648 30.162002062203673, 12.792500000000004 29.866544062686454 C13.292600947213534 29.682389322449556, 13.792701894427067 29.498234582212657, 14.620000000000005 29.193594351916886 C15.320888142981074 28.940078060885146, 16.021776285962144 28.6865617698534, 16.447500000000005 28.532574435258056 C16.81849092322394 28.402161195595816, 17.189481846447876 28.271747955933577, 18.275 27.890159269378426 C18.880392195347554 27.685659830185894, 19.485784390695112 27.48116039099336, 20.102499999999992 27.27283594080496 C20.484290926052587 27.150412610806324, 20.86608185210518 27.027989280807688, 21.929999999999993 26.686838159543687 C22.352442116715643 26.55998882457504, 22.774884233431294 26.433139489606393, 23.757500000000007 26.138083311287772 C24.288346106705536 25.991110656260876, 24.819192213411064 25.844138001233983, 25.585000000000008 25.632112703857764 C26.00884127466037 25.525873590961513, 26.43268254932073 25.419634478065262, 27.41250000000001 25.17403561126342 C27.81615984580251 25.084455610264843, 28.21981969160501 24.994875609266266, 29.239999999999995 24.76847768042827 C29.906652683186138 24.64118679499348, 30.57330536637228 24.513895909558695, 31.067499999999995 24.419534221564067 C31.688444109693673 24.32140454062335, 32.30938821938735 24.22327485968264, 32.894999999999996 24.13072885386741 C33.47297670324175 24.05933143765848, 34.05095340648351 23.98793402144955, 34.7225 23.904977924132716 C35.10416509774308 23.87147558812617, 35.48583019548616 23.83797325211962, 36.55 23.744561057581354 C37.203483008852146 23.711140302605262, 37.856966017704295 23.677719547629167, 38.3775 23.651098138283587 C38.77351382757041 23.645558238189732, 39.169527655140826 23.640018338095878, 40.205 23.62553295162424 C40.78287976326314 23.639000697178442, 41.36075952652629 23.652468442732644, 42.0325 23.668123653989944 C42.65927146811864 23.705958533408168, 43.28604293623728 23.743793412826392, 43.86 23.778440165914695 C44.571307838212824 23.84730502036718, 45.28261567642566 23.91616987481967, 45.6875 23.955368515007713 C45.6875 9.453034057531308, 45.6875 -5.049300399945096, 45.6875 -30.375 C20.161020577512037 -30.375, -5.365458844975926 -30.375, -45.6875 -30.375 C-45.6875 -11.541657623075217, -45.6875 7.291684753849566, -45.6875 30.375\" stroke=\"none\" stroke-width=\"0\" fill=\"#EEEEEE\" style=\"stroke-width:1px !important;stroke-dasharray:none !important;stroke:#999999 !important;fill:#EEEEEE !important\"/><path d=\"M-45.6875 30.375 C-45.6875 30.375, -45.6875 30.375, -45.6875 30.375 M-45.6875 30.375 C-45.6875 30.375, -45.6875 30.375, -45.6875 30.375 M-45.6875 30.375 C-45.03445157595383 30.617080521530813, -44.381403151907655 30.859161043061626, -43.86 31.0524415752457 M-45.6875 30.375 C-45.01378293236828 30.62474224435915, -44.340065864736566 30.8744844887183, -43.86 31.0524415752457 M-43.86 31.0524415752457 C-43.16347322252811 31.30803194978807, -42.466946445056216 31.563622324330442, -42.0325 31.72304236847225 M-43.86 31.0524415752457 C-43.299093981905415 31.258265936755837, -42.73818796381084 31.464090298265972, -42.0325 31.72304236847225 M-42.0325 31.72304236847225 C-41.545423187227726 31.89814703095452, -41.058346374455446 32.07325169343679, -40.205 32.38003067564499 M-42.0325 31.72304236847225 C-41.33409602355662 31.97411938418018, -40.635692047113245 32.22519639988811, -40.205 32.38003067564499 M-40.205 32.38003067564499 C-39.53909261025854 32.6120475951991, -38.87318522051709 32.84406451475322, -38.3775 33.01677225115112 M-40.205 32.38003067564499 C-39.80455012849787 32.51955630196044, -39.40410025699575 32.659081928275896, -38.3775 33.01677225115112 M-38.3775 33.01677225115112 C-37.83677392968427 33.19728009060497, -37.29604785936855 33.37778793005882, -36.55 33.62683730018658 M-38.3775 33.01677225115112 C-37.66656055895922 33.25410155619067, -36.95562111791844 33.49143086123023, -36.55 33.62683730018658 M-36.55 33.62683730018658 C-35.883241643283185 33.83743738975523, -35.216483286566366 34.04803747932388, -34.7225 34.20406540660561 M-36.55 33.62683730018658 C-36.16020217054323 33.749957553529164, -35.770404341086454 33.873077806871756, -34.7225 34.20406540660561 M-34.7225 34.20406540660561 C-33.994294058081316 34.41866693421368, -33.266088116162635 34.63326846182176, -32.894999999999996 34.74262774059375 M-34.7225 34.20406540660561 C-34.34790760899936 34.31445739149836, -33.97331521799872 34.42484937639111, -32.894999999999996 34.74262774059375 M-32.894999999999996 34.74262774059375 C-32.23937436689424 34.9200173195825, -31.58374873378848 35.09740689857126, -31.0675 35.23708591799337 M-32.894999999999996 34.74262774059375 C-32.268451266566 34.912150118041524, -31.641902533131997 35.08167249548931, -31.0675 35.23708591799337 M-31.0675 35.23708591799337 C-30.341404180505073 35.41403517079134, -29.615308361010143 35.59098442358931, -29.240000000000002 35.682446916922174 M-31.0675 35.23708591799337 C-30.53828780720647 35.366054711880004, -30.00907561441294 35.495023505766646, -29.240000000000002 35.682446916922174 M-29.240000000000002 35.682446916922174 C-28.618899430713107 35.81559408299605, -27.99779886142621 35.94874124906992, -27.412499999999998 36.0742134971386 M-29.240000000000002 35.682446916922174 C-28.66869255089718 35.80491978454854, -28.09738510179436 35.9273926521749, -27.412499999999998 36.0742134971386 M-27.412499999999998 36.0742134971386 C-26.747937389854275 36.1957497676303, -26.08337477970855 36.31728603812201, -25.585 36.40842961302103 M-27.412499999999998 36.0742134971386 C-26.95800970912869 36.15733140669881, -26.503519418257383 36.24044931625902, -25.585 36.40842961302103 M-25.585 36.40842961302103 C-24.857173957385346 36.5172712677452, -24.129347914770687 36.626112922469375, -23.7575 36.68172036158213 M-25.585 36.40842961302103 C-25.167515290522285 36.47086173820077, -24.750030581044573 36.533293863380514, -23.7575 36.68172036158213 M-23.7575 36.68172036158213 C-23.162188999327654 36.749999748360004, -22.566877998655308 36.81827913513788, -21.93 36.8913260621246 M-23.7575 36.68172036158213 C-23.34761628209272 36.72873210649754, -22.93773256418544 36.77574385141295, -21.93 36.8913260621246 M-21.93 36.8913260621246 C-21.376773270637536 36.93485889413015, -20.823546541275075 36.978391726135705, -20.1025 37.03513012340311 M-21.93 36.8913260621246 C-21.223300741509863 36.94693548673384, -20.516601483019723 37.00254491134309, -20.1025 37.03513012340311 M-20.1025 37.03513012340311 C-19.569485507392933 37.05745702673678, -19.036471014785867 37.07978393007045, -18.275000000000002 37.111680416890835 M-20.1025 37.03513012340311 C-19.573959318773394 37.057269627790575, -19.04541863754679 37.07940913217804, -18.275000000000002 37.111680416890835 M-18.275000000000002 37.111680416890835 C-17.56190851722193 37.11500630031816, -16.848817034443858 37.11833218374548, -16.447499999999998 37.120203940323975 M-18.275000000000002 37.111680416890835 C-17.79865129568873 37.11390212378197, -17.322302591377465 37.1161238306731, -16.447499999999998 37.120203940323975 M-16.447499999999998 37.120203940323975 C-16.080554465231202 37.10823894237817, -15.713608930462408 37.096273944432376, -14.619999999999997 37.060614623452395 M-16.447499999999998 37.120203940323975 C-15.825787752513762 37.09993176077902, -15.204075505027525 37.07965958123407, -14.619999999999997 37.060614623452395 M-14.619999999999997 37.060614623452395 C-14.052224542425039 37.02112652348623, -13.48444908485008 36.981638423520074, -12.792500000000004 36.93351419717405 M-14.619999999999997 37.060614623452395 C-14.016397978239045 37.018634829051145, -13.412795956478094 36.97665503464989, -12.792500000000004 36.93351419717405 M-12.792500000000004 36.93351419717405 C-12.213210116525156 36.8722321173513, -11.633920233050306 36.81095003752855, -10.964999999999996 36.740186117276835 M-12.792500000000004 36.93351419717405 C-12.248351285699894 36.875949641160815, -11.704202571399785 36.81838508514759, -10.964999999999996 36.740186117276835 M-10.964999999999996 36.740186117276835 C-10.596514216839925 36.68824454010532, -10.228028433679851 36.63630296293381, -9.137499999999996 36.482582604145634 M-10.964999999999996 36.740186117276835 C-10.275294369212 36.642965546268705, -9.585588738424002 36.545744975260575, -9.137499999999996 36.482582604145634 M-9.137499999999996 36.482582604145634 C-8.652986020339235 36.397934452652976, -8.168472040678473 36.313286301160325, -7.310000000000002 36.16330492930715 M-9.137499999999996 36.482582604145634 C-8.668211365367052 36.40059443227492, -8.198922730734106 36.3186062604042, -7.310000000000002 36.16330492930715 M-7.310000000000002 36.16330492930715 C-6.589241756356394 36.01433069548063, -5.868483512712785 35.86535646165411, -5.482500000000002 35.78557714787842 M-7.310000000000002 36.16330492930715 C-6.5922057071254505 36.01494331739486, -5.874411414250899 35.866581705482574, -5.482500000000002 35.78557714787842 M-5.482500000000002 35.78557714787842 C-4.756567738814428 35.61383066911073, -4.030635477628853 35.442084190343046, -3.655000000000001 35.35321354216767 M-5.482500000000002 35.78557714787842 C-4.802201178235485 35.62462696919778, -4.121902356470969 35.46367679051713, -3.655000000000001 35.35321354216767 M-3.655000000000001 35.35321354216767 C-3.0490401824810274 35.19318264235652, -2.443080364962054 35.03315174254537, -1.8275000000000006 34.8705801051812 M-3.655000000000001 35.35321354216767 C-3.0661888381569176 35.19771151493028, -2.477377676313834 35.042209487692894, -1.8275000000000006 34.8705801051812 M-1.8275000000000006 34.8705801051812 C-1.3923644454658701 34.744853989983625, -0.9572288909317399 34.61912787478606, 0 34.342550452974194 M-1.8275000000000006 34.8705801051812 C-1.325963575229426 34.7256684203983, -0.8244271504588518 34.580756735615395, 0 34.342550452974194 M0 34.342550452974194 C0.511763327470209 34.18346449135293, 1.023526654940418 34.024378529731656, 1.8275000000000006 33.77445661104139 M0 34.342550452974194 C0.4063869496387242 34.21622163024828, 0.8127738992774484 34.089892807522354, 1.8275000000000006 33.77445661104139 M1.8275000000000006 33.77445661104139 C2.2904295457436046 33.62185541637197, 2.7533590914872086 33.469254221702556, 3.655000000000001 33.17203517170467 M1.8275000000000006 33.77445661104139 C2.3825055859609856 33.591503251843285, 2.9375111719219706 33.40854989264518, 3.655000000000001 33.17203517170467 M3.655000000000001 33.17203517170467 C4.372218231426092 32.92452490431976, 5.089436462852183 32.67701463693484, 5.482500000000002 32.541369366198666 M3.655000000000001 33.17203517170467 C4.061578134536001 33.031726046277434, 4.468156269072001 32.8914169208502, 5.482500000000002 32.541369366198666 M5.482500000000002 32.541369366198666 C6.014593538954803 32.35137580213857, 6.5466870779096045 32.16138223807847, 7.309999999999995 31.888827636408326 M5.482500000000002 32.541369366198666 C5.854315225934892 32.40860605528543, 6.226130451869783 32.27584274437219, 7.309999999999995 31.888827636408326 M7.309999999999995 31.888827636408326 C7.7679926455418835 31.721462134687048, 8.225985291083772 31.55409663296577, 9.137499999999996 31.220999326559056 M7.309999999999995 31.888827636408326 C7.763300241186034 31.72317689281022, 8.216600482372073 31.557526149212116, 9.137499999999996 31.220999326559056 M9.137499999999996 31.220999326559056 C9.605593473180125 31.047754491599004, 10.073686946360255 30.874509656638953, 10.964999999999996 30.54462814424253 M9.137499999999996 31.220999326559056 C9.734202652181994 31.00015528915947, 10.330905304363993 30.779311251759882, 10.964999999999996 30.54462814424253 M10.964999999999996 30.54462814424253 C11.672214450248646 30.28222001239025, 12.379428900497293 30.019811880537976, 12.792500000000004 29.866544062686454 M10.964999999999996 30.54462814424253 C11.692103436423354 30.274840310653804, 12.419206872846713 30.005052477065078, 12.792500000000004 29.866544062686454 M12.792500000000004 29.866544062686454 C13.303855975683337 29.67824482551196, 13.815211951366669 29.489945588337466, 14.620000000000005 29.193594351916886 M12.792500000000004 29.866544062686454 C13.270845347499769 29.690400498665696, 13.749190694999532 29.51425693464494, 14.620000000000005 29.193594351916886 M14.620000000000005 29.193594351916886 C15.25789035923287 28.9628648131494, 15.895780718465735 28.732135274381914, 16.447500000000005 28.532574435258056 M14.620000000000005 29.193594351916886 C15.32950485502575 28.936961334057433, 16.039009710051495 28.680328316197976, 16.447500000000005 28.532574435258056 M16.447500000000005 28.532574435258056 C16.944975722624243 28.357698403044246, 17.44245144524848 28.182822370830433, 18.275 27.890159269378426 M16.447500000000005 28.532574435258056 C16.84952428222958 28.391252139249218, 17.251548564459153 28.24992984324038, 18.275 27.890159269378426 M18.275 27.890159269378426 C18.973619101906742 27.654168095975372, 19.67223820381349 27.41817692257232, 20.102499999999992 27.27283594080496 M18.275 27.890159269378426 C18.86245380601243 27.69171935752576, 19.44990761202486 27.493279445673096, 20.102499999999992 27.27283594080496 M20.102499999999992 27.27283594080496 C20.50596971316877 27.143461190204125, 20.90943942633755 27.01408643960329, 21.929999999999993 26.686838159543687 M20.102499999999992 27.27283594080496 C20.604644411588524 27.111820613273565, 21.106788823177055 26.950805285742167, 21.929999999999993 26.686838159543687 M21.929999999999993 26.686838159543687 C22.660207222861132 26.467574272388266, 23.390414445722268 26.248310385232845, 23.757500000000007 26.138083311287772 M21.929999999999993 26.686838159543687 C22.490098349032433 26.518653927241807, 23.050196698064873 26.35046969493993, 23.757500000000007 26.138083311287772 M23.757500000000007 26.138083311287772 C24.15647903538014 26.02762001997006, 24.55545807076027 25.917156728652344, 25.585000000000008 25.632112703857764 M23.757500000000007 26.138083311287772 C24.214066669034228 26.01167602545273, 24.67063333806845 25.885268739617686, 25.585000000000008 25.632112703857764 M25.585000000000008 25.632112703857764 C26.263454908439197 25.46205270281033, 26.941909816878386 25.291992701762897, 27.41250000000001 25.17403561126342 M25.585000000000008 25.632112703857764 C26.263015281163682 25.462162898807154, 26.941030562327356 25.29221309375654, 27.41250000000001 25.17403561126342 M27.41250000000001 25.17403561126342 C28.063614751962493 25.029540535180164, 28.71472950392498 24.885045459096908, 29.239999999999995 24.76847768042827 M27.41250000000001 25.17403561126342 C27.936141118041935 25.057829423392946, 28.45978223608386 24.941623235522474, 29.239999999999995 24.76847768042827 M29.239999999999995 24.76847768042827 C29.84146019631547 24.653634670156606, 30.44292039263095 24.538791659884943, 31.067499999999995 24.419534221564067 M29.239999999999995 24.76847768042827 C29.846284667846724 24.65271348395507, 30.452569335693454 24.53694928748187, 31.067499999999995 24.419534221564067 M31.067499999999995 24.419534221564067 C31.752572391486503 24.311270153754442, 32.43764478297301 24.203006085944818, 32.894999999999996 24.13072885386741 M31.067499999999995 24.419534221564067 C31.76772045179173 24.30887625984126, 32.46794090358347 24.19821829811845, 32.894999999999996 24.13072885386741 M32.894999999999996 24.13072885386741 C33.60502258054268 24.04301982093163, 34.31504516108537 23.95531078799585, 34.7225 23.904977924132716 M32.894999999999996 24.13072885386741 C33.59616670900764 24.044113786038412, 34.29733341801528 23.95749871820942, 34.7225 23.904977924132716 M34.7225 23.904977924132716 C35.41179868983184 23.84447169379576, 36.10109737966369 23.783965463458806, 36.55 23.744561057581354 M34.7225 23.904977924132716 C35.197839251129814 23.863252926477386, 35.673178502259624 23.821527928822057, 36.55 23.744561057581354 M36.55 23.744561057581354 C36.995481739630925 23.721778007578752, 37.440963479261846 23.69899495757615, 38.3775 23.651098138283587 M36.55 23.744561057581354 C36.97462430275981 23.722844709050186, 37.39924860551962 23.701128360519018, 38.3775 23.651098138283587 M38.3775 23.651098138283587 C38.87500181325388 23.644138506699893, 39.37250362650777 23.637178875116202, 40.205 23.62553295162424 M38.3775 23.651098138283587 C38.75527664408376 23.645813361035138, 39.13305328816751 23.640528583786686, 40.205 23.62553295162424 M40.205 23.62553295162424 C40.61255077402823 23.635031104136168, 41.02010154805645 23.644529256648095, 42.0325 23.668123653989944 M40.205 23.62553295162424 C40.81720137549554 23.639800577655215, 41.42940275099109 23.65406820368619, 42.0325 23.668123653989944 M42.0325 23.668123653989944 C42.57158574807216 23.700665410135315, 43.11067149614432 23.733207166280685, 43.86 23.778440165914695 M42.0325 23.668123653989944 C42.705542429858035 23.708751666706387, 43.378584859716064 23.749379679422827, 43.86 23.778440165914695 M43.86 23.778440165914695 C44.503530603449065 23.840743206822534, 45.14706120689813 23.903046247730373, 45.6875 23.955368515007713 M43.86 23.778440165914695 C44.28749035760403 23.81982739613306, 44.714980715208064 23.86121462635143, 45.6875 23.955368515007713 M45.6875 23.955368515007713 C45.6875 2.3375755095463617, 45.6875 -19.28021749591499, 45.6875 -30.375 M45.6875 23.955368515007713 C45.6875 8.677613751364257, 45.6875 -6.600141012279199, 45.6875 -30.375 M45.6875 -30.375 C18.370082394902226 -30.375, -8.947335210195547 -30.375, -45.6875 -30.375 M45.6875 -30.375 C15.165879049637812 -30.375, -15.355741900724375 -30.375, -45.6875 -30.375 M-45.6875 -30.375 C-45.6875 -16.823612136470135, -45.6875 -3.272224272940271, -45.6875 30.375 M-45.6875 -30.375 C-45.6875 -12.021936276151305, -45.6875 6.331127447697391, -45.6875 30.375\" stroke=\"#999999\" stroke-width=\"1\" fill=\"none\" style=\"stroke-width:1px !important;stroke-dasharray:none !important;stroke:#999999 !important;fill:#EEEEEE !important\"/></g><g class=\"label\" style=\"color:#000000 !important\" transform=\"translate(-30.6875,-18.75)\"><rect/><foreignObject width=\"61.375\" height=\"24\"><div style=\"color: rgb(0, 0, 0) !important; display: table-cell; white-space: nowrap; line-height: 1.5; max-width: 200px; text-align: center;\" xmlns=\"http://www.w3.org/1999/xhtml\"><span style=\"color:#000000 !important\" class=\"nodeLabel \"><p>Spec file</p></span></div></foreignObject></g></g><g class=\"node default Sky Ash \" id=\"flowchart-E-7\" transform=\"translate(258.265625, 159.24282455444336)\"><rect class=\"basic label-container\" style=\"stroke-width:1px !important;stroke-dasharray:none !important;stroke:#999999 !important;fill:#EEEEEE !important\" x=\"-67.359375\" y=\"-27\" width=\"134.71875\" height=\"54\"/><g class=\"label\" style=\"color:#000000 !important\" transform=\"translate(-37.359375, -12)\"><rect/><foreignObject width=\"74.71875\" height=\"24\"><div style=\"color: rgb(0, 0, 0) !important; display: table-cell; white-space: nowrap; line-height: 1.5; max-width: 200px; text-align: center;\" xmlns=\"http://www.w3.org/1999/xhtml\"><span style=\"color:#000000 !important\" class=\"nodeLabel \"><p>SpecRepo</p></span></div></foreignObject></g></g><g class=\"node default Sky Ash \" id=\"flowchart-C-10\" transform=\"translate(72.6796875, 269.9904327392578)\"><rect class=\"basic label-container\" style=\"stroke-width:1px !important;stroke-dasharray:none !important;stroke:#999999 !important;fill:#EEEEEE !important\" x=\"-64.6796875\" y=\"-27\" width=\"129.359375\" height=\"54\"/><g class=\"label\" style=\"color:#000000 !important\" transform=\"translate(-34.6796875, -12)\"><rect/><foreignObject width=\"69.359375\" height=\"24\"><div style=\"color: rgb(0, 0, 0) !important; display: table-cell; white-space: nowrap; line-height: 1.5; max-width: 200px; text-align: center;\" xmlns=\"http://www.w3.org/1999/xhtml\"><span style=\"color:#000000 !important\" class=\"nodeLabel \"><p>Dsl String</p></span></div></foreignObject></g></g><g class=\"node default Sky Ash \" id=\"flowchart-F-11\" transform=\"translate(258.265625, 269.9904327392578)\"><rect class=\"basic label-container\" style=\"stroke-width:1px !important;stroke-dasharray:none !important;stroke:#999999 !important;fill:#EEEEEE !important\" x=\"-70.90625\" y=\"-27\" width=\"141.8125\" height=\"54\"/><g class=\"label\" style=\"color:#000000 !important\" transform=\"translate(-40.90625, -12)\"><rect/><foreignObject width=\"81.8125\" height=\"24\"><div style=\"color: rgb(0, 0, 0) !important; display: table-cell; white-space: nowrap; line-height: 1.5; max-width: 200px; text-align: center;\" xmlns=\"http://www.w3.org/1999/xhtml\"><span style=\"color:#000000 !important\" class=\"nodeLabel \"><p>DslStrRepo</p></span></div></foreignObject></g></g><g class=\"node default Sky Ash \" id=\"flowchart-I-15\" transform=\"translate(803.9140625, 159.24282455444336)\"><rect class=\"basic label-container\" style=\"stroke-width:1px !important;stroke-dasharray:none !important;stroke:#999999 !important;fill:#EEEEEE !important\" x=\"-43.7890625\" y=\"-27\" width=\"87.578125\" height=\"54\"/><g class=\"label\" style=\"color:#000000 !important\" transform=\"translate(-13.7890625, -12)\"><rect/><foreignObject width=\"27.578125\" height=\"24\"><div style=\"color: rgb(0, 0, 0) !important; display: table-cell; white-space: nowrap; line-height: 1.5; max-width: 200px; text-align: center;\" xmlns=\"http://www.w3.org/1999/xhtml\"><span style=\"color:#000000 !important\" class=\"nodeLabel \"><p>Env</p></span></div></foreignObject></g></g></g></g></g></svg>"
      ],
      "text/plain": [
       "<mermaid.__main__.Mermaid at 0x7f9e0017fb00>"
      ]
     },
     "execution_count": 72,
     "metadata": {},
     "output_type": "execute_result"
    }
   ],
   "source": [
    "show_mermaid(\"./docs/assets/instance.mmd\")\n"
   ]
  },
  {
   "cell_type": "markdown",
   "metadata": {},
   "source": [
    "1. **Spec File:** Academic JSSP problem definitions commonly found in the literature.\n",
    "2. **DSL File:** A YAML file that defines the scheduling problem in a flexible way for real-world scenarios.\n",
    "3. **DSL String:** Useful for Jupyter notebooks or for testing and debugging purposes."
   ]
  },
  {
   "cell_type": "markdown",
   "metadata": {
    "vscode": {
     "languageId": "plaintext"
    }
   },
   "source": [
    "### Spec Files\n",
    "\n",
    "Spec files are academic JSSP problem instances as found in the literature.<br> Common instances are included in JobShopLab.<br> To use them, specify the SpecRepository in your configuration file:\n",
    "\n",
    "\n",
    "```yaml\n",
    "compiler:\n",
    "  loglevel: *default_loglevel\n",
    "  repo: \"SpecRepository\" # use the SpecRepository here\n",
    "  validator: \"DummyValidator\"\n",
    "  manipulators:\n",
    "    - \"DummyManipulator\"\n",
    "  dsl_repository:\n",
    "    dir: \"data/jssp_instances/dsl/default_instance.yaml\"\n",
    "  spec_repository:\n",
    "    dir: \"data/jssp_instances/ft06\" # set the dir to the file here\n",
    "```\n",
    "\n",
    "\n",
    "Alternatively use **dependency injection:**"
   ]
  },
  {
   "cell_type": "code",
   "execution_count": 73,
   "metadata": {},
   "outputs": [],
   "source": [
    "from jobshoplab.compiler.repos import SpecRepository\n",
    "from jobshoplab.compiler import Compiler\n",
    "\n",
    "repo = SpecRepository(dir=Path(\"data/jssp_instances/ft06\"),loglevel=\"warning\",config=config)\n",
    "compiler = Compiler(config=config,loglevel=\"warning\",repo=repo)\n",
    "# pass the compiler to the environment\n",
    "env = JobShopLabEnv(config=config, compiler=compiler)"
   ]
  },
  {
   "cell_type": "markdown",
   "metadata": {},
   "source": [
    "### The Compiler\n",
    "\n",
    "\n",
    "The compiler generates two interfaces used throughout JobShopLab:\n",
    "\n",
    "\n",
    "- **Instance:** A dataclass object holding all the information about the problem.\n",
    "- **(Initial) State:** A dataclass object representing the current state of the schedule. Since the state is time-dependent, <br>every state includes a time attribute.\n",
    "\n",
    "\n",
    "> **note**<br>\n",
    ">The compiler aggregates inputs from various sources (which can be overridden via dependency injection) and compiles a generic interface for the scheduling problem.\n"
   ]
  },
  {
   "cell_type": "code",
   "execution_count": 74,
   "metadata": {},
   "outputs": [
    {
     "name": "stdout",
     "output_type": "stream",
     "text": [
      "Instance\n",
      "Some Machine ID: m-0\n",
      "Operation Duration: DeterministicTimeConfig(duration=1)\n",
      "\n",
      "State:\n",
      "Time: Time(time=0)\n",
      "MachineState: MachineStateState.IDLE\n"
     ]
    }
   ],
   "source": [
    "from jobshoplab.types import InstanceConfig, State\n",
    "# Compiler has a compile method that returns the compiled instance and the initial state\n",
    "instance , init_state = compiler.compile()\n",
    "\n",
    "instance : InstanceConfig\n",
    "init_state : State\n",
    "\n",
    "# Some examples of accsessing artibs \n",
    "\n",
    "\n",
    "# the instance is a dataclass object witch is a representation for the Jssp Problem Interface.\n",
    "# The instance is static and does not change\n",
    "# note: the instance is immutable to prevent accidental changes and enforce consistency\n",
    "print(\"Instance\")\n",
    "print(\"Some Machine ID:\", instance.machines[0].id)\n",
    "print(\"Operation Duration:\", instance.instance.specification[0].operations[0].duration)\n",
    "\n",
    "# the initial state is a dataclass object representing the initial state of all components\n",
    "# the state is dynamic meaning that it changes as the environment is stepped its basicly a snapshot of the environment\n",
    "# the state gets updated by the state simulator (state_machine)\n",
    "# note: the state is immutable to prevent accidental changes and enforce consistency\n",
    "print(\"\\nState:\")\n",
    "print(\"Time:\", init_state.time)\n",
    "print(\"MachineState:\",init_state.machines[0].state)"
   ]
  },
  {
   "cell_type": "markdown",
   "metadata": {
    "vscode": {
     "languageId": "plaintext"
    }
   },
   "source": [
    "### DSL\n",
    "\n",
    "\n",
    "The primary purpose of JobShopLab is to represent real-world scheduling problems.<br> Therefore, the DSL (instance.yaml) provides a way to specify the problem itself.\n",
    "\n",
    "\n",
    "\n",
    "**Specify the DslRepository in the config file:**\n",
    "```yaml\n",
    "compiler:\n",
    "  loglevel: *default_loglevel\n",
    "  repo: \"DslRepository\" # <- set the repo here\n",
    "  validator: \"DummyValidator\"\n",
    "  manipulators:\n",
    "    - \"DummyManipulator\"\n",
    "  dsl_repository:\n",
    "    dir: \"data/jssp_instances/dsl/default_instance.yaml\" # <- set the filepath here\n",
    "  spec_repository:\n",
    "    dir: \"data/jssp_instances/ft06\"\n",
    "```\n",
    "\n",
    "\n",
    "**Alternatively** use dependency injection:"
   ]
  },
  {
   "cell_type": "code",
   "execution_count": 75,
   "metadata": {},
   "outputs": [],
   "source": [
    "from jobshoplab.compiler.repos import DslRepository\n",
    "from jobshoplab.compiler import Compiler\n",
    "\n",
    "repo = DslRepository(dir=Path(\"data/jssp_instances/dsl/default_instance.yaml\"),loglevel=\"warning\",config=config)\n",
    "compiler = Compiler(config=config,loglevel=\"warning\",repo=repo)\n",
    "# pass the compiler to the environment\n",
    "env = JobShopLabEnv(config=config, compiler=compiler)"
   ]
  },
  {
   "cell_type": "markdown",
   "metadata": {
    "vscode": {
     "languageId": "html"
    }
   },
   "source": [
    "### DSL as a string\n",
    "\n",
    "\n",
    "An instance can also be defined inline as a string.<br> This approach is useful when working in Jupyter notebooks or for debugging and testing purposes.\n",
    "\n",
    "\n",
    "> **Note**<br>\n",
    "> Using a DSL string can simplify rapid prototyping or testing without the need for external YAML files.\n"
   ]
  },
  {
   "cell_type": "code",
   "execution_count": 76,
   "metadata": {},
   "outputs": [],
   "source": [
    "dsl_str = \"\"\"\n",
    "title: InstanceConfig\n",
    "\n",
    "# Example of a 6x6 Instance\n",
    "# with AGVs\n",
    "\n",
    "instance_config:\n",
    "  description: \"ft06 with AGVs\" \n",
    "  instance:\n",
    "    description: \"6x6\"\n",
    "    specification: |\n",
    "      (m0,t)|(m1,t)|(m2,t)|(m3,t)|(m4,t)|(m5,t)\n",
    "      j0|(2,1) (0,3) (1,6) (3,7) (5,3) (4,6)\n",
    "      j1|(1,8) (2,5) (4,10) (5,10) (0,10) (3,4)\n",
    "      j2|(2,5) (3,4) (5,8) (0,9) (1,1) (4,7)\n",
    "      j3|(1,5) (0,5) (2,5) (3,3) (4,8) (5,9)\n",
    "      j4|(2,9) (1,3) (4,5) (5,4) (0,3) (3,1)\n",
    "      j5|(1,3) (3,3) (5,9) (0,10) (4,4) (2,1)\n",
    "\n",
    "    transport:\n",
    "      type: \"agv\"\n",
    "      amount: 6\n",
    "  logistics: \n",
    "    specification: |\n",
    "      m-0|m-1|m-2|m-3|m-4|m-5|in-buf|out-buf\n",
    "      m-0|0 21 16 9 37 41 19 19\n",
    "      m-1|21 0 13 15 17 23 8 8\n",
    "      m-2|16 13 0 13 23 28 7 7\n",
    "      m-3|9 15 13 0 31 35 14 14\n",
    "      m-4|37 17 23 31 0 7 25 25\n",
    "      m-5|41 23 28 35 7 0 24 24\n",
    "      in-buf|19 8 7 14 25 24 0 0\n",
    "      out-buf|19 8 7 14 25 24 0 0\n",
    "      \n",
    "init_state:\n",
    "  t-0:\n",
    "    - location: \"m-0\"\n",
    "    - location: \"m-1\"\n",
    "    - location: \"m-2\"\n",
    "    - location: \"m-3\"\n",
    "    - location: \"m-4\"\n",
    "    - location: \"m-5\"\n",
    "\"\"\" "
   ]
  },
  {
   "cell_type": "code",
   "execution_count": 77,
   "metadata": {},
   "outputs": [],
   "source": [
    "from jobshoplab.compiler.repos import DslStrRepository\n",
    "from jobshoplab.compiler import Compiler\n",
    "\n",
    "repo = DslStrRepository(dsl_str=dsl_str,loglevel=\"warning\",config=config) # using the DslStrRepository here and passing the sting as an Argument\n",
    "compiler = Compiler(config=config,loglevel=\"warning\",repo=repo)\n",
    "# pass the compiler to the environment\n",
    "env = JobShopLabEnv(config=config, compiler=compiler)"
   ]
  },
  {
   "cell_type": "markdown",
   "metadata": {},
   "source": [
    "\n",
    "> A **full example** and explanation of the DSL can be found in \"data/jssp_instances/dsl/real_world_instance.yaml\""
   ]
  },
  {
   "cell_type": "markdown",
   "metadata": {
    "vscode": {
     "languageId": "plaintext"
    }
   },
   "source": [
    "# \ud83d\udd8c\ufe0fVisualization"
   ]
  },
  {
   "cell_type": "code",
   "execution_count": 63,
   "metadata": {},
   "outputs": [
    {
     "data": {
      "text/html": [
       "\n",
       "            <style>\n",
       "            div.output_area {\n",
       "                max-height: none !important;\n",
       "                overflow-y: visible !important;\n",
       "            }\n",
       "            </style>\n",
       "            "
      ],
      "text/plain": [
       "<IPython.core.display.HTML object>"
      ]
     },
     "metadata": {},
     "output_type": "display_data"
    },
    {
     "data": {
      "text/html": [
       "<svg id=\"mermaid-svg\" width=\"100%\" xmlns=\"http://www.w3.org/2000/svg\" class=\"flowchart\" style=\"max-width: 719.3125px;\" viewBox=\"0 0 719.3125 278\" role=\"graphics-document document\" aria-roledescription=\"flowchart-v2\" xmlns:xlink=\"http://www.w3.org/1999/xlink\"><style xmlns=\"http://www.w3.org/1999/xhtml\">@import url(\"https://cdnjs.cloudflare.com/ajax/libs/font-awesome/6.7.2/css/all.min.css\");</style><style>#mermaid-svg{font-family:\"trebuchet ms\",verdana,arial,sans-serif;font-size:16px;fill:#333;}#mermaid-svg .error-icon{fill:#552222;}#mermaid-svg .error-text{fill:#552222;stroke:#552222;}#mermaid-svg .edge-thickness-normal{stroke-width:1px;}#mermaid-svg .edge-thickness-thick{stroke-width:3.5px;}#mermaid-svg .edge-pattern-solid{stroke-dasharray:0;}#mermaid-svg .edge-thickness-invisible{stroke-width:0;fill:none;}#mermaid-svg .edge-pattern-dashed{stroke-dasharray:3;}#mermaid-svg .edge-pattern-dotted{stroke-dasharray:2;}#mermaid-svg .marker{fill:#333333;stroke:#333333;}#mermaid-svg .marker.cross{stroke:#333333;}#mermaid-svg svg{font-family:\"trebuchet ms\",verdana,arial,sans-serif;font-size:16px;}#mermaid-svg p{margin:0;}#mermaid-svg .label{font-family:\"trebuchet ms\",verdana,arial,sans-serif;color:#333;}#mermaid-svg .cluster-label text{fill:#333;}#mermaid-svg .cluster-label span{color:#333;}#mermaid-svg .cluster-label span p{background-color:transparent;}#mermaid-svg .label text,#mermaid-svg span{fill:#333;color:#333;}#mermaid-svg .node rect,#mermaid-svg .node circle,#mermaid-svg .node ellipse,#mermaid-svg .node polygon,#mermaid-svg .node path{fill:#ECECFF;stroke:#9370DB;stroke-width:1px;}#mermaid-svg .rough-node .label text,#mermaid-svg .node .label text,#mermaid-svg .image-shape .label,#mermaid-svg .icon-shape .label{text-anchor:middle;}#mermaid-svg .node .katex path{fill:#000;stroke:#000;stroke-width:1px;}#mermaid-svg .rough-node .label,#mermaid-svg .node .label,#mermaid-svg .image-shape .label,#mermaid-svg .icon-shape .label{text-align:center;}#mermaid-svg .node.clickable{cursor:pointer;}#mermaid-svg .root .anchor path{fill:#333333!important;stroke-width:0;stroke:#333333;}#mermaid-svg .arrowheadPath{fill:#333333;}#mermaid-svg .edgePath .path{stroke:#333333;stroke-width:2.0px;}#mermaid-svg .flowchart-link{stroke:#333333;fill:none;}#mermaid-svg .edgeLabel{background-color:rgba(232,232,232, 0.8);text-align:center;}#mermaid-svg .edgeLabel p{background-color:rgba(232,232,232, 0.8);}#mermaid-svg .edgeLabel rect{opacity:0.5;background-color:rgba(232,232,232, 0.8);fill:rgba(232,232,232, 0.8);}#mermaid-svg .labelBkg{background-color:rgba(232, 232, 232, 0.5);}#mermaid-svg .cluster rect{fill:#ffffde;stroke:#aaaa33;stroke-width:1px;}#mermaid-svg .cluster text{fill:#333;}#mermaid-svg .cluster span{color:#333;}#mermaid-svg div.mermaidTooltip{position:absolute;text-align:center;max-width:200px;padding:2px;font-family:\"trebuchet ms\",verdana,arial,sans-serif;font-size:12px;background:hsl(80, 100%, 96.2745098039%);border:1px solid #aaaa33;border-radius:2px;pointer-events:none;z-index:100;}#mermaid-svg .flowchartTitleText{text-anchor:middle;font-size:18px;fill:#333;}#mermaid-svg rect.text{fill:none;stroke-width:0;}#mermaid-svg .icon-shape,#mermaid-svg .image-shape{background-color:rgba(232,232,232, 0.8);text-align:center;}#mermaid-svg .icon-shape p,#mermaid-svg .image-shape p{background-color:rgba(232,232,232, 0.8);padding:2px;}#mermaid-svg .icon-shape rect,#mermaid-svg .image-shape rect{opacity:0.5;background-color:rgba(232,232,232, 0.8);fill:rgba(232,232,232, 0.8);}#mermaid-svg :root{--mermaid-font-family:\"trebuchet ms\",verdana,arial,sans-serif;}</style><g><marker id=\"mermaid-svg_flowchart-v2-pointEnd\" class=\"marker flowchart-v2\" viewBox=\"0 0 10 10\" refX=\"5\" refY=\"5\" markerUnits=\"userSpaceOnUse\" markerWidth=\"8\" markerHeight=\"8\" orient=\"auto\"><path d=\"M 0 0 L 10 5 L 0 10 z\" class=\"arrowMarkerPath\" style=\"stroke-width: 1; stroke-dasharray: 1, 0;\"/></marker><marker id=\"mermaid-svg_flowchart-v2-pointStart\" class=\"marker flowchart-v2\" viewBox=\"0 0 10 10\" refX=\"4.5\" refY=\"5\" markerUnits=\"userSpaceOnUse\" markerWidth=\"8\" markerHeight=\"8\" orient=\"auto\"><path d=\"M 0 5 L 10 10 L 10 0 z\" class=\"arrowMarkerPath\" style=\"stroke-width: 1; stroke-dasharray: 1, 0;\"/></marker><marker id=\"mermaid-svg_flowchart-v2-circleEnd\" class=\"marker flowchart-v2\" viewBox=\"0 0 10 10\" refX=\"11\" refY=\"5\" markerUnits=\"userSpaceOnUse\" markerWidth=\"11\" markerHeight=\"11\" orient=\"auto\"><circle cx=\"5\" cy=\"5\" r=\"5\" class=\"arrowMarkerPath\" style=\"stroke-width: 1; stroke-dasharray: 1, 0;\"/></marker><marker id=\"mermaid-svg_flowchart-v2-circleStart\" class=\"marker flowchart-v2\" viewBox=\"0 0 10 10\" refX=\"-1\" refY=\"5\" markerUnits=\"userSpaceOnUse\" markerWidth=\"11\" markerHeight=\"11\" orient=\"auto\"><circle cx=\"5\" cy=\"5\" r=\"5\" class=\"arrowMarkerPath\" style=\"stroke-width: 1; stroke-dasharray: 1, 0;\"/></marker><marker id=\"mermaid-svg_flowchart-v2-crossEnd\" class=\"marker cross flowchart-v2\" viewBox=\"0 0 11 11\" refX=\"12\" refY=\"5.2\" markerUnits=\"userSpaceOnUse\" markerWidth=\"11\" markerHeight=\"11\" orient=\"auto\"><path d=\"M 1,1 l 9,9 M 10,1 l -9,9\" class=\"arrowMarkerPath\" style=\"stroke-width: 2; stroke-dasharray: 1, 0;\"/></marker><marker id=\"mermaid-svg_flowchart-v2-crossStart\" class=\"marker cross flowchart-v2\" viewBox=\"0 0 11 11\" refX=\"-1\" refY=\"5.2\" markerUnits=\"userSpaceOnUse\" markerWidth=\"11\" markerHeight=\"11\" orient=\"auto\"><path d=\"M 1,1 l 9,9 M 10,1 l -9,9\" class=\"arrowMarkerPath\" style=\"stroke-width: 2; stroke-dasharray: 1, 0;\"/></marker><g class=\"root\"><g class=\"clusters\"/><g class=\"edgePaths\"><path d=\"M130.25,139L144.94,139C159.63,139,189.01,139,217.807,139.08C246.604,139.159,274.818,139.318,288.925,139.398L303.031,139.477\" id=\"L_ENV_RENDER_0\" class=\" edge-thickness-normal edge-pattern-solid edge-thickness-normal edge-pattern-solid flowchart-link\" style=\"\" marker-end=\"url(#mermaid-svg_flowchart-v2-pointEnd)\"/><path d=\"M407.293,110.45L422.521,97.875C437.748,85.3,468.202,60.15,493.305,47.575C518.409,35,538.161,35,548.038,35L557.914,35\" id=\"L_RENDER_DEBUG_1\" class=\" edge-thickness-normal edge-pattern-solid edge-thickness-normal edge-pattern-solid flowchart-link\" style=\"\" marker-end=\"url(#mermaid-svg_flowchart-v2-pointEnd)\"/><path d=\"M436.344,139.5L446.729,139.417C457.115,139.333,477.885,139.167,499.63,139.083C521.375,139,544.094,139,555.453,139L566.813,139\" id=\"L_RENDER_DASH_2\" class=\" edge-thickness-normal edge-pattern-solid edge-thickness-normal edge-pattern-solid flowchart-link\" style=\"\" marker-end=\"url(#mermaid-svg_flowchart-v2-pointEnd)\"/><path d=\"M407.293,168.55L422.521,180.959C437.748,193.367,468.202,218.183,493.231,230.592C518.26,243,537.865,243,547.667,243L557.469,243\" id=\"L_RENDER_SIMULATION_3\" class=\" edge-thickness-normal edge-pattern-solid edge-thickness-normal edge-pattern-solid flowchart-link\" style=\"\" marker-end=\"url(#mermaid-svg_flowchart-v2-pointEnd)\"/></g><g class=\"edgeLabels\"><g class=\"edgeLabel\" transform=\"translate(218.390625, 139)\"><g class=\"label\" transform=\"translate(-63.140625, -12)\"><foreignObject width=\"126.28125\" height=\"24\"><div xmlns=\"http://www.w3.org/1999/xhtml\" class=\"labelBkg\" style=\"display: table-cell; white-space: nowrap; line-height: 1.5; max-width: 200px; text-align: center;\"><span class=\"edgeLabel \"><p>history &amp; instance</p></span></div></foreignObject></g></g><g class=\"edgeLabel\" transform=\"translate(498.65625, 35)\"><g class=\"label\" transform=\"translate(-22.25, -12)\"><foreignObject width=\"44.5\" height=\"24\"><div xmlns=\"http://www.w3.org/1999/xhtml\" class=\"labelBkg\" style=\"display: table-cell; white-space: nowrap; line-height: 1.5; max-width: 200px; text-align: center;\"><span class=\"edgeLabel \"><p>debug</p></span></div></foreignObject></g></g><g class=\"edgeLabel\" transform=\"translate(498.65625, 139)\"><g class=\"label\" transform=\"translate(-37.8125, -12)\"><foreignObject width=\"75.625\" height=\"24\"><div xmlns=\"http://www.w3.org/1999/xhtml\" class=\"labelBkg\" style=\"display: table-cell; white-space: nowrap; line-height: 1.5; max-width: 200px; text-align: center;\"><span class=\"edgeLabel \"><p>dashboard</p></span></div></foreignObject></g></g><g class=\"edgeLabel\" transform=\"translate(498.65625, 243)\"><g class=\"label\" transform=\"translate(-36.015625, -12)\"><foreignObject width=\"72.03125\" height=\"24\"><div xmlns=\"http://www.w3.org/1999/xhtml\" class=\"labelBkg\" style=\"display: table-cell; white-space: nowrap; line-height: 1.5; max-width: 200px; text-align: center;\"><span class=\"edgeLabel \"><p>simulation</p></span></div></foreignObject></g></g></g><g class=\"nodes\"><g class=\"node default  \" id=\"flowchart-ENV-0\" transform=\"translate(69.125, 139)\"><rect class=\"basic label-container\" style=\"\" x=\"-61.125\" y=\"-27\" width=\"122.25\" height=\"54\"/><g class=\"label\" style=\"\" transform=\"translate(-31.125, -12)\"><rect/><foreignObject width=\"62.25\" height=\"24\"><div xmlns=\"http://www.w3.org/1999/xhtml\" style=\"display: table-cell; white-space: nowrap; line-height: 1.5; max-width: 200px; text-align: center;\"><span class=\"nodeLabel \"><p>gym.Env</p></span></div></foreignObject></g></g><g class=\"node default  \" id=\"flowchart-RENDER-1\" transform=\"translate(371.1875, 139)\"><polygon points=\"64.65625,0 129.3125,-64.65625 64.65625,-129.3125 0,-64.65625\" class=\"label-container\" transform=\"translate(-64.65625,64.65625)\"/><g class=\"label\" style=\"\" transform=\"translate(-37.65625, -12)\"><rect/><foreignObject width=\"75.3125\" height=\"24\"><div xmlns=\"http://www.w3.org/1999/xhtml\" style=\"display: table-cell; white-space: nowrap; line-height: 1.5; max-width: 200px; text-align: center;\"><span class=\"nodeLabel \"><p>env.render</p></span></div></foreignObject></g></g><g class=\"node default  \" id=\"flowchart-DEBUG-2\" transform=\"translate(636.390625, 35)\"><rect class=\"basic label-container\" style=\"\" x=\"-74.4765625\" y=\"-27\" width=\"148.953125\" height=\"54\"/><g class=\"label\" style=\"\" transform=\"translate(-44.4765625, -12)\"><rect/><foreignObject width=\"88.953125\" height=\"24\"><div xmlns=\"http://www.w3.org/1999/xhtml\" style=\"display: table-cell; white-space: nowrap; line-height: 1.5; max-width: 200px; text-align: center;\"><span class=\"nodeLabel \"><p>cli debug util</p></span></div></foreignObject></g></g><g class=\"node default  \" id=\"flowchart-SIMULATION-3\" transform=\"translate(636.390625, 243)\"><rect class=\"basic label-container\" style=\"\" x=\"-74.921875\" y=\"-27\" width=\"149.84375\" height=\"54\"/><g class=\"label\" style=\"\" transform=\"translate(-44.921875, -12)\"><rect/><foreignObject width=\"89.84375\" height=\"24\"><div xmlns=\"http://www.w3.org/1999/xhtml\" style=\"display: table-cell; white-space: nowrap; line-height: 1.5; max-width: 200px; text-align: center;\"><span class=\"nodeLabel \"><p>3d rendering</p></span></div></foreignObject></g></g><g class=\"node default  \" id=\"flowchart-DASH-4\" transform=\"translate(636.390625, 139)\"><rect class=\"basic label-container\" style=\"\" x=\"-65.578125\" y=\"-27\" width=\"131.15625\" height=\"54\"/><g class=\"label\" style=\"\" transform=\"translate(-35.578125, -12)\"><rect/><foreignObject width=\"71.15625\" height=\"24\"><div xmlns=\"http://www.w3.org/1999/xhtml\" style=\"display: table-cell; white-space: nowrap; line-height: 1.5; max-width: 200px; text-align: center;\"><span class=\"nodeLabel \"><p>gant chart</p></span></div></foreignObject></g></g></g></g></g></svg>"
      ],
      "text/plain": [
       "<mermaid.__main__.Mermaid at 0x7f9e00420e60>"
      ]
     },
     "execution_count": 63,
     "metadata": {},
     "output_type": "execute_result"
    }
   ],
   "source": [
    "show_mermaid(\"./docs/assets/rendering.mmd\")"
   ]
  },
  {
   "cell_type": "markdown",
   "metadata": {},
   "source": [
    "JobShopLab provides three main methods for visualizing an environment's state:\n",
    "\n",
    "\n",
    "1. **Gantt Chart Dashboard:** A Dash web application that displays schedules on a timeline.\n",
    "2. **CLI Table:** A debugging table rendered using the rich library.\n",
    "3. **Simulation WebApp:** A 3D simulation using Three.js to render scenes of the schedules (coming soon!).\n",
    "\n",
    "\n",
    "\n",
    "The default render mode can be configured in the config.yaml. For example:\n",
    "\n",
    "```yaml\n",
    "\n",
    "env:\n",
    "  loglevel: *default_loglevel\n",
    "  observation_factory: \"BinaryActionObservationFactory\"\n",
    "  reward_factory: \"BinaryActionJsspReward\"\n",
    "  action_factory: \"BinaryJobActionInterpreter\"\n",
    "  render_backend: \"render_in_dashboard\" # <- set the render backend here\n",
    "  middleware: \"EventBasedBinaryActionMiddleware\"\n",
    "\n",
    "# Available Options and Settings\n",
    "render_backend:\n",
    "  render_in_dashboard:\n",
    "    loglevel: *default_loglevel\n",
    "    port: 8050\n",
    "    debug: false\n",
    "\n",
    "  simulation:\n",
    "    json_dump_dir: \"data/tmp/simulation_interface.json\"\n",
    "    port: 8051\n",
    "    loglevel: *default_loglevel\n",
    "    bind_all: false\n",
    "  \n",
    "  cli_table:\n",
    "    loglevel: *default_loglevel\n",
    "\n",
    "```\n",
    "\n",
    "\n",
    "When calling ``env.render()``, you can pass a mode flag to select the render backend:\n",
    "\n",
    "\n",
    "- **normal** (default): Uses the default backend from the configuration.\n",
    "- **dashboard**: Displays the Dash Gantt chart.\n",
    "- **simulation**: Activates the 3D simulation with Three.js.\n",
    "- **debug**: Shows the rich CLI table.\n",
    "\n",
    "\n",
    "Example visualization:"
   ]
  },
  {
   "cell_type": "code",
   "execution_count": 64,
   "metadata": {},
   "outputs": [
    {
     "name": "stdout",
     "output_type": "stream",
     "text": [
      "Dash app running on http://127.0.0.1:8057/\n"
     ]
    }
   ],
   "source": [
    "repo = DslStrRepository(dsl_str=dsl_str,loglevel=\"warning\",config=config) # using the DslStrRepository here\n",
    "compiler = Compiler(config=config,loglevel=\"warning\",repo=repo)\n",
    "# pass the compiler to the environment\n",
    "env = JobShopLabEnv(config=config, compiler=compiler)\n",
    "\n",
    "# run with random actions\n",
    "done = False\n",
    "while not done:\n",
    "    action = env.action_space.sample()\n",
    "    obs, reward, truncated, terminated, info = env.step(action)\n",
    "    done = truncated or terminated\n",
    "env.render()\n",
    "# env.render(mode=\"simulation\")\n",
    "# env.render(mode=\"debug\")"
   ]
  },
  {
   "cell_type": "markdown",
   "metadata": {},
   "source": [
    "# \ud83e\udd16 Defining Agents and Solving the Environemnt\n",
    "\n",
    "For more details on defining agents and solving the environment using reinforcement learning algorithms, please refer to the jobshopagent repository.\n",
    "\n",
    "\n",
    "Below is an example of training an agent using Stable Baselines3:"
   ]
  },
  {
   "cell_type": "code",
   "execution_count": 65,
   "metadata": {},
   "outputs": [
    {
     "name": "stdout",
     "output_type": "stream",
     "text": [
      "Using cpu device\n",
      "Wrapping the env with a `Monitor` wrapper\n",
      "Wrapping the env in a DummyVecEnv.\n",
      "---------------------------------\n",
      "| rollout/           |          |\n",
      "|    ep_len_mean     | 74       |\n",
      "|    ep_rew_mean     | 0.779    |\n",
      "| time/              |          |\n",
      "|    fps             | 1071     |\n",
      "|    iterations      | 1        |\n",
      "|    time_elapsed    | 1        |\n",
      "|    total_timesteps | 2048     |\n",
      "---------------------------------\n"
     ]
    },
    {
     "data": {
      "text/plain": [
       "<stable_baselines3.ppo.ppo.PPO at 0x7f9e005173b0>"
      ]
     },
     "execution_count": 65,
     "metadata": {},
     "output_type": "execute_result"
    }
   ],
   "source": [
    "# train an agent using stable baselines3\n",
    "\n",
    "from stable_baselines3 import PPO\n",
    "from jobshoplab import JobShopLabEnv\n",
    "\n",
    "env = JobShopLabEnv(config=config)\n",
    "model = PPO(\"MultiInputPolicy\", env, verbose=1)\n",
    "model.learn(total_timesteps=10)"
   ]
  }
 ],
 "metadata": {
  "kernelspec": {
   "display_name": "lab",
   "language": "python",
   "name": "python3"
  },
  "language_info": {
   "codemirror_mode": {
    "name": "ipython",
    "version": 3
   },
   "file_extension": ".py",
   "mimetype": "text/x-python",
   "name": "python",
   "nbconvert_exporter": "python",
   "pygments_lexer": "ipython3",
   "version": "3.12.3"
  }
 },
 "nbformat": 4,
 "nbformat_minor": 4
}