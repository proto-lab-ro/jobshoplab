{
 "cells": [
  {
   "cell_type": "markdown",
   "metadata": {
    "vscode": {
     "languageId": "plaintext"
    }
   },
   "source": [
    "<img src=\"../docs/assets/JobShopLabLogo.svg\" width=\"50\" align=\"left\" style=\"margin-right: 10px;\">\n",
    "\n",
    "# Getting Started with JobShopLab \n",
    "\n",
    "\n",
    "\n",
    "The **JobShopLab** is a Framework for solving real world JobShopScheduling scenarios using Reinforement Learning.\n",
    "\n",
    "\n",
    "This Getting Started Guide provides some Examples and Explanations on how to use the Framework\n"
   ]
  },
  {
   "cell_type": "markdown",
   "metadata": {},
   "source": [
    "\n",
    "## Table of Contents\n",
    "\n",
    "- [Example of solving a ft06 instance with a random policy](#example)\n",
    "- [Design Choices](#design_choices)\n",
    "- [Configuring the Framework](#configuring-the-framework)\n",
    "    - [Config File](#config-file)\n",
    "    - [Dependency Injection](#dependency-injection)\n",
    "- [Customizing](#customing)\n",
    "- [Defining a Problem](#defining-a-problem)\n",
    "    - [Spec Files](#spec-files)\n",
    "    - [The Compiler](#the-compiler)\n",
    "    - [DSL](#dsl)\n",
    "    - [DSL as a string](#dsl-as-a-string)\n",
    "- [Visualization](#visualization)\n",
    "- [Defining Agents and Solving the Environment](#defining-agents-and-solving-the-environment)\n",
    "\n"
   ]
  },
  {
   "cell_type": "markdown",
   "metadata": {},
   "source": [
    "\n",
    "## Installation\n",
    "\n",
    "> **Note:**  \n",
    "> Ensure you have the required Python version 3.12 or higher installed before proceeding.\n",
    "\n",
    "To install JobShopLab, clone the repository and install it in editable mode using `pip`:\n",
    "\n",
    "\n",
    "\n",
    "```bash\n",
    "cd <desired_dir>\n",
    "# ssh\n",
    "git clone git@github.com:proto-lab-ro/jobshoplab.git\n",
    "# or https\n",
    "git clone https://github.com/proto-lab-ro/jobshoplab.git\n",
    "# install python module in editable mode\n",
    "pip install -e <repo_dir>\n",
    "```\n"
   ]
  },
  {
   "cell_type": "code",
   "execution_count": 1,
   "metadata": {},
   "outputs": [
    {
     "name": "stdout",
     "output_type": "stream",
     "text": [
      "Already in the desired directory: /home/felix/JobShopLab\n"
     ]
    }
   ],
   "source": [
    "from jupyter_utils import change_to_jobshoplab, show_mermaid\n",
    "change_to_jobshoplab()"
   ]
  },
  {
   "cell_type": "markdown",
   "metadata": {},
   "source": [
    "\n",
    "## Example\n",
    "\n",
    "\n",
    "the following example demonstrates how to solve an academic ft06 instance using a random policy."
   ]
  },
  {
   "cell_type": "code",
   "execution_count": 2,
   "metadata": {},
   "outputs": [
    {
     "data": {
      "text/html": [
       "\n",
       "        <iframe\n",
       "            width=\"100%\"\n",
       "            height=\"1500\"\n",
       "            src=\"http://127.0.0.1:8050/\"\n",
       "            frameborder=\"0\"\n",
       "            allowfullscreen\n",
       "            \n",
       "        ></iframe>\n",
       "        "
      ],
      "text/plain": [
       "<IPython.lib.display.IFrame at 0x7e30a63aec00>"
      ]
     },
     "metadata": {},
     "output_type": "display_data"
    }
   ],
   "source": [
    "# Solve a academic ft06 instance with a random policy\n",
    "\n",
    "from jobshoplab import JobShopLabEnv, load_config\n",
    "from pathlib import Path\n",
    "\n",
    "config = load_config(config_path = Path(\"./data/config/getting_started_config.yaml\"))\n",
    "env = JobShopLabEnv(config=config)\n",
    "done = False\n",
    "while not done:\n",
    "    action = env.action_space.sample()\n",
    "    obs, reward, truncated,terminated, info = env.step(action)\n",
    "    done = truncated or terminated\n",
    "env.render()"
   ]
  },
  {
   "cell_type": "markdown",
   "metadata": {
    "vscode": {
     "languageId": "plaintext"
    }
   },
   "source": [
    "<div id='design_choices'/>\n",
    "    \n",
    "# Design Choices \n",
    "\n",
    "<img src=\"../docs/assets/FrameworkOverview.svg\" width=\"600\">\n",
    "\n",
    "*JobShopLab is designed to be fully extensible and customizable.*\n",
    "\n",
    "\n",
    "At its core is a state machine implemented in a functional programming style.<br>\n",
    "The state machine takes inputs and produces outputs using an immutable data type object (interface).<br>\n",
    "\n",
    "To address the need for various time mechanisms, observation spaces, and action spaces, a software layer called *Middleware* is used.<br> The Middleware sits between the Gym environment and the state machine, translating the Gym interface to the state machine interface.<br>\n",
    "\n",
    "\n",
    "\n",
    "> **Note:**  \n",
    "> Observation, reward, and action factories are injected into the Middleware to allow customization.<br> Their interfaces are represented by data type objects (dataclasses).\n",
    "\n",
    "\n",
    "\n",
    "## Rendering\n",
    "\n",
    "\n",
    "Rendering is performed via a dashboard built with Dash. <br>The dashboard displays a central Gantt chart and a table with all schedules. <br> Dashboards can be shown inline in a Jupyter Notebook or in a web browser.\n",
    "\n",
    "\n",
    "> **Hint:**  \n",
    "> Additional rendering utilities are available for debugging,<br> and a 3D simulation web app can also be accessed via the browser.\n",
    "\n",
    "\n",
    "## Configuration Management\n",
    "\n",
    "\n",
    "A critical aspect of maintaining a framework like JobShopLab and ensuring reproducible results is proper configuration management.\n",
    "\n",
    "\n",
    "There are two types of configurations to consider:\n",
    "\n",
    "\n",
    "### 1. Framework Config  \n",
    "\n",
    "\n",
    "A YAML file containing configuration parameters that control the behavior of the framework.<br>\n",
    "**Examples:** Setting the observation space, render modes, and truncation behavior.\n",
    "\n",
    "\n",
    "### 2. Problem Instance Config  \n",
    "A DSL file (a domain-specific language in YAML syntax) that defines the scheduling problem.  \n"
   ]
  },
  {
   "cell_type": "markdown",
   "metadata": {
    "vscode": {
     "languageId": "plaintext"
    }
   },
   "source": [
    "## Configuring the Framework\n",
    "\n",
    "\n",
    "The framework can be configured in two ways:\n",
    "\n",
    "\n",
    "- Via a [config.yaml](#config-file) file\n",
    "- Via [dependency injection](#dependency-injection)\n",
    "\n",
    "\n",
    "\n",
    "> **Note**<br>\n",
    "> A configuration file is always required, but it can be overridden using dependency injection.<br> While dependency injection is useful for testing new components quickly,<br> the recommended approach is to use configuration objects."
   ]
  },
  {
   "cell_type": "markdown",
   "metadata": {
    "vscode": {
     "languageId": "plaintext"
    }
   },
   "source": [
    "## Config File\n",
    "\n",
    "\n",
    "Framework Configs are written in YAML syntax. <br>\n",
    "The YAML gets parsed dynamically into a Python dataclass object.<br>\n",
    "\n",
    "\n",
    "This allows:\n",
    " - Dot notation attribute access\n",
    " - Autocompletion\n",
    " - Type safety and validation\n"
   ]
  },
  {
   "cell_type": "markdown",
   "metadata": {
    "vscode": {
     "languageId": "raw"
    }
   },
   "source": [
    "```yaml\n",
    "# Example configuration file for JobShopLab\n",
    "\n",
    "title: \"Example Environment\"\n",
    "default_loglevel: \"warning\" # JobShopLab uses the logging module with a Logger obj for Verbosity. Set a default loglevel here\n",
    "\n",
    "\n",
    "# Define all Dependencies for the environment here.. want to use a different observation? Simply change the ActionFactory name\n",
    "env: \n",
    "    loglevel: \"warning\"\n",
    "    observation_factory: \"BinaryActionObservationFactory\"\n",
    "    reward_factory: \"BinaryActionJsspReward\"\n",
    "    action_factory: \"BinaryJobActionInterpreter\"\n",
    "    render_backend: \"render_in_dashboard\"\n",
    "    middleware: \"EventBasedBinaryActionMiddleware\"\n",
    "    max_time_fct: 2\n",
    "    max_action_fct: 3\n",
    "\n",
    "# For every Software Component there is a designated field \n",
    "compiler:\n",
    "    loglevel: \"warning\"\n",
    "    repo: \"SpecRepository\" # set to \"YamlRepository\" in order to use custom Problem Instances\n",
    "    validator: \"DummyValidator\"\n",
    "    manipulators: # want to randomize machine times? Set one or multiple Manipulators \n",
    "        - \"DummyManipulator\"\n",
    "    dsl_repository:\n",
    "        dir: \"data/jssp_instances/dsl/default_instance.yaml\" # yaml instance file to read\n",
    "    spec_repository:\n",
    "        dir: \"data/jssp_instances/ft06\" # academic spec file to read\n",
    "state_machine:\n",
    "    loglevel: \"warning\"\n",
    "\n",
    "middleware:\n",
    "    event_based_binary_action_middleware:\n",
    "        loglevel: \"warning\"\n",
    "        truncation_joker: 5 # \n",
    "        truncation_active: False\n",
    "\n",
    "action_factory:\n",
    "    binary_job_action_action_factory:\n",
    "        loglevel: \"warning\"\n",
    "    # want to add settings for a new action_factory (change the action space)\n",
    "    # set a new field here with name of the class as lowercase \n",
    "\n",
    "observation_factory:\n",
    "    binary_action_observation_factory:\n",
    "        loglevel: \"warning\"\n",
    "    \n",
    "    \n",
    "\n",
    "reward_factory:\n",
    "    binary_action_jssp_reward:\n",
    "        loglevel: \"warning\"\n",
    "        sparse_bias: 1 # settings are passed as kwargs to the constructor of the Class\n",
    "        dense_bias: 0.001\n",
    "        truncation_bias: -1\n",
    "\n",
    "render_backend:\n",
    "    render_in_dashboard:\n",
    "        loglevel: \"warning\"\n",
    "        port: 8050\n",
    "        debug: False\n",
    "    simulation:\n",
    "        json_dump_dir: \"data/tmp/simulation_interface.json\"\n",
    "        port: 8051\n",
    "        loglevel: \"warning\"\n",
    "        bind_all: False\n",
    "```"
   ]
  },
  {
   "cell_type": "markdown",
   "metadata": {},
   "source": [
    "\n",
    "\n",
    "> **warning**<br>\n",
    "> The configuration object is immutable. Any attempt to modify its attributes (as shown in the next example) will result in an error.\n",
    "\n",
    "To load the configuration file and create an environment:\n"
   ]
  },
  {
   "cell_type": "code",
   "execution_count": 3,
   "metadata": {},
   "outputs": [
    {
     "name": "stdout",
     "output_type": "stream",
     "text": [
      "Dashboard Port: 8050\n",
      "Error: cannot assign to field 'port'\n"
     ]
    }
   ],
   "source": [
    "# load a config file\n",
    "config = load_config(config_path=Path(\"./data/config/getting_started_config.yaml\"))\n",
    "\n",
    "# config is a object (immutable dataclass) atributtes can be accessed with dot notation\n",
    "# a stub file (.pyi) is automaticly created when the config is loaded to ensure autocompletion\n",
    "print(f\"Dashboard Port: {config.render_backend.render_in_dashboard.port}\") \n",
    "\n",
    "# config is immutable to prevent accidental changes and enforce consistency\n",
    "try:\n",
    "    config.render_backend.render_in_dashboard.port = 1000\n",
    "except AttributeError as e:\n",
    "    print(f\"Error: {e}\")\n",
    "\n",
    "# create an environment with the loaded config\n",
    "env = JobShopLabEnv(config=config)"
   ]
  },
  {
   "cell_type": "markdown",
   "metadata": {
    "vscode": {
     "languageId": "plaintext"
    }
   },
   "source": [
    "## ⏬ Dependency Injection\n",
    "\n",
    "The environment allows you to pass dependencies directly as constructor arguments.<br>\n",
    "\n",
    "The passed instances are constructed inside the environment, and additional arguments not included in the config file can be provided via partial application. <br>This supports dynamic instance creation (useful for hyperparameter optimization), rapid experiment implementation, and customization.\n",
    "\n",
    "> **Note**\n",
    ">   Dependency injection is particularly useful when you need to test new components or override default behaviors quickly.\n",
    "\n",
    "\n",
    "\n",
    "\n",
    "\n",
    "Example using dependency injection with a dummy observation factory:"
   ]
  },
  {
   "cell_type": "code",
   "execution_count": 4,
   "metadata": {},
   "outputs": [],
   "source": [
    "from jobshoplab.env.factories.observations import DummyObservationFactory\n",
    "from functools import partial\n",
    "config = load_config(config_path=Path(\"./data/config/getting_started_config.yaml\"))\n",
    "\n",
    "observation_factory = DummyObservationFactory # instead of using the observation factory from the config, \n",
    "# we will use a dummy observation factory that returns a random observation\n",
    "\n",
    "observation_factory = partial(DummyObservationFactory, test_var=\"test_var\") # we can pass additional arguments to the observation factory using partial application\n",
    "\n",
    "env = JobShopLabEnv(config=config,observation_factory=observation_factory)\n",
    "assert isinstance(env.state_simulator.observation_factory, DummyObservationFactory) # check that the observation factory is the one we passed\n",
    "assert env.state_simulator.observation_factory.test_var == \"test_var\" # check that the argument was passed correctly"
   ]
  },
  {
   "cell_type": "markdown",
   "metadata": {
    "vscode": {
     "languageId": "plaintext"
    }
   },
   "source": [
    "## ✍️ Customing\n",
    "\n",
    "Want to introduce a new reward system?<br>\n",
    "\n",
    "The framework provides base classes for every factory, enabling easy customization.<br> This applies to the observation factory and the action factory as well. Abstract base classes define their interfaces.\n",
    "\n",
    "\n",
    "> **hint**\n",
    "> Customizing these components allows you to tailor JobShopLab to fit your specific scheduling and reinforcement learning needs.\n",
    "\n",
    "For example, you can define a custom reward factory as follows:"
   ]
  },
  {
   "cell_type": "code",
   "execution_count": 5,
   "metadata": {},
   "outputs": [],
   "source": [
    "from jobshoplab.env.factories.rewards import RewardFactory\n",
    "from jobshoplab.types import StateMachineResult\n",
    "\n",
    "\n",
    "class CustomRewardFactory(RewardFactory): # inherit from the abstract base class for the desired factory\n",
    "    # note: every ActionFactory takes 3 default arguments: loglevel, config and instance, additional arguments can be passed to the constructor\n",
    "    def __init__(\n",
    "        self, loglevel, config, instance, bias_a, bias_b, *args, **kwargs\n",
    "    ):  # add args and kwargs to the constructor as placeholders\n",
    "        self.test_var = super().__init__(\n",
    "            loglevel, config, instance\n",
    "        )  # call the parent constructor and pass the loglevel, config and instance\n",
    "        self.bias_a, self.bias_b = bias_a, bias_b\n",
    "\n",
    "    # the make method is called to create a reward (see the abstract base class RewardFactory)\n",
    "    def make(self, state_result: StateMachineResult, terminated: bool, truncated: bool) -> float:\n",
    "        if not terminated or truncated:\n",
    "            return self.bias_a\n",
    "        else:  # if done return a reward proportional to the time taken (makespan)\n",
    "            return self.bias_b * state_result.state.time.time\n",
    "\n",
    "    def __repr__(self) -> str:  # add a custom representation to the factory\n",
    "        return f\" CustomRewardFactory with bias_a: {self.bias_a}, bias_b: {self.bias_b}\"\n",
    "\n"
   ]
  },
  {
   "cell_type": "code",
   "execution_count": 6,
   "metadata": {},
   "outputs": [
    {
     "name": "stdout",
     "output_type": "stream",
     "text": [
      "Rewards: [0, 0, 0, 0, 0, 0, 0, 0, 0, 0, 0, 0, 0, 0, 0, 0, 0, 0, 0, 0, 0, 0, 0, 0, 0, 0, 0, 0, 0, 0, 0, 0, 0, 0, 0, 0, 0, 0, 0, 0, 0, 0, 0, 0, 0, 0, 0, 0, 0, 0, 0, 0, 0, 0, 0, 0, 0, 0, 0, 0, 0, 0, 0, 0, 0, 0, 0, 0, 0, 0, 0, 0, 0, 0, 0, 0, 0, 0, 0, 0, 0, 0, 0, 98]\n"
     ]
    }
   ],
   "source": [
    "\n",
    "bias_a, bias_b = 0, 1\n",
    "reward_factory = partial(\n",
    "    CustomRewardFactory, bias_a=bias_a, bias_b=bias_b\n",
    ")  # pass additional arguments to the constructor using partial application\n",
    "env = JobShopLabEnv(config=config, reward_factory=reward_factory)\n",
    "assert env.reward_factory.bias_a == bias_a  # argument was passed correctly and is accessible\n",
    "\n",
    "## lets run a random env and track the rewards\n",
    "done = False\n",
    "rewards = []\n",
    "while not done:\n",
    "    action = env.action_space.sample()\n",
    "    obs, reward, truncated, terminated, info = env.step(action)\n",
    "    done = truncated or terminated\n",
    "    rewards.append(reward)\n",
    "\n",
    "print(f\"Rewards: {rewards}\")"
   ]
  },
  {
   "cell_type": "markdown",
   "metadata": {},
   "source": [
    "# Defining a Problem\n",
    "\n",
    "There are 3 ways of setting the Instance (Problem to solve)"
   ]
  },
  {
   "cell_type": "code",
   "execution_count": 7,
   "metadata": {},
   "outputs": [
    {
     "data": {
      "text/html": [
       "\n",
       "            <style>\n",
       "            div.output_area {\n",
       "                max-height: none !important;\n",
       "                overflow-y: visible !important;\n",
       "            }\n",
       "            </style>\n",
       "            "
      ],
      "text/plain": [
       "<IPython.core.display.HTML object>"
      ]
     },
     "metadata": {},
     "output_type": "display_data"
    },
    {
     "data": {
      "text/html": [
       "<svg id=\"mermaid-svg\" width=\"100%\" xmlns=\"http://www.w3.org/2000/svg\" class=\"flowchart\" style=\"max-width: 855.703125px;\" viewBox=\"0 -0.002391815185546875 855.703125 304.9928283691406\" role=\"graphics-document document\" aria-roledescription=\"flowchart-v2\" xmlns:xlink=\"http://www.w3.org/1999/xlink\"><style xmlns=\"http://www.w3.org/1999/xhtml\">@import url(\"https://cdnjs.cloudflare.com/ajax/libs/font-awesome/6.7.2/css/all.min.css\");</style><style>#mermaid-svg{font-family:\"trebuchet ms\",verdana,arial,sans-serif;font-size:16px;fill:#333;}@keyframes edge-animation-frame{from{stroke-dashoffset:0;}}@keyframes dash{to{stroke-dashoffset:0;}}#mermaid-svg .edge-animation-slow{stroke-dasharray:9,5!important;stroke-dashoffset:900;animation:dash 50s linear infinite;stroke-linecap:round;}#mermaid-svg .edge-animation-fast{stroke-dasharray:9,5!important;stroke-dashoffset:900;animation:dash 20s linear infinite;stroke-linecap:round;}#mermaid-svg .error-icon{fill:#552222;}#mermaid-svg .error-text{fill:#552222;stroke:#552222;}#mermaid-svg .edge-thickness-normal{stroke-width:1px;}#mermaid-svg .edge-thickness-thick{stroke-width:3.5px;}#mermaid-svg .edge-pattern-solid{stroke-dasharray:0;}#mermaid-svg .edge-thickness-invisible{stroke-width:0;fill:none;}#mermaid-svg .edge-pattern-dashed{stroke-dasharray:3;}#mermaid-svg .edge-pattern-dotted{stroke-dasharray:2;}#mermaid-svg .marker{fill:#333333;stroke:#333333;}#mermaid-svg .marker.cross{stroke:#333333;}#mermaid-svg svg{font-family:\"trebuchet ms\",verdana,arial,sans-serif;font-size:16px;}#mermaid-svg p{margin:0;}#mermaid-svg .label{font-family:\"trebuchet ms\",verdana,arial,sans-serif;color:#333;}#mermaid-svg .cluster-label text{fill:#333;}#mermaid-svg .cluster-label span{color:#333;}#mermaid-svg .cluster-label span p{background-color:transparent;}#mermaid-svg .label text,#mermaid-svg span{fill:#333;color:#333;}#mermaid-svg .node rect,#mermaid-svg .node circle,#mermaid-svg .node ellipse,#mermaid-svg .node polygon,#mermaid-svg .node path{fill:#ECECFF;stroke:#9370DB;stroke-width:1px;}#mermaid-svg .rough-node .label text,#mermaid-svg .node .label text,#mermaid-svg .image-shape .label,#mermaid-svg .icon-shape .label{text-anchor:middle;}#mermaid-svg .node .katex path{fill:#000;stroke:#000;stroke-width:1px;}#mermaid-svg .rough-node .label,#mermaid-svg .node .label,#mermaid-svg .image-shape .label,#mermaid-svg .icon-shape .label{text-align:center;}#mermaid-svg .node.clickable{cursor:pointer;}#mermaid-svg .root .anchor path{fill:#333333!important;stroke-width:0;stroke:#333333;}#mermaid-svg .arrowheadPath{fill:#333333;}#mermaid-svg .edgePath .path{stroke:#333333;stroke-width:2.0px;}#mermaid-svg .flowchart-link{stroke:#333333;fill:none;}#mermaid-svg .edgeLabel{background-color:rgba(232,232,232, 0.8);text-align:center;}#mermaid-svg .edgeLabel p{background-color:rgba(232,232,232, 0.8);}#mermaid-svg .edgeLabel rect{opacity:0.5;background-color:rgba(232,232,232, 0.8);fill:rgba(232,232,232, 0.8);}#mermaid-svg .labelBkg{background-color:rgba(232, 232, 232, 0.5);}#mermaid-svg .cluster rect{fill:#ffffde;stroke:#aaaa33;stroke-width:1px;}#mermaid-svg .cluster text{fill:#333;}#mermaid-svg .cluster span{color:#333;}#mermaid-svg div.mermaidTooltip{position:absolute;text-align:center;max-width:200px;padding:2px;font-family:\"trebuchet ms\",verdana,arial,sans-serif;font-size:12px;background:hsl(80, 100%, 96.2745098039%);border:1px solid #aaaa33;border-radius:2px;pointer-events:none;z-index:100;}#mermaid-svg .flowchartTitleText{text-anchor:middle;font-size:18px;fill:#333;}#mermaid-svg rect.text{fill:none;stroke-width:0;}#mermaid-svg .icon-shape,#mermaid-svg .image-shape{background-color:rgba(232,232,232, 0.8);text-align:center;}#mermaid-svg .icon-shape p,#mermaid-svg .image-shape p{background-color:rgba(232,232,232, 0.8);padding:2px;}#mermaid-svg .icon-shape rect,#mermaid-svg .image-shape rect{opacity:0.5;background-color:rgba(232,232,232, 0.8);fill:rgba(232,232,232, 0.8);}#mermaid-svg .label-icon{display:inline-block;height:1em;overflow:visible;vertical-align:-0.125em;}#mermaid-svg .node .label-icon path{fill:currentColor;stroke:revert;stroke-width:revert;}#mermaid-svg :root{--mermaid-font-family:\"trebuchet ms\",verdana,arial,sans-serif;}#mermaid-svg .Sky&gt;*{stroke-width:1px!important;stroke-dasharray:none!important;stroke:#374D7C!important;fill:#E2EBFF!important;color:#374D7C!important;}#mermaid-svg .Sky span{stroke-width:1px!important;stroke-dasharray:none!important;stroke:#374D7C!important;fill:#E2EBFF!important;color:#374D7C!important;}#mermaid-svg .Sky tspan{fill:#374D7C!important;}#mermaid-svg .Ash&gt;*{stroke-width:1px!important;stroke-dasharray:none!important;stroke:#999999!important;fill:#EEEEEE!important;color:#000000!important;}#mermaid-svg .Ash span{stroke-width:1px!important;stroke-dasharray:none!important;stroke:#999999!important;fill:#EEEEEE!important;color:#000000!important;}#mermaid-svg .Ash tspan{fill:#000000!important;}</style><g><marker id=\"mermaid-svg_flowchart-v2-pointEnd\" class=\"marker flowchart-v2\" viewBox=\"0 0 10 10\" refX=\"5\" refY=\"5\" markerUnits=\"userSpaceOnUse\" markerWidth=\"8\" markerHeight=\"8\" orient=\"auto\"><path d=\"M 0 0 L 10 5 L 0 10 z\" class=\"arrowMarkerPath\" style=\"stroke-width: 1; stroke-dasharray: 1, 0;\"/></marker><marker id=\"mermaid-svg_flowchart-v2-pointStart\" class=\"marker flowchart-v2\" viewBox=\"0 0 10 10\" refX=\"4.5\" refY=\"5\" markerUnits=\"userSpaceOnUse\" markerWidth=\"8\" markerHeight=\"8\" orient=\"auto\"><path d=\"M 0 5 L 10 10 L 10 0 z\" class=\"arrowMarkerPath\" style=\"stroke-width: 1; stroke-dasharray: 1, 0;\"/></marker><marker id=\"mermaid-svg_flowchart-v2-circleEnd\" class=\"marker flowchart-v2\" viewBox=\"0 0 10 10\" refX=\"11\" refY=\"5\" markerUnits=\"userSpaceOnUse\" markerWidth=\"11\" markerHeight=\"11\" orient=\"auto\"><circle cx=\"5\" cy=\"5\" r=\"5\" class=\"arrowMarkerPath\" style=\"stroke-width: 1; stroke-dasharray: 1, 0;\"/></marker><marker id=\"mermaid-svg_flowchart-v2-circleStart\" class=\"marker flowchart-v2\" viewBox=\"0 0 10 10\" refX=\"-1\" refY=\"5\" markerUnits=\"userSpaceOnUse\" markerWidth=\"11\" markerHeight=\"11\" orient=\"auto\"><circle cx=\"5\" cy=\"5\" r=\"5\" class=\"arrowMarkerPath\" style=\"stroke-width: 1; stroke-dasharray: 1, 0;\"/></marker><marker id=\"mermaid-svg_flowchart-v2-crossEnd\" class=\"marker cross flowchart-v2\" viewBox=\"0 0 11 11\" refX=\"12\" refY=\"5.2\" markerUnits=\"userSpaceOnUse\" markerWidth=\"11\" markerHeight=\"11\" orient=\"auto\"><path d=\"M 1,1 l 9,9 M 10,1 l -9,9\" class=\"arrowMarkerPath\" style=\"stroke-width: 2; stroke-dasharray: 1, 0;\"/></marker><marker id=\"mermaid-svg_flowchart-v2-crossStart\" class=\"marker cross flowchart-v2\" viewBox=\"0 0 11 11\" refX=\"-1\" refY=\"5.2\" markerUnits=\"userSpaceOnUse\" markerWidth=\"11\" markerHeight=\"11\" orient=\"auto\"><path d=\"M 1,1 l 9,9 M 10,1 l -9,9\" class=\"arrowMarkerPath\" style=\"stroke-width: 2; stroke-dasharray: 1, 0;\"/></marker><g class=\"root\"><g class=\"clusters\"/><g class=\"edgePaths\"><path d=\"M112.188,42.248L120.549,42.164C128.911,42.081,145.635,41.914,159.202,41.831C172.768,41.748,183.177,41.748,188.382,41.748L193.586,41.748\" id=\"L_A_D_0\" class=\" edge-thickness-normal edge-pattern-solid edge-thickness-normal edge-pattern-solid flowchart-link\" style=\"\" marker-end=\"url(#mermaid-svg_flowchart-v2-pointEnd)\"/><path d=\"M318.945,41.748L324.816,41.748C330.688,41.748,342.43,41.748,361.142,56.33C379.855,70.912,405.537,100.076,418.379,114.659L431.22,129.241\" id=\"L_D_G_0\" class=\" edge-thickness-normal edge-pattern-solid edge-thickness-normal edge-pattern-solid flowchart-link\" style=\"\" marker-end=\"url(#mermaid-svg_flowchart-v2-pointEnd)\"/><path d=\"M536.109,159.243L540.276,159.243C544.443,159.243,552.776,159.243,560.443,159.243C568.109,159.243,575.109,159.243,578.609,159.243L582.109,159.243\" id=\"L_G_H_0\" class=\" edge-thickness-normal edge-pattern-solid edge-thickness-normal edge-pattern-solid flowchart-link\" style=\"\" marker-end=\"url(#mermaid-svg_flowchart-v2-pointEnd)\"/><path d=\"M118.867,159.743L126.116,159.659C133.365,159.576,147.862,159.409,159.202,159.326C170.542,159.243,178.724,159.243,182.815,159.243L186.906,159.243\" id=\"L_B_E_0\" class=\" edge-thickness-normal edge-pattern-solid edge-thickness-normal edge-pattern-solid flowchart-link\" style=\"\" marker-end=\"url(#mermaid-svg_flowchart-v2-pointEnd)\"/><path d=\"M325.625,159.243L330.383,159.243C335.141,159.243,344.656,159.243,352.914,159.243C361.172,159.243,368.172,159.243,371.672,159.243L375.172,159.243\" id=\"L_E_G_0\" class=\" edge-thickness-normal edge-pattern-solid edge-thickness-normal edge-pattern-solid flowchart-link\" style=\"\" marker-end=\"url(#mermaid-svg_flowchart-v2-pointEnd)\"/><path d=\"M137.359,269.99L141.526,269.99C145.693,269.99,154.026,269.99,161.693,269.99C169.359,269.99,176.359,269.99,179.859,269.99L183.359,269.99\" id=\"L_C_F_0\" class=\" edge-thickness-normal edge-pattern-solid edge-thickness-normal edge-pattern-solid flowchart-link\" style=\"\" marker-end=\"url(#mermaid-svg_flowchart-v2-pointEnd)\"/><path d=\"M329.172,269.99L333.339,269.99C337.505,269.99,345.839,269.99,362.591,256.52C379.343,243.049,404.514,216.107,417.099,202.636L429.684,189.166\" id=\"L_F_G_0\" class=\" edge-thickness-normal edge-pattern-solid edge-thickness-normal edge-pattern-solid flowchart-link\" style=\"\" marker-end=\"url(#mermaid-svg_flowchart-v2-pointEnd)\"/><path d=\"M710.125,159.243L714.292,159.243C718.458,159.243,726.792,159.243,734.458,159.243C742.125,159.243,749.125,159.243,752.625,159.243L756.125,159.243\" id=\"L_H_I_0\" class=\" edge-thickness-normal edge-pattern-solid edge-thickness-normal edge-pattern-solid flowchart-link\" style=\"\" marker-end=\"url(#mermaid-svg_flowchart-v2-pointEnd)\"/></g><g class=\"edgeLabels\"><g class=\"edgeLabel\"><g class=\"label\" transform=\"translate(0, 0)\"><foreignObject width=\"0\" height=\"0\"><div xmlns=\"http://www.w3.org/1999/xhtml\" class=\"labelBkg\" style=\"display: table-cell; white-space: nowrap; line-height: 1.5; max-width: 200px; text-align: center;\"><span class=\"edgeLabel \"></span></div></foreignObject></g></g><g class=\"edgeLabel\"><g class=\"label\" transform=\"translate(0, 0)\"><foreignObject width=\"0\" height=\"0\"><div xmlns=\"http://www.w3.org/1999/xhtml\" class=\"labelBkg\" style=\"display: table-cell; white-space: nowrap; line-height: 1.5; max-width: 200px; text-align: center;\"><span class=\"edgeLabel \"></span></div></foreignObject></g></g><g class=\"edgeLabel\"><g class=\"label\" transform=\"translate(0, 0)\"><foreignObject width=\"0\" height=\"0\"><div xmlns=\"http://www.w3.org/1999/xhtml\" class=\"labelBkg\" style=\"display: table-cell; white-space: nowrap; line-height: 1.5; max-width: 200px; text-align: center;\"><span class=\"edgeLabel \"></span></div></foreignObject></g></g><g class=\"edgeLabel\"><g class=\"label\" transform=\"translate(0, 0)\"><foreignObject width=\"0\" height=\"0\"><div xmlns=\"http://www.w3.org/1999/xhtml\" class=\"labelBkg\" style=\"display: table-cell; white-space: nowrap; line-height: 1.5; max-width: 200px; text-align: center;\"><span class=\"edgeLabel \"></span></div></foreignObject></g></g><g class=\"edgeLabel\"><g class=\"label\" transform=\"translate(0, 0)\"><foreignObject width=\"0\" height=\"0\"><div xmlns=\"http://www.w3.org/1999/xhtml\" class=\"labelBkg\" style=\"display: table-cell; white-space: nowrap; line-height: 1.5; max-width: 200px; text-align: center;\"><span class=\"edgeLabel \"></span></div></foreignObject></g></g><g class=\"edgeLabel\"><g class=\"label\" transform=\"translate(0, 0)\"><foreignObject width=\"0\" height=\"0\"><div xmlns=\"http://www.w3.org/1999/xhtml\" class=\"labelBkg\" style=\"display: table-cell; white-space: nowrap; line-height: 1.5; max-width: 200px; text-align: center;\"><span class=\"edgeLabel \"></span></div></foreignObject></g></g><g class=\"edgeLabel\"><g class=\"label\" transform=\"translate(0, 0)\"><foreignObject width=\"0\" height=\"0\"><div xmlns=\"http://www.w3.org/1999/xhtml\" class=\"labelBkg\" style=\"display: table-cell; white-space: nowrap; line-height: 1.5; max-width: 200px; text-align: center;\"><span class=\"edgeLabel \"></span></div></foreignObject></g></g><g class=\"edgeLabel\"><g class=\"label\" transform=\"translate(0, 0)\"><foreignObject width=\"0\" height=\"0\"><div xmlns=\"http://www.w3.org/1999/xhtml\" class=\"labelBkg\" style=\"display: table-cell; white-space: nowrap; line-height: 1.5; max-width: 200px; text-align: center;\"><span class=\"edgeLabel \"></span></div></foreignObject></g></g></g><g class=\"nodes\"><g class=\"node default Sky Ash \" id=\"flowchart-A-0\" transform=\"translate(72.6796875, 41.74760818481445)\"><g class=\"basic label-container\" transform=\"translate(0,-3.375)\"><path d=\"M-39.0078125 30.375 C-39.0078125 30.375, -39.0078125 30.375, -39.0078125 30.375 C-38.68345781180647 30.515825219889063, -38.35910312361293 30.65665043977813, -37.4475 31.0524415752457 C-37.01907395736246 31.236573179672153, -36.59064791472491 31.420704784098604, -35.8871875 31.723042368472246 C-35.35419698190049 31.94746442381393, -34.821206463800976 32.17188647915562, -34.326875 32.38003067564499 C-33.84136491869542 32.57816050803048, -33.35585483739083 32.776290340415976, -32.7665625 33.01677225115112 C-32.342108518255216 33.18272909581296, -31.917654536510426 33.3486859404748, -31.20625 33.62683730018658 C-30.719524168316493 33.80689855725393, -30.232798336632985 33.986959814321274, -29.645937500000002 34.20406540660561 C-29.121226984213614 34.38517612644541, -28.596516468427225 34.56628684628521, -28.085625 34.74262774059375 C-27.51622186700702 34.923069822128916, -26.946818734014034 35.103511903664085, -26.5253125 35.23708591799337 C-26.147189493183976 35.345013810664575, -25.769066486367958 35.45294170333579, -24.965 35.682446916922174 C-24.38474043919985 35.82813972126269, -23.804480878399698 35.97383252560321, -23.4046875 36.0742134971386 C-22.902650591531394 36.18174889506562, -22.40061368306279 36.28928429299263, -21.844375 36.40842961302103 C-21.292582088884537 36.505076853704836, -20.740789177769077 36.60172409438864, -20.2840625 36.68172036158213 C-19.667319031285743 36.764571038491304, -19.050575562571485 36.84742171540048, -18.72375 36.8913260621246 C-18.23722077707511 36.9361663605823, -17.75069155415022 36.98100665903999, -17.163437499999997 37.03513012340311 C-16.597984034289684 37.0628717641025, -16.032530568579375 37.0906134048019, -15.603125000000002 37.111680416890835 C-15.081068958396331 37.114532253881194, -14.559012916792662 37.11738409087155, -14.0428125 37.120203940323975 C-13.577655316807544 37.10243929459798, -13.112498133615087 37.08467464887198, -12.482499999999998 37.060614623452395 C-12.026816359386425 37.02349540216176, -11.571132718772851 36.98637618087111, -10.9221875 36.93351419717405 C-10.317897087350447 36.85864053873843, -9.713606674700893 36.7837668803028, -9.361875000000001 36.740186117276835 C-8.800500325066245 36.64750462658454, -8.239125650132488 36.55482313589224, -7.801562499999999 36.482582604145634 C-7.453998250979741 36.41146255269173, -7.1064340019594825 36.34034250123782, -6.241250000000001 36.16330492930715 C-5.823949454465255 36.06228285247713, -5.406648908930509 35.96126077564711, -4.680937499999999 35.78557714787841 C-4.233959837604436 35.66171934773549, -3.7869821752088724 35.53786154759257, -3.120624999999997 35.35321354216767 C-2.546929582430207 35.17575896741736, -1.9732341648604175 34.99830439266705, -1.560312500000002 34.870580105181205 C-1.0650803627141652 34.70298723310412, -0.5698482254283285 34.53539436102704, 0 34.342550452974194 C0.5129852179622651 34.155777775496496, 1.0259704359245303 33.9690050980188, 1.560312500000002 33.77445661104139 C1.9113194311412425 33.638936258115116, 2.262326362282483 33.503415905188845, 3.120625000000004 33.17203517170467 C3.4342394655579564 33.04527471856503, 3.747853931115909 32.918514265425394, 4.680937500000006 32.541369366198666 C5.178415098512262 32.333318163208794, 5.675892697024518 32.12526696021892, 6.241249999999994 31.888827636408326 C6.645355940513201 31.715866523007655, 7.049461881026409 31.542905409606984, 7.801562499999996 31.22099932655906 C8.321922845791354 30.995431216123784, 8.842283191582712 30.76986310568851, 9.361874999999998 30.54462814424253 C9.84240067982556 30.335800224022304, 10.322926359651122 30.126972303802077, 10.9221875 29.866544062686458 C11.378369747075 29.669796480886443, 11.834551994149999 29.473048899086432, 12.482500000000002 29.19359435191689 C13.05805390328018 28.949763328850082, 13.63360780656036 28.70593230578327, 14.042812500000004 28.532574435258056 C14.49416935914658 28.34674083363046, 14.945526218293159 28.160907232002863, 15.603124999999999 27.890159269378426 C16.00910453979251 27.729537188328997, 16.41508407958502 27.56891510727957, 17.1634375 27.272835940804956 C17.536512443319296 27.13272228470768, 17.90958738663859 26.9926086286104, 18.723750000000003 26.686838159543683 C19.04161794646706 26.575045440630678, 19.359485892934117 26.463252721717673, 20.284062499999997 26.138083311287776 C20.854986815941086 25.952946729395833, 21.42591113188217 25.76781014750389, 21.844375 25.632112703857768 C22.43631674454164 25.458330238278048, 23.028258489083274 25.284547772698332, 23.4046875 25.174035611263427 C23.854599560323717 25.057094034340427, 24.30451162064743 24.940152457417426, 24.964999999999996 24.76847768042827 C25.30191746609493 24.693130500955615, 25.638834932189862 24.617783321482957, 26.5253125 24.419534221564067 C26.926916249579154 24.345199549140712, 27.328519999158313 24.270864876717358, 28.085624999999993 24.13072885386741 C28.562835233663797 24.061684573360452, 29.0400454673276 23.99264029285349, 29.645937500000002 23.904977924132712 C30.076504809058385 23.86071098494034, 30.507072118116763 23.81644404574797, 31.206249999999997 23.744561057581354 C31.798329909783572 23.709095394884983, 32.39040981956715 23.673629732188612, 32.766562500000006 23.651098138283587 C33.35514114017732 23.64145447856809, 33.94371978035463 23.631810818852593, 34.326875 23.62553295162424 C34.83286219774527 23.63934451189824, 35.33884939549055 23.65315607217224, 35.887187499999996 23.668123653989944 C36.446449160747825 23.707664320149412, 37.00571082149565 23.747204986308876, 37.447500000000005 23.778440165914695 C37.79168820252164 23.817468662096996, 38.135876405043284 23.856497158279296, 39.0078125 23.955368515007713 C39.0078125 12.101549457773164, 39.0078125 0.2477304005386145, 39.0078125 -30.375 C11.924824109687847 -30.375, -15.158164280624305 -30.375, -39.0078125 -30.375 C-39.0078125 -10.18895290913807, -39.0078125 9.99709418172386, -39.0078125 30.375\" stroke=\"none\" stroke-width=\"0\" fill=\"#EEEEEE\" style=\"stroke-width:1px !important;stroke-dasharray:none !important;stroke:#999999 !important;fill:#EEEEEE !important\"/><path d=\"M-39.0078125 30.375 C-39.0078125 30.375, -39.0078125 30.375, -39.0078125 30.375 M-39.0078125 30.375 C-39.0078125 30.375, -39.0078125 30.375, -39.0078125 30.375 M-39.0078125 30.375 C-38.421893755264776 30.62938860318008, -37.83597501052955 30.883777206360154, -37.4475 31.0524415752457 M-39.0078125 30.375 C-38.68716022106254 30.51421774320818, -38.36650794212508 30.653435486416363, -37.4475 31.0524415752457 M-37.4475 31.0524415752457 C-36.917741439396735 31.280124498351874, -36.38798287879348 31.507807421458047, -35.8871875 31.723042368472246 M-37.4475 31.0524415752457 C-36.91596594055692 31.28088758326618, -36.384431881113855 31.509333591286655, -35.8871875 31.723042368472246 M-35.8871875 31.723042368472246 C-35.43483694701201 31.913509998550346, -34.982486394024015 32.10397762862845, -34.326875 32.38003067564499 M-35.8871875 31.723042368472246 C-35.504905548031466 31.884006773029984, -35.12262359606294 32.044971177587726, -34.326875 32.38003067564499 M-34.326875 32.38003067564499 C-33.91347923422483 32.54873167061058, -33.50008346844965 32.71743266557617, -32.7665625 33.01677225115112 M-34.326875 32.38003067564499 C-33.89307991196995 32.55705634697626, -33.4592848239399 32.73408201830753, -32.7665625 33.01677225115112 M-32.7665625 33.01677225115112 C-32.16907896074552 33.25038175224347, -31.571595421491047 33.48399125333582, -31.20625 33.62683730018658 M-32.7665625 33.01677225115112 C-32.380650774569936 33.16765949694185, -31.99473904913987 33.31854674273258, -31.20625 33.62683730018658 M-31.20625 33.62683730018658 C-30.801841533710828 33.77644574927349, -30.397433067421655 33.926054198360404, -29.645937500000002 34.20406540660561 M-31.20625 33.62683730018658 C-30.60386627044884 33.84968549216508, -30.00148254089768 34.07253368414357, -29.645937500000002 34.20406540660561 M-29.645937500000002 34.20406540660561 C-29.023355307716855 34.41895781987248, -28.400773115433708 34.63385023313935, -28.085625 34.74262774059375 M-29.645937500000002 34.20406540660561 C-29.217382401761643 34.35198682231545, -28.78882730352328 34.4999082380253, -28.085625 34.74262774059375 M-28.085625 34.74262774059375 C-27.48515453471195 34.932914963088365, -26.8846840694239 35.12320218558298, -26.5253125 35.23708591799337 M-28.085625 34.74262774059375 C-27.515460331567986 34.923311150340545, -26.94529566313597 35.103994560087344, -26.5253125 35.23708591799337 M-26.5253125 35.23708591799337 C-26.12691201252827 35.35080162499061, -25.728511525056543 35.46451733198785, -24.965 35.682446916922174 M-26.5253125 35.23708591799337 C-25.977993900269556 35.393307417409844, -25.430675300539114 35.54952891682631, -24.965 35.682446916922174 M-24.965 35.682446916922174 C-24.478188606460265 35.80467655672667, -23.991377212920526 35.92690619653117, -23.4046875 36.0742134971386 M-24.965 35.682446916922174 C-24.398988267785796 35.824562346165955, -23.83297653557159 35.966677775409735, -23.4046875 36.0742134971386 M-23.4046875 36.0742134971386 C-22.88455792571649 36.18562431136499, -22.364428351432974 36.297035125591385, -21.844375 36.40842961302103 M-23.4046875 36.0742134971386 C-22.927334807046442 36.176461580740416, -22.449982114092883 36.27870966434223, -21.844375 36.40842961302103 M-21.844375 36.40842961302103 C-21.502652241411646 36.46828279531302, -21.160929482823292 36.52813597760501, -20.2840625 36.68172036158213 M-21.844375 36.40842961302103 C-21.445451000004034 36.478301666585864, -21.04652700000807 36.54817372015071, -20.2840625 36.68172036158213 M-20.2840625 36.68172036158213 C-19.887888704775193 36.73494065295624, -19.491714909550385 36.78816094433035, -18.72375 36.8913260621246 M-20.2840625 36.68172036158213 C-19.693796060126715 36.7610142278021, -19.103529620253425 36.84030809402207, -18.72375 36.8913260621246 M-18.72375 36.8913260621246 C-18.2649254587504 36.933612996598264, -17.8061009175008 36.97589993107193, -17.163437499999997 37.03513012340311 M-18.72375 36.8913260621246 C-18.32772286745766 36.927825359564096, -17.931695734915316 36.9643246570036, -17.163437499999997 37.03513012340311 M-17.163437499999997 37.03513012340311 C-16.7540394393094 37.055215549687375, -16.3446413786188 37.07530097597164, -15.603125000000002 37.111680416890835 M-17.163437499999997 37.03513012340311 C-16.818863988039407 37.052035200731325, -16.474290476078817 37.068940278059536, -15.603125000000002 37.111680416890835 M-15.603125000000002 37.111680416890835 C-15.026809040934126 37.11482865968322, -14.450493081868247 37.117976902475604, -14.0428125 37.120203940323975 M-15.603125000000002 37.111680416890835 C-15.08254256065474 37.11452420403004, -14.56196012130948 37.117367991169246, -14.0428125 37.120203940323975 M-14.0428125 37.120203940323975 C-13.691744161965445 37.10679641943395, -13.340675823930892 37.09338889854392, -12.482499999999998 37.060614623452395 M-14.0428125 37.120203940323975 C-13.423279723555448 37.096543593484554, -12.803746947110895 37.072883246645134, -12.482499999999998 37.060614623452395 M-12.482499999999998 37.060614623452395 C-12.061416454697996 37.026313867605936, -11.640332909395994 36.99201311175947, -10.9221875 36.93351419717405 M-12.482499999999998 37.060614623452395 C-12.041649432208995 37.02470367927212, -11.60079886441799 36.98879273509184, -10.9221875 36.93351419717405 M-10.9221875 36.93351419717405 C-10.382391598728331 36.86663163029771, -9.84259569745666 36.79974906342137, -9.361875000000001 36.740186117276835 M-10.9221875 36.93351419717405 C-10.507490979001457 36.88213187334808, -10.092794458002913 36.83074954952212, -9.361875000000001 36.740186117276835 M-9.361875000000001 36.740186117276835 C-8.95555284775154 36.67310339257762, -8.549230695503077 36.60602066787842, -7.801562499999999 36.482582604145634 M-9.361875000000001 36.740186117276835 C-9.03458742552208 36.68615179467178, -8.707299851044157 36.632117472066724, -7.801562499999999 36.482582604145634 M-7.801562499999999 36.482582604145634 C-7.389298929375097 36.39822350668937, -6.977035358750194 36.313864409233105, -6.241250000000001 36.16330492930715 M-7.801562499999999 36.482582604145634 C-7.206074121284146 36.360731279523336, -6.610585742568293 36.23887995490103, -6.241250000000001 36.16330492930715 M-6.241250000000001 36.16330492930715 C-5.894915252289001 36.07946258626077, -5.548580504578002 35.99562024321439, -4.680937499999999 35.78557714787841 M-6.241250000000001 36.16330492930715 C-5.635157040013968 36.01657909770925, -5.0290640800279345 35.86985326611135, -4.680937499999999 35.78557714787841 M-4.680937499999999 35.78557714787841 C-4.354412344815235 35.69509681560463, -4.027887189630471 35.60461648333084, -3.120624999999997 35.35321354216767 M-4.680937499999999 35.78557714787841 C-4.199089893018726 35.65205686347544, -3.717242286037453 35.51853657907247, -3.120624999999997 35.35321354216767 M-3.120624999999997 35.35321354216767 C-2.521571778744889 35.16791533100025, -1.9225185574897803 34.98261711983283, -1.560312500000002 34.870580105181205 M-3.120624999999997 35.35321354216767 C-2.6418264687259514 35.20511232476868, -2.1630279374519055 35.05701110736969, -1.560312500000002 34.870580105181205 M-1.560312500000002 34.870580105181205 C-1.0924778291515218 34.7122588852086, -0.6246431583030416 34.553937665236, 0 34.342550452974194 M-1.560312500000002 34.870580105181205 C-1.1330728914978452 34.72599677210757, -0.7058332829956881 34.58141343903394, 0 34.342550452974194 M0 34.342550452974194 C0.34343574282848055 34.21750900736604, 0.6868714856569611 34.09246756175788, 1.560312500000002 33.77445661104139 M0 34.342550452974194 C0.41358305462300604 34.191969087729035, 0.8271661092460121 34.041387722483876, 1.560312500000002 33.77445661104139 M1.560312500000002 33.77445661104139 C1.96925346636607 33.61656849211521, 2.378194432732138 33.45868037318904, 3.120625000000004 33.17203517170467 M1.560312500000002 33.77445661104139 C2.0502477229136726 33.585297399556886, 2.5401829458273433 33.396138188072385, 3.120625000000004 33.17203517170467 M3.120625000000004 33.17203517170467 C3.6328697804581997 32.964989937443, 4.1451145609163955 32.75794470318133, 4.680937500000006 32.541369366198666 M3.120625000000004 33.17203517170467 C3.726685717094929 32.92707028785466, 4.332746434189854 32.68210540400465, 4.680937500000006 32.541369366198666 M4.680937500000006 32.541369366198666 C5.093851144151392 32.36868384095383, 5.506764788302778 32.195998315709, 6.241249999999994 31.888827636408326 M4.680937500000006 32.541369366198666 C5.123104099590325 32.35644989798177, 5.565270699180645 32.171530429764864, 6.241249999999994 31.888827636408326 M6.241249999999994 31.888827636408326 C6.759577036120689 31.666978828248638, 7.277904072241383 31.44513002008895, 7.801562499999996 31.22099932655906 M6.241249999999994 31.888827636408326 C6.5722745789804815 31.747146027692697, 6.90329915796097 31.605464418977068, 7.801562499999996 31.22099932655906 M7.801562499999996 31.22099932655906 C8.211945839828871 31.043104536404485, 8.622329179657747 30.865209746249906, 9.361874999999998 30.54462814424253 M7.801562499999996 31.22099932655906 C8.193222104304233 31.05122098431744, 8.58488170860847 30.881442642075815, 9.361874999999998 30.54462814424253 M9.361874999999998 30.54462814424253 C9.809973236901614 30.349892614394292, 10.258071473803232 30.155157084546055, 10.9221875 29.866544062686458 M9.361874999999998 30.54462814424253 C9.96241894322687 30.283642419794987, 10.562962886453743 30.022656695347447, 10.9221875 29.866544062686458 M10.9221875 29.866544062686458 C11.502021315950973 29.616466595039032, 12.081855131901946 29.36638912739161, 12.482500000000002 29.19359435191689 M10.9221875 29.866544062686458 C11.397046195510972 29.66174148512554, 11.871904891021945 29.456938907564616, 12.482500000000002 29.19359435191689 M12.482500000000002 29.19359435191689 C12.896524562540563 29.018194563845416, 13.310549125081124 28.842794775773942, 14.042812500000004 28.532574435258056 M12.482500000000002 29.19359435191689 C12.885662452542784 29.022796251677484, 13.288824905085566 28.851998151438075, 14.042812500000004 28.532574435258056 M14.042812500000004 28.532574435258056 C14.549100123693854 28.324124622955654, 15.055387747387705 28.115674810653253, 15.603124999999999 27.890159269378426 M14.042812500000004 28.532574435258056 C14.612175610224327 28.298155050102515, 15.181538720448652 28.06373566494698, 15.603124999999999 27.890159269378426 M15.603124999999999 27.890159269378426 C16.093432809247382 27.69617348202483, 16.583740618494765 27.502187694671232, 17.1634375 27.272835940804956 M15.603124999999999 27.890159269378426 C16.154890648033874 27.671858251834333, 16.706656296067745 27.45355723429024, 17.1634375 27.272835940804956 M17.1634375 27.272835940804956 C17.56642373238964 27.121488670268338, 17.96940996477928 26.970141399731716, 18.723750000000003 26.686838159543683 M17.1634375 27.272835940804956 C17.62867263149297 27.098110201685596, 18.093907762985943 26.923384462566236, 18.723750000000003 26.686838159543683 M18.723750000000003 26.686838159543683 C19.06462238458254 26.56695488380487, 19.405494769165085 26.44707160806605, 20.284062499999997 26.138083311287776 M18.723750000000003 26.686838159543683 C19.334777317041993 26.47194261609095, 19.945804634083984 26.257047072638215, 20.284062499999997 26.138083311287776 M20.284062499999997 26.138083311287776 C20.80903539212252 25.96784763535009, 21.334008284245048 25.797611959412404, 21.844375 25.632112703857768 M20.284062499999997 26.138083311287776 C20.790889661760737 25.97373184522049, 21.297716823521473 25.80938037915321, 21.844375 25.632112703857768 M21.844375 25.632112703857768 C22.25870913353306 25.51047234319193, 22.67304326706612 25.388831982526085, 23.4046875 25.174035611263427 M21.844375 25.632112703857768 C22.387747553232526 25.472589198546927, 22.93112010646505 25.31306569323609, 23.4046875 25.174035611263427 M23.4046875 25.174035611263427 C23.77397922728918 25.07804894910829, 24.143270954578355 24.98206228695315, 24.964999999999996 24.76847768042827 M23.4046875 25.174035611263427 C23.866423347279913 25.054020784223805, 24.32815919455982 24.934005957184183, 24.964999999999996 24.76847768042827 M24.964999999999996 24.76847768042827 C25.50768964787377 24.647112247017418, 26.050379295747547 24.525746813606563, 26.5253125 24.419534221564067 M24.964999999999996 24.76847768042827 C25.561420124024153 24.63509612960867, 26.15784024804831 24.50171457878907, 26.5253125 24.419534221564067 M26.5253125 24.419534221564067 C26.943557303880258 24.342119380388432, 27.36180210776052 24.2647045392128, 28.085624999999993 24.13072885386741 M26.5253125 24.419534221564067 C27.026031374951963 24.326853877855253, 27.526750249903927 24.23417353414644, 28.085624999999993 24.13072885386741 M28.085624999999993 24.13072885386741 C28.68478104071592 24.044041069690984, 29.283937081431844 23.957353285514557, 29.645937500000002 23.904977924132712 M28.085624999999993 24.13072885386741 C28.52751113428015 24.066795375381133, 28.96939726856031 24.00286189689486, 29.645937500000002 23.904977924132712 M29.645937500000002 23.904977924132712 C30.0612973315859 23.86227447679488, 30.476657163171797 23.819571029457048, 31.206249999999997 23.744561057581354 M29.645937500000002 23.904977924132712 C30.008773673263445 23.867674472429027, 30.371609846526884 23.83037102072534, 31.206249999999997 23.744561057581354 M31.206249999999997 23.744561057581354 C31.6389771675861 23.7186406446243, 32.0717043351722 23.69272023166725, 32.766562500000006 23.651098138283587 M31.206249999999997 23.744561057581354 C31.6431451086692 23.718390984417717, 32.0800402173384 23.69222091125408, 32.766562500000006 23.651098138283587 M32.766562500000006 23.651098138283587 C33.359032334285004 23.64139072268349, 33.951502168569995 23.631683307083392, 34.326875 23.62553295162424 M32.766562500000006 23.651098138283587 C33.24162967839914 23.643314325046493, 33.716696856798286 23.6355305118094, 34.326875 23.62553295162424 M34.326875 23.62553295162424 C34.736871583794965 23.636724326731066, 35.14686816758992 23.64791570183789, 35.887187499999996 23.668123653989944 M34.326875 23.62553295162424 C34.745899880214864 23.636970765496176, 35.16492476042973 23.648408579368112, 35.887187499999996 23.668123653989944 M35.887187499999996 23.668123653989944 C36.499995919822155 23.71145015900282, 37.11280433964432 23.75477666401569, 37.447500000000005 23.778440165914695 M35.887187499999996 23.668123653989944 C36.47190776718176 23.709464283080077, 37.05662803436353 23.750804912170214, 37.447500000000005 23.778440165914695 M37.447500000000005 23.778440165914695 C37.89318312407122 23.82897746492405, 38.33886624814243 23.87951476393341, 39.0078125 23.955368515007713 M37.447500000000005 23.778440165914695 C37.93543826546705 23.833768897670925, 38.42337653093409 23.88909762942716, 39.0078125 23.955368515007713 M39.0078125 23.955368515007713 C39.0078125 10.323284755806014, 39.0078125 -3.3087990033956842, 39.0078125 -30.375 M39.0078125 23.955368515007713 C39.0078125 6.279416260682854, 39.0078125 -11.396535993642004, 39.0078125 -30.375 M39.0078125 -30.375 C13.721680869612019 -30.375, -11.564450760775962 -30.375, -39.0078125 -30.375 M39.0078125 -30.375 C16.164151157882653 -30.375, -6.679510184234694 -30.375, -39.0078125 -30.375 M-39.0078125 -30.375 C-39.0078125 -12.438073444168424, -39.0078125 5.498853111663152, -39.0078125 30.375 M-39.0078125 -30.375 C-39.0078125 -14.123100910665514, -39.0078125 2.1287981786689727, -39.0078125 30.375\" stroke=\"#999999\" stroke-width=\"1\" fill=\"none\" stroke-dasharray=\"0 0\" style=\"stroke-width:1px !important;stroke-dasharray:none !important;stroke:#999999 !important;fill:#EEEEEE !important\"/></g><g class=\"label\" style=\"color:#000000 !important\" transform=\"translate(-24.0078125,-18.75)\"><rect/><foreignObject width=\"48.015625\" height=\"24\"><div style=\"color: rgb(0, 0, 0) !important; display: table-cell; white-space: nowrap; line-height: 1.5; max-width: 200px; text-align: center;\" xmlns=\"http://www.w3.org/1999/xhtml\"><span style=\"color:#000000 !important\" class=\"nodeLabel \"><p>Dsl file</p></span></div></foreignObject></g></g><g class=\"node default Sky Ash \" id=\"flowchart-D-1\" transform=\"translate(258.265625, 41.74760818481445)\"><rect class=\"basic label-container\" style=\"stroke-width:1px !important;stroke-dasharray:none !important;stroke:#999999 !important;fill:#EEEEEE !important\" x=\"-60.6796875\" y=\"-27\" width=\"121.359375\" height=\"54\"/><g class=\"label\" style=\"color:#000000 !important\" transform=\"translate(-30.6796875, -12)\"><rect/><foreignObject width=\"61.359375\" height=\"24\"><div style=\"color: rgb(0, 0, 0) !important; display: table-cell; white-space: nowrap; line-height: 1.5; max-width: 200px; text-align: center;\" xmlns=\"http://www.w3.org/1999/xhtml\"><span style=\"color:#000000 !important\" class=\"nodeLabel \"><p>DslRepo</p></span></div></foreignObject></g></g><g class=\"node default Sky Ash \" id=\"flowchart-G-3\" transform=\"translate(457.640625, 159.24282455444336)\"><rect class=\"basic label-container\" style=\"stroke-width:1px !important;stroke-dasharray:none !important;stroke:#999999 !important;fill:#EEEEEE !important\" x=\"-78.46875\" y=\"-27\" width=\"156.9375\" height=\"54\"/><g class=\"label\" style=\"color:#000000 !important\" transform=\"translate(-48.46875, -12)\"><rect/><foreignObject width=\"96.9375\" height=\"24\"><div style=\"color: rgb(0, 0, 0) !important; display: table-cell; white-space: nowrap; line-height: 1.5; max-width: 200px; text-align: center;\" xmlns=\"http://www.w3.org/1999/xhtml\"><span style=\"color:#000000 !important\" class=\"nodeLabel \"><p>AbstractRepo</p></span></div></foreignObject></g></g><g class=\"node default Sky Ash \" id=\"flowchart-H-5\" transform=\"translate(648.1171875, 159.24282455444336)\"><rect class=\"basic label-container\" style=\"stroke-width:1px !important;stroke-dasharray:none !important;stroke:#999999 !important;fill:#EEEEEE !important\" x=\"-62.0078125\" y=\"-27\" width=\"124.015625\" height=\"54\"/><g class=\"label\" style=\"color:#000000 !important\" transform=\"translate(-32.0078125, -12)\"><rect/><foreignObject width=\"64.015625\" height=\"24\"><div style=\"color: rgb(0, 0, 0) !important; display: table-cell; white-space: nowrap; line-height: 1.5; max-width: 200px; text-align: center;\" xmlns=\"http://www.w3.org/1999/xhtml\"><span style=\"color:#000000 !important\" class=\"nodeLabel \"><p>Compiler</p></span></div></foreignObject></g></g><g class=\"node default Sky Ash \" id=\"flowchart-B-6\" transform=\"translate(72.6796875, 159.24282455444336)\"><g class=\"basic label-container\" transform=\"translate(0,-3.375)\"><path d=\"M-45.6875 30.375 C-45.6875 30.375, -45.6875 30.375, -45.6875 30.375 C-45.28289753074227 30.524983329205064, -44.878295061484536 30.67496665841013, -43.86 31.0524415752457 C-43.467364603272515 31.196519062793865, -43.07472920654504 31.34059655034203, -42.0325 31.72304236847225 C-41.60395459112539 31.87710492536592, -41.175409182250775 32.03116748225959, -40.205 32.38003067564499 C-39.755372411022236 32.536690910608996, -39.305744822044474 32.693351145573004, -38.3775 33.01677225115112 C-37.70371336534902 33.24169902341256, -37.02992673069804 33.466625795674005, -36.55 33.62683730018658 C-35.96911845677636 33.8103126234417, -35.38823691355272 33.993787946696834, -34.7225 34.20406540660561 C-34.2576412872518 34.34105878187915, -33.7927825745036 34.47805215715268, -32.894999999999996 34.74262774059375 C-32.206448052292814 34.92892603942179, -31.517896104585635 35.11522433824984, -31.0675 35.23708591799337 C-30.45807412662878 35.38560275287034, -29.84864825325756 35.53411958774731, -29.240000000000002 35.682446916922174 C-28.652380197943717 35.808416711898396, -28.064760395887433 35.93438650687462, -27.412499999999998 36.0742134971386 C-27.03829409719204 36.14264886971138, -26.66408819438408 36.21108424228416, -25.585 36.40842961302103 C-25.183084570663965 36.46853345353621, -24.781169141327933 36.5286372940514, -23.7575 36.68172036158213 C-23.39009726794627 36.723859736155774, -23.02269453589254 36.765999110729425, -21.93 36.8913260621246 C-21.460650309839693 36.92825869774969, -20.991300619679382 36.96519133337479, -20.1025 37.03513012340311 C-19.620225576092995 37.05533162747518, -19.137951152185995 37.075533131547246, -18.275000000000002 37.111680416890835 C-17.866474149604862 37.11358579563715, -17.457948299209725 37.11549117438346, -16.447499999999998 37.120203940323975 C-15.783959837740378 37.09856787740419, -15.120419675480758 37.076931814484404, -14.619999999999997 37.060614623452395 C-14.150231574690688 37.02794279466502, -13.680463149381378 36.99527096587765, -12.792500000000004 36.93351419717405 C-12.423227681992882 36.89444951416474, -12.053955363985759 36.85538483115543, -10.964999999999996 36.740186117276835 C-10.54829559219559 36.68144766617551, -10.131591184391183 36.62270921507419, -9.137499999999996 36.482582604145634 C-8.763177509908063 36.41718571534875, -8.388855019816129 36.35178882655187, -7.310000000000002 36.16330492930715 C-6.888082843212754 36.07609845511839, -6.466165686425506 35.98889198092962, -5.482500000000002 35.78557714787842 C-4.7996043763116125 35.62401259839442, -4.116708752623223 35.46244804891043, -3.655000000000001 35.35321354216767 C-3.02587572890054 35.1870650282129, -2.396751457801079 35.02091651425813, -1.8275000000000006 34.8705801051812 C-1.337275572724113 34.72893685821109, -0.8470511454482255 34.58729361124099, 0 34.342550452974194 C0.6574915285285666 34.138163646692355, 1.3149830570571333 33.93377684041051, 1.8275000000000006 33.77445661104139 C2.2603311152021766 33.63177713448335, 2.693162230404352 33.48909765792531, 3.655000000000001 33.17203517170467 C4.312617092259226 32.94509311249582, 4.970234184518451 32.71815105328696, 5.482500000000002 32.541369366198666 C6.150177081979372 32.30296326058105, 6.817854163958743 32.06455715496344, 7.309999999999995 31.888827636408326 C7.753893156800835 31.726614549316693, 8.197786313601675 31.564401462225057, 9.137499999999996 31.220999326559056 C9.725226653857886 31.00347737211375, 10.312953307715778 30.785955417668443, 10.964999999999996 30.54462814424253 C11.585981331051839 30.314216349151007, 12.206962662103683 30.083804554059487, 12.792500000000004 29.866544062686454 C13.42431975945277 29.633885827730374, 14.056139518905535 29.401227592774294, 14.620000000000005 29.193594351916886 C15.135518674562146 29.007127533150737, 15.651037349124287 28.820660714384587, 16.447500000000005 28.532574435258056 C17.12053934477006 28.295983090626606, 17.793578689540112 28.059391745995157, 18.275 27.890159269378426 C18.83379930359851 27.70139875167557, 19.392598607197026 27.512638233972712, 20.102499999999992 27.27283594080496 C20.518864672656274 27.13932635154523, 20.935229345312557 27.005816762285498, 21.929999999999993 26.686838159543687 C22.499018203404955 26.51597550681354, 23.068036406809917 26.345112854083396, 23.757500000000007 26.138083311287772 C24.202627284245292 26.014843189595155, 24.647754568490576 25.89160306790254, 25.585000000000008 25.632112703857764 C25.971002978976465 25.53535805414926, 26.35700595795292 25.438603404440755, 27.41250000000001 25.17403561126342 C27.853690255901828 25.076126879505185, 28.294880511803647 24.97821814774695, 29.239999999999995 24.76847768042827 C29.822528064342972 24.657249577743013, 30.405056128685946 24.546021475057756, 31.067499999999995 24.419534221564067 C31.50920867600984 24.349729659818607, 31.95091735201969 24.279925098073146, 32.894999999999996 24.13072885386741 C33.283569527486854 24.082728891023784, 33.67213905497371 24.034728928180154, 34.7225 23.904977924132716 C35.25194009681769 23.858503986317043, 35.78138019363538 23.81203004850137, 36.55 23.744561057581354 C36.92595794007046 23.725333628518612, 37.30191588014093 23.70610619945587, 38.3775 23.651098138283587 C38.74836292284454 23.645910078175486, 39.11922584568909 23.64072201806739, 40.205 23.62553295162424 C40.714339308188876 23.63740333131137, 41.223678616377754 23.649273710998497, 42.0325 23.668123653989944 C42.60980578754832 23.702972551826498, 43.187111575096644 23.737821449663052, 43.86 23.778440165914695 C44.46661245105823 23.83716899738118, 45.073224902116465 23.895897828847666, 45.6875 23.955368515007713 C45.6875 11.153252168049017, 45.6875 -1.6488641789096796, 45.6875 -30.375 C13.896389149557479 -30.375, -17.894721700885043 -30.375, -45.6875 -30.375 C-45.6875 -12.807971783777845, -45.6875 4.759056432444311, -45.6875 30.375\" stroke=\"none\" stroke-width=\"0\" fill=\"#EEEEEE\" style=\"stroke-width:1px !important;stroke-dasharray:none !important;stroke:#999999 !important;fill:#EEEEEE !important\"/><path d=\"M-45.6875 30.375 C-45.6875 30.375, -45.6875 30.375, -45.6875 30.375 M-45.6875 30.375 C-45.6875 30.375, -45.6875 30.375, -45.6875 30.375 M-45.6875 30.375 C-44.98268935244597 30.636268418784645, -44.277878704891954 30.897536837569294, -43.86 31.0524415752457 M-45.6875 30.375 C-45.101302504922046 30.592299345811597, -44.515105009844085 30.809598691623197, -43.86 31.0524415752457 M-43.86 31.0524415752457 C-43.47769193968904 31.1927294485707, -43.09538387937807 31.3330173218957, -42.0325 31.72304236847225 M-43.86 31.0524415752457 C-43.18829620191583 31.298923162008233, -42.51659240383166 31.545404748770768, -42.0325 31.72304236847225 M-42.0325 31.72304236847225 C-41.55058587676178 31.896291038255512, -41.06867175352356 32.069539708038775, -40.205 32.38003067564499 M-42.0325 31.72304236847225 C-41.43891048544094 31.936438467145653, -40.845320970881886 32.149834565819056, -40.205 32.38003067564499 M-40.205 32.38003067564499 C-39.73241285850738 32.54469052847013, -39.25982571701477 32.70935038129527, -38.3775 33.01677225115112 M-40.205 32.38003067564499 C-39.78044475328203 32.527955149891, -39.35588950656407 32.67587962413702, -38.3775 33.01677225115112 M-38.3775 33.01677225115112 C-37.85630533836762 33.19076001958109, -37.33511067673523 33.364747788011066, -36.55 33.62683730018658 M-38.3775 33.01677225115112 C-37.88384976041694 33.181565004977436, -37.390199520833896 33.34635775880376, -36.55 33.62683730018658 M-36.55 33.62683730018658 C-35.87547787597282 33.83988962762294, -35.200955751945635 34.0529419550593, -34.7225 34.20406540660561 M-36.55 33.62683730018658 C-35.83922967169649 33.85133886555209, -35.128459343393 34.07584043091759, -34.7225 34.20406540660561 M-34.7225 34.20406540660561 C-34.05880651237957 34.399655181568995, -33.395113024759134 34.595244956532376, -32.894999999999996 34.74262774059375 M-34.7225 34.20406540660561 C-34.24432352756652 34.34498351169562, -33.766147055133054 34.48590161678562, -32.894999999999996 34.74262774059375 M-32.894999999999996 34.74262774059375 C-32.17583310265983 34.93720938398908, -31.45666620531966 35.1317910273844, -31.0675 35.23708591799337 M-32.894999999999996 34.74262774059375 C-32.43446563832678 34.867232381416095, -31.973931276653563 34.991837022238435, -31.0675 35.23708591799337 M-31.0675 35.23708591799337 C-30.370610326995454 35.40691764489486, -29.67372065399091 35.576749371796346, -29.240000000000002 35.682446916922174 M-31.0675 35.23708591799337 C-30.693179002800534 35.32830779117136, -30.318858005601072 35.419529664349355, -29.240000000000002 35.682446916922174 M-29.240000000000002 35.682446916922174 C-28.710231627348325 35.79601492986913, -28.18046325469665 35.909582942816094, -27.412499999999998 36.0742134971386 M-29.240000000000002 35.682446916922174 C-28.77338018052143 35.78247758775026, -28.30676036104285 35.88250825857835, -27.412499999999998 36.0742134971386 M-27.412499999999998 36.0742134971386 C-26.782271906154406 36.189470616506625, -26.15204381230882 36.30472773587464, -25.585 36.40842961302103 M-27.412499999999998 36.0742134971386 C-26.70610601468069 36.20339995626644, -25.999712029361383 36.33258641539428, -25.585 36.40842961302103 M-25.585 36.40842961302103 C-25.191761222524843 36.467235916637684, -24.79852244504968 36.52604222025434, -23.7575 36.68172036158213 M-25.585 36.40842961302103 C-24.913759693064556 36.50880923871009, -24.242519386129107 36.609188864399165, -23.7575 36.68172036158213 M-23.7575 36.68172036158213 C-23.217723981884966 36.74363014566587, -22.67794796376993 36.8055399297496, -21.93 36.8913260621246 M-23.7575 36.68172036158213 C-23.318544085222772 36.73206655147222, -22.879588170445544 36.782412741362315, -21.93 36.8913260621246 M-21.93 36.8913260621246 C-21.375697098969752 36.934943576951746, -20.821394197939505 36.97856109177889, -20.1025 37.03513012340311 M-21.93 36.8913260621246 C-21.40105584831512 36.93294812352093, -20.872111696630242 36.97457018491727, -20.1025 37.03513012340311 M-20.1025 37.03513012340311 C-19.52360836850509 37.059378727664956, -18.944716737010182 37.0836273319268, -18.275000000000002 37.111680416890835 M-20.1025 37.03513012340311 C-19.53026928612123 37.05909971524448, -18.958038572242458 37.08306930708586, -18.275000000000002 37.111680416890835 M-18.275000000000002 37.111680416890835 C-17.595619929335452 37.114849069121924, -16.916239858670902 37.11801772135301, -16.447499999999998 37.120203940323975 M-18.275000000000002 37.111680416890835 C-17.638513911250364 37.11464901010141, -17.00202782250073 37.117617603311984, -16.447499999999998 37.120203940323975 M-16.447499999999998 37.120203940323975 C-15.832843488790653 37.1001618272659, -15.218186977581306 37.080119714207825, -14.619999999999997 37.060614623452395 M-16.447499999999998 37.120203940323975 C-15.753854042462155 37.09758621733606, -15.060208084924314 37.07496849434815, -14.619999999999997 37.060614623452395 M-14.619999999999997 37.060614623452395 C-14.249059843310917 37.03481618184422, -13.878119686621835 37.00901774023605, -12.792500000000004 36.93351419717405 M-14.619999999999997 37.060614623452395 C-14.01474552041322 37.01851990259748, -13.409491040826442 36.97642518174256, -12.792500000000004 36.93351419717405 M-12.792500000000004 36.93351419717405 C-12.301927562598504 36.88161738328987, -11.811355125197005 36.8297205694057, -10.964999999999996 36.740186117276835 M-12.792500000000004 36.93351419717405 C-12.21572370842895 36.87249802591295, -11.638947416857896 36.81148185465184, -10.964999999999996 36.740186117276835 M-10.964999999999996 36.740186117276835 C-10.571984044678402 36.6847867789417, -10.178968089356808 36.629387440606564, -9.137499999999996 36.482582604145634 M-10.964999999999996 36.740186117276835 C-10.489831565692219 36.67320660537165, -10.014663131384442 36.60622709346645, -9.137499999999996 36.482582604145634 M-9.137499999999996 36.482582604145634 C-8.761003188945933 36.41680584550408, -8.38450637789187 36.35102908686252, -7.310000000000002 36.16330492930715 M-9.137499999999996 36.482582604145634 C-8.738193515206401 36.41282082794162, -8.338887030412808 36.34305905173762, -7.310000000000002 36.16330492930715 M-7.310000000000002 36.16330492930715 C-6.603344042375622 36.01724551091763, -5.896688084751243 35.871186092528106, -5.482500000000002 35.78557714787842 M-7.310000000000002 36.16330492930715 C-6.596839973941302 36.01590117858387, -5.883679947882601 35.868497427860575, -5.482500000000002 35.78557714787842 M-5.482500000000002 35.78557714787842 C-4.976946085779202 35.66596942517873, -4.471392171558403 35.54636170247904, -3.655000000000001 35.35321354216767 M-5.482500000000002 35.78557714787842 C-5.098158188964077 35.69464669028888, -4.713816377928152 35.603716232699334, -3.655000000000001 35.35321354216767 M-3.655000000000001 35.35321354216767 C-3.022653290941544 35.1862139987696, -2.3903065818830864 35.01921445537154, -1.8275000000000006 34.8705801051812 M-3.655000000000001 35.35321354216767 C-2.9857241369427463 35.17646119739098, -2.316448273885491 34.99970885261428, -1.8275000000000006 34.8705801051812 M-1.8275000000000006 34.8705801051812 C-1.2729850852065514 34.71036105314181, -0.7184701704131022 34.55014200110242, 0 34.342550452974194 M-1.8275000000000006 34.8705801051812 C-1.2344384670760458 34.699223566211465, -0.641376934152091 34.52786702724173, 0 34.342550452974194 M0 34.342550452974194 C0.4177846031277368 34.212678573197884, 0.8355692062554736 34.082806693421574, 1.8275000000000006 33.77445661104139 M0 34.342550452974194 C0.47270286806453593 34.195606765744955, 0.9454057361290719 34.04866307851571, 1.8275000000000006 33.77445661104139 M1.8275000000000006 33.77445661104139 C2.3195416274793947 33.612258840622935, 2.811583254958789 33.45006107020449, 3.655000000000001 33.17203517170467 M1.8275000000000006 33.77445661104139 C2.304391071060165 33.617253106015454, 2.78128214212033 33.46004960098952, 3.655000000000001 33.17203517170467 M3.655000000000001 33.17203517170467 C4.121323385198716 33.011108105574635, 4.587646770397431 32.85018103944461, 5.482500000000002 32.541369366198666 M3.655000000000001 33.17203517170467 C4.3840892489950996 32.9204282450271, 5.113178497990198 32.66882131834953, 5.482500000000002 32.541369366198666 M5.482500000000002 32.541369366198666 C6.186663069568991 32.28993528276719, 6.89082613913798 32.03850119933571, 7.309999999999995 31.888827636408326 M5.482500000000002 32.541369366198666 C6.168108083202413 32.296560674230875, 6.8537161664048245 32.05175198226308, 7.309999999999995 31.888827636408326 M7.309999999999995 31.888827636408326 C7.826551322673216 31.700062877573163, 8.343102645346438 31.511298118737997, 9.137499999999996 31.220999326559056 M7.309999999999995 31.888827636408326 C7.82360969495189 31.701137844615207, 8.337219389903785 31.513448052822092, 9.137499999999996 31.220999326559056 M9.137499999999996 31.220999326559056 C9.837144110353556 30.962055898859667, 10.536788220707114 30.70311247116028, 10.964999999999996 30.54462814424253 M9.137499999999996 31.220999326559056 C9.659545973302304 31.027786274747257, 10.181591946604614 30.834573222935457, 10.964999999999996 30.54462814424253 M10.964999999999996 30.54462814424253 C11.462873129570747 30.359894987582376, 11.960746259141496 30.175161830922224, 12.792500000000004 29.866544062686454 M10.964999999999996 30.54462814424253 C11.56699160991117 30.321262383415675, 12.168983219822344 30.097896622588816, 12.792500000000004 29.866544062686454 M12.792500000000004 29.866544062686454 C13.37190574324485 29.653186510109247, 13.951311486489697 29.43982895753204, 14.620000000000005 29.193594351916886 M12.792500000000004 29.866544062686454 C13.235067878603303 29.703575019785227, 13.6776357572066 29.540605976884002, 14.620000000000005 29.193594351916886 M14.620000000000005 29.193594351916886 C15.153493984522111 29.000625734030816, 15.686987969044218 28.80765711614475, 16.447500000000005 28.532574435258056 M14.620000000000005 29.193594351916886 C15.098611631845353 29.020477076406976, 15.577223263690703 28.847359800897067, 16.447500000000005 28.532574435258056 M16.447500000000005 28.532574435258056 C17.146490560458076 28.28686054368762, 17.845481120916144 28.041146652117188, 18.275 27.890159269378426 M16.447500000000005 28.532574435258056 C16.995804330896878 28.339830786729664, 17.54410866179375 28.14708713820127, 18.275 27.890159269378426 M18.275 27.890159269378426 C18.963533078630636 27.657575120577768, 19.652066157261277 27.42499097177711, 20.102499999999992 27.27283594080496 M18.275 27.890159269378426 C18.652148167271935 27.76275989209487, 19.029296334543872 27.635360514811318, 20.102499999999992 27.27283594080496 M20.102499999999992 27.27283594080496 C20.545570784615165 27.130762891980783, 20.98864156923034 26.988689843156607, 21.929999999999993 26.686838159543687 M20.102499999999992 27.27283594080496 C20.51660019682921 27.14005246799414, 20.930700393658427 27.007268995183317, 21.929999999999993 26.686838159543687 M21.929999999999993 26.686838159543687 C22.571818986263434 26.49411516068472, 23.213637972526872 26.30139216182576, 23.757500000000007 26.138083311287772 M21.929999999999993 26.686838159543687 C22.37236163752881 26.554007465548413, 22.814723275057634 26.42117677155314, 23.757500000000007 26.138083311287772 M23.757500000000007 26.138083311287772 C24.200928593194384 26.015313497525586, 24.644357186388763 25.892543683763403, 25.585000000000008 25.632112703857764 M23.757500000000007 26.138083311287772 C24.132525658423102 26.034251869321057, 24.5075513168462 25.930420427354342, 25.585000000000008 25.632112703857764 M25.585000000000008 25.632112703857764 C26.182341587648185 25.482384387712447, 26.779683175296366 25.33265607156713, 27.41250000000001 25.17403561126342 M25.585000000000008 25.632112703857764 C26.061270269444105 25.512731855531595, 26.5375405388882 25.393351007205425, 27.41250000000001 25.17403561126342 M27.41250000000001 25.17403561126342 C27.96000027148464 25.052534611408433, 28.50750054296927 24.931033611553442, 29.239999999999995 24.76847768042827 M27.41250000000001 25.17403561126342 C27.838922262885244 25.079404185491722, 28.265344525770477 24.984772759720023, 29.239999999999995 24.76847768042827 M29.239999999999995 24.76847768042827 C29.62610906576463 24.69475388677205, 30.012218131529266 24.621030093115834, 31.067499999999995 24.419534221564067 M29.239999999999995 24.76847768042827 C29.772453020528722 24.6668109232923, 30.30490604105745 24.56514416615633, 31.067499999999995 24.419534221564067 M31.067499999999995 24.419534221564067 C31.61540899106687 24.33294650193103, 32.16331798213375 24.246358782297996, 32.894999999999996 24.13072885386741 M31.067499999999995 24.419534221564067 C31.557375624626733 24.342117690841246, 32.04725124925347 24.264701160118427, 32.894999999999996 24.13072885386741 M32.894999999999996 24.13072885386741 C33.30175548997366 24.080482380523364, 33.70851097994732 24.030235907179318, 34.7225 23.904977924132716 M32.894999999999996 24.13072885386741 C33.279407317218464 24.08324304852739, 33.663814634436925 24.03575724318737, 34.7225 23.904977924132716 M34.7225 23.904977924132716 C35.2661390629046 23.85725760949191, 35.8097781258092 23.8095372948511, 36.55 23.744561057581354 M34.7225 23.904977924132716 C35.40316389895367 23.84522965061984, 36.083827797907354 23.78548137710696, 36.55 23.744561057581354 M36.55 23.744561057581354 C36.958210620535205 23.723684145798277, 37.36642124107041 23.7028072340152, 38.3775 23.651098138283587 M36.55 23.744561057581354 C37.106758700926406 23.716087025552344, 37.663517401852815 23.687612993523334, 38.3775 23.651098138283587 M38.3775 23.651098138283587 C38.82384469398012 23.64485415173584, 39.270189387960244 23.63861016518809, 40.205 23.62553295162424 M38.3775 23.651098138283587 C39.104419051560704 23.640929152653282, 39.8313381031214 23.630760167022974, 40.205 23.62553295162424 M40.205 23.62553295162424 C40.75898926929035 23.63844391856385, 41.31297853858071 23.651354885503462, 42.0325 23.668123653989944 M40.205 23.62553295162424 C40.81038184759126 23.63964164551664, 41.41576369518252 23.65375033940904, 42.0325 23.668123653989944 M42.0325 23.668123653989944 C42.556163192471104 23.69973443200187, 43.0798263849422 23.731345210013792, 43.86 23.778440165914695 M42.0325 23.668123653989944 C42.58453753663876 23.7014472411273, 43.136575073277534 23.734770828264658, 43.86 23.778440165914695 M43.86 23.778440165914695 C44.49536790677702 23.839952940094037, 45.13073581355404 23.901465714273375, 45.6875 23.955368515007713 M43.86 23.778440165914695 C44.36489393942121 23.827321178866196, 44.86978787884242 23.876202191817693, 45.6875 23.955368515007713 M45.6875 23.955368515007713 C45.6875 7.792306152047651, 45.6875 -8.370756210912411, 45.6875 -30.375 M45.6875 23.955368515007713 C45.6875 8.369108891422849, 45.6875 -7.217150732162015, 45.6875 -30.375 M45.6875 -30.375 C13.601767724690355 -30.375, -18.48396455061929 -30.375, -45.6875 -30.375 M45.6875 -30.375 C18.663029703059028 -30.375, -8.361440593881944 -30.375, -45.6875 -30.375 M-45.6875 -30.375 C-45.6875 -12.210341066900646, -45.6875 5.954317866198707, -45.6875 30.375 M-45.6875 -30.375 C-45.6875 -13.965473369047984, -45.6875 2.444053261904031, -45.6875 30.375\" stroke=\"#999999\" stroke-width=\"1\" fill=\"none\" stroke-dasharray=\"0 0\" style=\"stroke-width:1px !important;stroke-dasharray:none !important;stroke:#999999 !important;fill:#EEEEEE !important\"/></g><g class=\"label\" style=\"color:#000000 !important\" transform=\"translate(-30.6875,-18.75)\"><rect/><foreignObject width=\"61.375\" height=\"24\"><div style=\"color: rgb(0, 0, 0) !important; display: table-cell; white-space: nowrap; line-height: 1.5; max-width: 200px; text-align: center;\" xmlns=\"http://www.w3.org/1999/xhtml\"><span style=\"color:#000000 !important\" class=\"nodeLabel \"><p>Spec file</p></span></div></foreignObject></g></g><g class=\"node default Sky Ash \" id=\"flowchart-E-7\" transform=\"translate(258.265625, 159.24282455444336)\"><rect class=\"basic label-container\" style=\"stroke-width:1px !important;stroke-dasharray:none !important;stroke:#999999 !important;fill:#EEEEEE !important\" x=\"-67.359375\" y=\"-27\" width=\"134.71875\" height=\"54\"/><g class=\"label\" style=\"color:#000000 !important\" transform=\"translate(-37.359375, -12)\"><rect/><foreignObject width=\"74.71875\" height=\"24\"><div style=\"color: rgb(0, 0, 0) !important; display: table-cell; white-space: nowrap; line-height: 1.5; max-width: 200px; text-align: center;\" xmlns=\"http://www.w3.org/1999/xhtml\"><span style=\"color:#000000 !important\" class=\"nodeLabel \"><p>SpecRepo</p></span></div></foreignObject></g></g><g class=\"node default Sky Ash \" id=\"flowchart-C-10\" transform=\"translate(72.6796875, 269.9904327392578)\"><rect class=\"basic label-container\" style=\"stroke-width:1px !important;stroke-dasharray:none !important;stroke:#999999 !important;fill:#EEEEEE !important\" x=\"-64.6796875\" y=\"-27\" width=\"129.359375\" height=\"54\"/><g class=\"label\" style=\"color:#000000 !important\" transform=\"translate(-34.6796875, -12)\"><rect/><foreignObject width=\"69.359375\" height=\"24\"><div style=\"color: rgb(0, 0, 0) !important; display: table-cell; white-space: nowrap; line-height: 1.5; max-width: 200px; text-align: center;\" xmlns=\"http://www.w3.org/1999/xhtml\"><span style=\"color:#000000 !important\" class=\"nodeLabel \"><p>Dsl String</p></span></div></foreignObject></g></g><g class=\"node default Sky Ash \" id=\"flowchart-F-11\" transform=\"translate(258.265625, 269.9904327392578)\"><rect class=\"basic label-container\" style=\"stroke-width:1px !important;stroke-dasharray:none !important;stroke:#999999 !important;fill:#EEEEEE !important\" x=\"-70.90625\" y=\"-27\" width=\"141.8125\" height=\"54\"/><g class=\"label\" style=\"color:#000000 !important\" transform=\"translate(-40.90625, -12)\"><rect/><foreignObject width=\"81.8125\" height=\"24\"><div style=\"color: rgb(0, 0, 0) !important; display: table-cell; white-space: nowrap; line-height: 1.5; max-width: 200px; text-align: center;\" xmlns=\"http://www.w3.org/1999/xhtml\"><span style=\"color:#000000 !important\" class=\"nodeLabel \"><p>DslStrRepo</p></span></div></foreignObject></g></g><g class=\"node default Sky Ash \" id=\"flowchart-I-15\" transform=\"translate(803.9140625, 159.24282455444336)\"><rect class=\"basic label-container\" style=\"stroke-width:1px !important;stroke-dasharray:none !important;stroke:#999999 !important;fill:#EEEEEE !important\" x=\"-43.7890625\" y=\"-27\" width=\"87.578125\" height=\"54\"/><g class=\"label\" style=\"color:#000000 !important\" transform=\"translate(-13.7890625, -12)\"><rect/><foreignObject width=\"27.578125\" height=\"24\"><div style=\"color: rgb(0, 0, 0) !important; display: table-cell; white-space: nowrap; line-height: 1.5; max-width: 200px; text-align: center;\" xmlns=\"http://www.w3.org/1999/xhtml\"><span style=\"color:#000000 !important\" class=\"nodeLabel \"><p>Env</p></span></div></foreignObject></g></g></g></g></g></svg>"
      ],
      "text/plain": [
       "<mermaid.__main__.Mermaid at 0x7e30a1ba8950>"
      ]
     },
     "execution_count": 7,
     "metadata": {},
     "output_type": "execute_result"
    }
   ],
   "source": [
    "show_mermaid(\"./docs/assets/instance.mmd\")\n"
   ]
  },
  {
   "cell_type": "markdown",
   "metadata": {},
   "source": [
    "1. **Spec File:** Academic JSSP problem definitions commonly found in the literature.\n",
    "2. **DSL File:** A YAML file that defines the scheduling problem in a flexible way for real-world scenarios.\n",
    "3. **DSL String:** Useful for Jupyter notebooks or for testing and debugging purposes."
   ]
  },
  {
   "cell_type": "markdown",
   "metadata": {
    "vscode": {
     "languageId": "plaintext"
    }
   },
   "source": [
    "### Spec Files\n",
    "\n",
    "Spec files are academic JSSP problem instances as found in the literature.<br> Common instances are included in JobShopLab.<br> To use them, specify the SpecRepository in your configuration file:\n",
    "\n",
    "\n",
    "```yaml\n",
    "compiler:\n",
    "  loglevel: *default_loglevel\n",
    "  repo: \"SpecRepository\" # use the SpecRepository here\n",
    "  validator: \"DummyValidator\"\n",
    "  manipulators:\n",
    "    - \"DummyManipulator\"\n",
    "  dsl_repository:\n",
    "    dir: \"data/jssp_instances/dsl/default_instance.yaml\"\n",
    "  spec_repository:\n",
    "    dir: \"data/jssp_instances/ft06\" # set the dir to the file here\n",
    "```\n",
    "\n",
    "\n",
    "Alternatively use **dependency injection:**"
   ]
  },
  {
   "cell_type": "code",
   "execution_count": 9,
   "metadata": {},
   "outputs": [],
   "source": [
    "from jobshoplab.compiler.repos import SpecRepository\n",
    "from jobshoplab.compiler import Compiler\n",
    "\n",
    "repo = SpecRepository(dir=Path(\"data/jssp_instances/spec_files/ft06\"),loglevel=\"warning\",config=config)\n",
    "compiler = Compiler(config=config,loglevel=\"warning\",repo=repo)\n",
    "# pass the compiler to the environment\n",
    "env = JobShopLabEnv(config=config, compiler=compiler)"
   ]
  },
  {
   "cell_type": "markdown",
   "metadata": {},
   "source": [
    "### The Compiler\n",
    "\n",
    "\n",
    "The compiler generates two interfaces used throughout JobShopLab:\n",
    "\n",
    "\n",
    "- **Instance:** A dataclass object holding all the information about the problem.\n",
    "- **(Initial) State:** A dataclass object representing the current state of the schedule. Since the state is time-dependent, <br>every state includes a time attribute.\n",
    "\n",
    "\n",
    "> **note**<br>\n",
    ">The compiler aggregates inputs from various sources (which can be overridden via dependency injection) and compiles a generic interface for the scheduling problem.\n"
   ]
  },
  {
   "cell_type": "code",
   "execution_count": 10,
   "metadata": {},
   "outputs": [
    {
     "name": "stdout",
     "output_type": "stream",
     "text": [
      "Instance\n",
      "Some Machine ID: m-0\n",
      "Operation Duration: DeterministicTimeConfig(time=1)\n",
      "\n",
      "State:\n",
      "Time: Time(time=0)\n",
      "MachineState: MachineStateState.IDLE\n"
     ]
    }
   ],
   "source": [
    "from jobshoplab.types import InstanceConfig, State\n",
    "# Compiler has a compile method that returns the compiled instance and the initial state\n",
    "instance , init_state = compiler.compile()\n",
    "\n",
    "instance : InstanceConfig\n",
    "init_state : State\n",
    "\n",
    "# Some examples of accsessing artibs \n",
    "\n",
    "\n",
    "# the instance is a dataclass object witch is a representation for the Jssp Problem Interface.\n",
    "# The instance is static and does not change\n",
    "# note: the instance is immutable to prevent accidental changes and enforce consistency\n",
    "print(\"Instance\")\n",
    "print(\"Some Machine ID:\", instance.machines[0].id)\n",
    "print(\"Operation Duration:\", instance.instance.specification[0].operations[0].duration)\n",
    "\n",
    "# the initial state is a dataclass object representing the initial state of all components\n",
    "# the state is dynamic meaning that it changes as the environment is stepped its basicly a snapshot of the environment\n",
    "# the state gets updated by the state simulator (state_machine)\n",
    "# note: the state is immutable to prevent accidental changes and enforce consistency\n",
    "print(\"\\nState:\")\n",
    "print(\"Time:\", init_state.time)\n",
    "print(\"MachineState:\",init_state.machines[0].state)"
   ]
  },
  {
   "cell_type": "markdown",
   "metadata": {
    "vscode": {
     "languageId": "plaintext"
    }
   },
   "source": [
    "### DSL\n",
    "\n",
    "\n",
    "The primary purpose of JobShopLab is to represent real-world scheduling problems.<br> Therefore, the DSL (instance.yaml) provides a way to specify the problem itself.\n",
    "\n",
    "\n",
    "\n",
    "**Specify the DslRepository in the config file:**\n",
    "```yaml\n",
    "compiler:\n",
    "  loglevel: *default_loglevel\n",
    "  repo: \"DslRepository\" # <- set the repo here\n",
    "  validator: \"DummyValidator\"\n",
    "  manipulators:\n",
    "    - \"DummyManipulator\"\n",
    "  dsl_repository:\n",
    "    dir: \"data/jssp_instances/dsl/default_instance.yaml\" # <- set the filepath here\n",
    "  spec_repository:\n",
    "    dir: \"data/jssp_instances/ft06\"\n",
    "```\n",
    "\n",
    "\n",
    "**Alternatively** use dependency injection:"
   ]
  },
  {
   "cell_type": "code",
   "execution_count": 11,
   "metadata": {},
   "outputs": [],
   "source": [
    "from jobshoplab.compiler.repos import DslRepository\n",
    "from jobshoplab.compiler import Compiler\n",
    "\n",
    "repo = DslRepository(dir=Path(\"data/jssp_instances/dsl/default_instance.yaml\"),loglevel=\"warning\",config=config)\n",
    "compiler = Compiler(config=config,loglevel=\"warning\",repo=repo)\n",
    "# pass the compiler to the environment\n",
    "env = JobShopLabEnv(config=config, compiler=compiler)"
   ]
  },
  {
   "cell_type": "markdown",
   "metadata": {
    "vscode": {
     "languageId": "html"
    }
   },
   "source": [
    "### DSL as a string\n",
    "\n",
    "\n",
    "An instance can also be defined inline as a string.<br> This approach is useful when working in Jupyter notebooks or for debugging and testing purposes.\n",
    "\n",
    "\n",
    "> **Note**<br>\n",
    "> Using a DSL string can simplify rapid prototyping or testing without the need for external YAML files.\n"
   ]
  },
  {
   "cell_type": "code",
   "execution_count": 15,
   "metadata": {},
   "outputs": [],
   "source": [
    "dsl_str = \"\"\"\n",
    "title: InstanceConfig\n",
    "\n",
    "# Example of a 6x6 Instance\n",
    "# with AGVs\n",
    "\n",
    "instance_config:\n",
    "  description: \"ft06 with AGVs\" \n",
    "  instance:\n",
    "    description: \"6x6\"\n",
    "    specification: |\n",
    "      (m0,t)|(m1,t)|(m2,t)|(m3,t)|(m4,t)|(m5,t)\n",
    "      j0|(2,1) (0,3) (1,6) (3,7) (5,3) (4,6)\n",
    "      j1|(1,8) (2,5) (4,10) (5,10) (0,10) (3,4)\n",
    "      j2|(2,5) (3,4) (5,8) (0,9) (1,1) (4,7)\n",
    "      j3|(1,5) (0,5) (2,5) (3,3) (4,8) (5,9)\n",
    "      j4|(2,9) (1,3) (4,5) (5,4) (0,3) (3,1)\n",
    "      j5|(1,3) (3,3) (5,9) (0,10) (4,4) (2,1)\n",
    "\n",
    "    transport:\n",
    "      type: \"agv\"\n",
    "      amount: 6\n",
    "  logistics: \n",
    "    specification: |\n",
    "      m-0|m-1|m-2|m-3|m-4|m-5|in-buf|out-buf\n",
    "      m-0|0 21 16 9 37 41 19 19\n",
    "      m-1|21 0 13 15 17 23 8 8\n",
    "      m-2|16 13 0 13 23 28 7 7\n",
    "      m-3|9 15 13 0 31 35 14 14\n",
    "      m-4|37 17 23 31 0 7 25 25\n",
    "      m-5|41 23 28 35 7 0 24 24\n",
    "      in-buf|19 8 7 14 25 24 0 0\n",
    "      out-buf|19 8 7 14 25 24 0 0\n",
    "      \n",
    "init_state:\n",
    "  t-0:\n",
    "    location: m-0\n",
    "  t-1:\n",
    "    location: m-1\n",
    "  t-2:\n",
    "    location: m-2\n",
    "  t-3:\n",
    "    location: m-3\n",
    "  t-4:\n",
    "    location: m-4\n",
    "  t-5:\n",
    "    location: m-5\n",
    "\"\"\" "
   ]
  },
  {
   "cell_type": "code",
   "execution_count": 16,
   "metadata": {},
   "outputs": [],
   "source": [
    "from jobshoplab.compiler.repos import DslStrRepository\n",
    "from jobshoplab.compiler import Compiler\n",
    "\n",
    "repo = DslStrRepository(dsl_str=dsl_str,loglevel=\"warning\",config=config) # using the DslStrRepository here and passing the sting as an Argument\n",
    "compiler = Compiler(config=config,loglevel=\"warning\",repo=repo)\n",
    "# pass the compiler to the environment\n",
    "env = JobShopLabEnv(config=config, compiler=compiler)"
   ]
  },
  {
   "cell_type": "markdown",
   "metadata": {},
   "source": [
    "\n",
    "> A **full example** and explanation of the DSL can be found in \"data/jssp_instances/dsl/real_world_instance.yaml\""
   ]
  },
  {
   "cell_type": "markdown",
   "metadata": {
    "vscode": {
     "languageId": "plaintext"
    }
   },
   "source": [
    "# 🖌️Visualization"
   ]
  },
  {
   "cell_type": "code",
   "execution_count": 17,
   "metadata": {},
   "outputs": [
    {
     "data": {
      "text/html": [
       "\n",
       "            <style>\n",
       "            div.output_area {\n",
       "                max-height: none !important;\n",
       "                overflow-y: visible !important;\n",
       "            }\n",
       "            </style>\n",
       "            "
      ],
      "text/plain": [
       "<IPython.core.display.HTML object>"
      ]
     },
     "metadata": {},
     "output_type": "display_data"
    },
    {
     "data": {
      "text/html": [
       "<svg id=\"mermaid-svg\" width=\"100%\" xmlns=\"http://www.w3.org/2000/svg\" class=\"flowchart\" style=\"max-width: 719.3125px;\" viewBox=\"0 0 719.3125 278\" role=\"graphics-document document\" aria-roledescription=\"flowchart-v2\" xmlns:xlink=\"http://www.w3.org/1999/xlink\"><style xmlns=\"http://www.w3.org/1999/xhtml\">@import url(\"https://cdnjs.cloudflare.com/ajax/libs/font-awesome/6.7.2/css/all.min.css\");</style><style>#mermaid-svg{font-family:\"trebuchet ms\",verdana,arial,sans-serif;font-size:16px;fill:#333;}@keyframes edge-animation-frame{from{stroke-dashoffset:0;}}@keyframes dash{to{stroke-dashoffset:0;}}#mermaid-svg .edge-animation-slow{stroke-dasharray:9,5!important;stroke-dashoffset:900;animation:dash 50s linear infinite;stroke-linecap:round;}#mermaid-svg .edge-animation-fast{stroke-dasharray:9,5!important;stroke-dashoffset:900;animation:dash 20s linear infinite;stroke-linecap:round;}#mermaid-svg .error-icon{fill:#552222;}#mermaid-svg .error-text{fill:#552222;stroke:#552222;}#mermaid-svg .edge-thickness-normal{stroke-width:1px;}#mermaid-svg .edge-thickness-thick{stroke-width:3.5px;}#mermaid-svg .edge-pattern-solid{stroke-dasharray:0;}#mermaid-svg .edge-thickness-invisible{stroke-width:0;fill:none;}#mermaid-svg .edge-pattern-dashed{stroke-dasharray:3;}#mermaid-svg .edge-pattern-dotted{stroke-dasharray:2;}#mermaid-svg .marker{fill:#333333;stroke:#333333;}#mermaid-svg .marker.cross{stroke:#333333;}#mermaid-svg svg{font-family:\"trebuchet ms\",verdana,arial,sans-serif;font-size:16px;}#mermaid-svg p{margin:0;}#mermaid-svg .label{font-family:\"trebuchet ms\",verdana,arial,sans-serif;color:#333;}#mermaid-svg .cluster-label text{fill:#333;}#mermaid-svg .cluster-label span{color:#333;}#mermaid-svg .cluster-label span p{background-color:transparent;}#mermaid-svg .label text,#mermaid-svg span{fill:#333;color:#333;}#mermaid-svg .node rect,#mermaid-svg .node circle,#mermaid-svg .node ellipse,#mermaid-svg .node polygon,#mermaid-svg .node path{fill:#ECECFF;stroke:#9370DB;stroke-width:1px;}#mermaid-svg .rough-node .label text,#mermaid-svg .node .label text,#mermaid-svg .image-shape .label,#mermaid-svg .icon-shape .label{text-anchor:middle;}#mermaid-svg .node .katex path{fill:#000;stroke:#000;stroke-width:1px;}#mermaid-svg .rough-node .label,#mermaid-svg .node .label,#mermaid-svg .image-shape .label,#mermaid-svg .icon-shape .label{text-align:center;}#mermaid-svg .node.clickable{cursor:pointer;}#mermaid-svg .root .anchor path{fill:#333333!important;stroke-width:0;stroke:#333333;}#mermaid-svg .arrowheadPath{fill:#333333;}#mermaid-svg .edgePath .path{stroke:#333333;stroke-width:2.0px;}#mermaid-svg .flowchart-link{stroke:#333333;fill:none;}#mermaid-svg .edgeLabel{background-color:rgba(232,232,232, 0.8);text-align:center;}#mermaid-svg .edgeLabel p{background-color:rgba(232,232,232, 0.8);}#mermaid-svg .edgeLabel rect{opacity:0.5;background-color:rgba(232,232,232, 0.8);fill:rgba(232,232,232, 0.8);}#mermaid-svg .labelBkg{background-color:rgba(232, 232, 232, 0.5);}#mermaid-svg .cluster rect{fill:#ffffde;stroke:#aaaa33;stroke-width:1px;}#mermaid-svg .cluster text{fill:#333;}#mermaid-svg .cluster span{color:#333;}#mermaid-svg div.mermaidTooltip{position:absolute;text-align:center;max-width:200px;padding:2px;font-family:\"trebuchet ms\",verdana,arial,sans-serif;font-size:12px;background:hsl(80, 100%, 96.2745098039%);border:1px solid #aaaa33;border-radius:2px;pointer-events:none;z-index:100;}#mermaid-svg .flowchartTitleText{text-anchor:middle;font-size:18px;fill:#333;}#mermaid-svg rect.text{fill:none;stroke-width:0;}#mermaid-svg .icon-shape,#mermaid-svg .image-shape{background-color:rgba(232,232,232, 0.8);text-align:center;}#mermaid-svg .icon-shape p,#mermaid-svg .image-shape p{background-color:rgba(232,232,232, 0.8);padding:2px;}#mermaid-svg .icon-shape rect,#mermaid-svg .image-shape rect{opacity:0.5;background-color:rgba(232,232,232, 0.8);fill:rgba(232,232,232, 0.8);}#mermaid-svg .label-icon{display:inline-block;height:1em;overflow:visible;vertical-align:-0.125em;}#mermaid-svg .node .label-icon path{fill:currentColor;stroke:revert;stroke-width:revert;}#mermaid-svg :root{--mermaid-font-family:\"trebuchet ms\",verdana,arial,sans-serif;}</style><g><marker id=\"mermaid-svg_flowchart-v2-pointEnd\" class=\"marker flowchart-v2\" viewBox=\"0 0 10 10\" refX=\"5\" refY=\"5\" markerUnits=\"userSpaceOnUse\" markerWidth=\"8\" markerHeight=\"8\" orient=\"auto\"><path d=\"M 0 0 L 10 5 L 0 10 z\" class=\"arrowMarkerPath\" style=\"stroke-width: 1; stroke-dasharray: 1, 0;\"/></marker><marker id=\"mermaid-svg_flowchart-v2-pointStart\" class=\"marker flowchart-v2\" viewBox=\"0 0 10 10\" refX=\"4.5\" refY=\"5\" markerUnits=\"userSpaceOnUse\" markerWidth=\"8\" markerHeight=\"8\" orient=\"auto\"><path d=\"M 0 5 L 10 10 L 10 0 z\" class=\"arrowMarkerPath\" style=\"stroke-width: 1; stroke-dasharray: 1, 0;\"/></marker><marker id=\"mermaid-svg_flowchart-v2-circleEnd\" class=\"marker flowchart-v2\" viewBox=\"0 0 10 10\" refX=\"11\" refY=\"5\" markerUnits=\"userSpaceOnUse\" markerWidth=\"11\" markerHeight=\"11\" orient=\"auto\"><circle cx=\"5\" cy=\"5\" r=\"5\" class=\"arrowMarkerPath\" style=\"stroke-width: 1; stroke-dasharray: 1, 0;\"/></marker><marker id=\"mermaid-svg_flowchart-v2-circleStart\" class=\"marker flowchart-v2\" viewBox=\"0 0 10 10\" refX=\"-1\" refY=\"5\" markerUnits=\"userSpaceOnUse\" markerWidth=\"11\" markerHeight=\"11\" orient=\"auto\"><circle cx=\"5\" cy=\"5\" r=\"5\" class=\"arrowMarkerPath\" style=\"stroke-width: 1; stroke-dasharray: 1, 0;\"/></marker><marker id=\"mermaid-svg_flowchart-v2-crossEnd\" class=\"marker cross flowchart-v2\" viewBox=\"0 0 11 11\" refX=\"12\" refY=\"5.2\" markerUnits=\"userSpaceOnUse\" markerWidth=\"11\" markerHeight=\"11\" orient=\"auto\"><path d=\"M 1,1 l 9,9 M 10,1 l -9,9\" class=\"arrowMarkerPath\" style=\"stroke-width: 2; stroke-dasharray: 1, 0;\"/></marker><marker id=\"mermaid-svg_flowchart-v2-crossStart\" class=\"marker cross flowchart-v2\" viewBox=\"0 0 11 11\" refX=\"-1\" refY=\"5.2\" markerUnits=\"userSpaceOnUse\" markerWidth=\"11\" markerHeight=\"11\" orient=\"auto\"><path d=\"M 1,1 l 9,9 M 10,1 l -9,9\" class=\"arrowMarkerPath\" style=\"stroke-width: 2; stroke-dasharray: 1, 0;\"/></marker><g class=\"root\"><g class=\"clusters\"/><g class=\"edgePaths\"><path d=\"M130.25,139L144.94,139C159.63,139,189.01,139,217.807,139.08C246.604,139.159,274.818,139.318,288.925,139.398L303.031,139.477\" id=\"L_ENV_RENDER_0\" class=\" edge-thickness-normal edge-pattern-solid edge-thickness-normal edge-pattern-solid flowchart-link\" style=\"\" marker-end=\"url(#mermaid-svg_flowchart-v2-pointEnd)\"/><path d=\"M407.293,110.45L422.521,97.875C437.748,85.3,468.202,60.15,493.305,47.575C518.409,35,538.161,35,548.038,35L557.914,35\" id=\"L_RENDER_DEBUG_0\" class=\" edge-thickness-normal edge-pattern-solid edge-thickness-normal edge-pattern-solid flowchart-link\" style=\"\" marker-end=\"url(#mermaid-svg_flowchart-v2-pointEnd)\"/><path d=\"M436.344,139.5L446.729,139.417C457.115,139.333,477.885,139.167,499.63,139.083C521.375,139,544.094,139,555.453,139L566.813,139\" id=\"L_RENDER_DASH_0\" class=\" edge-thickness-normal edge-pattern-solid edge-thickness-normal edge-pattern-solid flowchart-link\" style=\"\" marker-end=\"url(#mermaid-svg_flowchart-v2-pointEnd)\"/><path d=\"M407.293,168.55L422.521,180.959C437.748,193.367,468.202,218.183,493.231,230.592C518.26,243,537.865,243,547.667,243L557.469,243\" id=\"L_RENDER_SIMULATION_0\" class=\" edge-thickness-normal edge-pattern-solid edge-thickness-normal edge-pattern-solid flowchart-link\" style=\"\" marker-end=\"url(#mermaid-svg_flowchart-v2-pointEnd)\"/></g><g class=\"edgeLabels\"><g class=\"edgeLabel\" transform=\"translate(218.390625, 139)\"><g class=\"label\" transform=\"translate(-63.140625, -12)\"><foreignObject width=\"126.28125\" height=\"24\"><div xmlns=\"http://www.w3.org/1999/xhtml\" class=\"labelBkg\" style=\"display: table-cell; white-space: nowrap; line-height: 1.5; max-width: 200px; text-align: center;\"><span class=\"edgeLabel \"><p>history &amp; instance</p></span></div></foreignObject></g></g><g class=\"edgeLabel\" transform=\"translate(498.65625, 35)\"><g class=\"label\" transform=\"translate(-22.25, -12)\"><foreignObject width=\"44.5\" height=\"24\"><div xmlns=\"http://www.w3.org/1999/xhtml\" class=\"labelBkg\" style=\"display: table-cell; white-space: nowrap; line-height: 1.5; max-width: 200px; text-align: center;\"><span class=\"edgeLabel \"><p>debug</p></span></div></foreignObject></g></g><g class=\"edgeLabel\" transform=\"translate(498.65625, 139)\"><g class=\"label\" transform=\"translate(-37.8125, -12)\"><foreignObject width=\"75.625\" height=\"24\"><div xmlns=\"http://www.w3.org/1999/xhtml\" class=\"labelBkg\" style=\"display: table-cell; white-space: nowrap; line-height: 1.5; max-width: 200px; text-align: center;\"><span class=\"edgeLabel \"><p>dashboard</p></span></div></foreignObject></g></g><g class=\"edgeLabel\" transform=\"translate(498.65625, 243)\"><g class=\"label\" transform=\"translate(-36.015625, -12)\"><foreignObject width=\"72.03125\" height=\"24\"><div xmlns=\"http://www.w3.org/1999/xhtml\" class=\"labelBkg\" style=\"display: table-cell; white-space: nowrap; line-height: 1.5; max-width: 200px; text-align: center;\"><span class=\"edgeLabel \"><p>simulation</p></span></div></foreignObject></g></g></g><g class=\"nodes\"><g class=\"node default  \" id=\"flowchart-ENV-0\" transform=\"translate(69.125, 139)\"><rect class=\"basic label-container\" style=\"\" x=\"-61.125\" y=\"-27\" width=\"122.25\" height=\"54\"/><g class=\"label\" style=\"\" transform=\"translate(-31.125, -12)\"><rect/><foreignObject width=\"62.25\" height=\"24\"><div xmlns=\"http://www.w3.org/1999/xhtml\" style=\"display: table-cell; white-space: nowrap; line-height: 1.5; max-width: 200px; text-align: center;\"><span class=\"nodeLabel \"><p>gym.Env</p></span></div></foreignObject></g></g><g class=\"node default  \" id=\"flowchart-RENDER-1\" transform=\"translate(371.1875, 139)\"><polygon points=\"64.65625,0 129.3125,-64.65625 64.65625,-129.3125 0,-64.65625\" class=\"label-container\" transform=\"translate(-64.15625, 64.65625)\"/><g class=\"label\" style=\"\" transform=\"translate(-37.65625, -12)\"><rect/><foreignObject width=\"75.3125\" height=\"24\"><div xmlns=\"http://www.w3.org/1999/xhtml\" style=\"display: table-cell; white-space: nowrap; line-height: 1.5; max-width: 200px; text-align: center;\"><span class=\"nodeLabel \"><p>env.render</p></span></div></foreignObject></g></g><g class=\"node default  \" id=\"flowchart-DEBUG-2\" transform=\"translate(636.390625, 35)\"><rect class=\"basic label-container\" style=\"\" x=\"-74.4765625\" y=\"-27\" width=\"148.953125\" height=\"54\"/><g class=\"label\" style=\"\" transform=\"translate(-44.4765625, -12)\"><rect/><foreignObject width=\"88.953125\" height=\"24\"><div xmlns=\"http://www.w3.org/1999/xhtml\" style=\"display: table-cell; white-space: nowrap; line-height: 1.5; max-width: 200px; text-align: center;\"><span class=\"nodeLabel \"><p>cli debug util</p></span></div></foreignObject></g></g><g class=\"node default  \" id=\"flowchart-SIMULATION-3\" transform=\"translate(636.390625, 243)\"><rect class=\"basic label-container\" style=\"\" x=\"-74.921875\" y=\"-27\" width=\"149.84375\" height=\"54\"/><g class=\"label\" style=\"\" transform=\"translate(-44.921875, -12)\"><rect/><foreignObject width=\"89.84375\" height=\"24\"><div xmlns=\"http://www.w3.org/1999/xhtml\" style=\"display: table-cell; white-space: nowrap; line-height: 1.5; max-width: 200px; text-align: center;\"><span class=\"nodeLabel \"><p>3d rendering</p></span></div></foreignObject></g></g><g class=\"node default  \" id=\"flowchart-DASH-4\" transform=\"translate(636.390625, 139)\"><rect class=\"basic label-container\" style=\"\" x=\"-65.578125\" y=\"-27\" width=\"131.15625\" height=\"54\"/><g class=\"label\" style=\"\" transform=\"translate(-35.578125, -12)\"><rect/><foreignObject width=\"71.15625\" height=\"24\"><div xmlns=\"http://www.w3.org/1999/xhtml\" style=\"display: table-cell; white-space: nowrap; line-height: 1.5; max-width: 200px; text-align: center;\"><span class=\"nodeLabel \"><p>gant chart</p></span></div></foreignObject></g></g></g></g></g></svg>"
      ],
      "text/plain": [
       "<mermaid.__main__.Mermaid at 0x7e30a1a10680>"
      ]
     },
     "execution_count": 17,
     "metadata": {},
     "output_type": "execute_result"
    }
   ],
   "source": [
    "show_mermaid(\"./docs/assets/rendering.mmd\")"
   ]
  },
  {
   "cell_type": "markdown",
   "metadata": {},
   "source": [
    "JobShopLab provides three main methods for visualizing an environment's state:\n",
    "\n",
    "\n",
    "1. **Gantt Chart Dashboard:** A Dash web application that displays schedules on a timeline.\n",
    "2. **CLI Table:** A debugging table rendered using the rich library.\n",
    "3. **Simulation WebApp:** A 3D simulation using Three.js to render scenes of the schedules (coming soon!).\n",
    "\n",
    "\n",
    "\n",
    "The default render mode can be configured in the config.yaml. For example:\n",
    "\n",
    "```yaml\n",
    "\n",
    "env:\n",
    "  loglevel: *default_loglevel\n",
    "  observation_factory: \"BinaryActionObservationFactory\"\n",
    "  reward_factory: \"BinaryActionJsspReward\"\n",
    "  action_factory: \"BinaryJobActionInterpreter\"\n",
    "  render_backend: \"render_in_dashboard\" # <- set the render backend here\n",
    "  middleware: \"EventBasedBinaryActionMiddleware\"\n",
    "\n",
    "# Available Options and Settings\n",
    "render_backend:\n",
    "  render_in_dashboard:\n",
    "    loglevel: *default_loglevel\n",
    "    port: 8050\n",
    "    debug: false\n",
    "\n",
    "  simulation:\n",
    "    json_dump_dir: \"data/tmp/simulation_interface.json\"\n",
    "    port: 8051\n",
    "    loglevel: *default_loglevel\n",
    "    bind_all: false\n",
    "  \n",
    "  cli_table:\n",
    "    loglevel: *default_loglevel\n",
    "\n",
    "```\n",
    "\n",
    "\n",
    "When calling ``env.render()``, you can pass a mode flag to select the render backend:\n",
    "\n",
    "\n",
    "- **normal** (default): Uses the default backend from the configuration.\n",
    "- **dashboard**: Displays the Dash Gantt chart.\n",
    "- **simulation**: Activates the 3D simulation with Three.js.\n",
    "- **debug**: Shows the rich CLI table.\n",
    "\n",
    "\n",
    "Example visualization:"
   ]
  },
  {
   "cell_type": "code",
   "execution_count": 18,
   "metadata": {},
   "outputs": [
    {
     "data": {
      "text/html": [
       "\n",
       "        <iframe\n",
       "            width=\"100%\"\n",
       "            height=\"1500\"\n",
       "            src=\"http://127.0.0.1:8051/\"\n",
       "            frameborder=\"0\"\n",
       "            allowfullscreen\n",
       "            \n",
       "        ></iframe>\n",
       "        "
      ],
      "text/plain": [
       "<IPython.lib.display.IFrame at 0x7e30a1a12540>"
      ]
     },
     "metadata": {},
     "output_type": "display_data"
    }
   ],
   "source": [
    "repo = DslStrRepository(dsl_str=dsl_str,loglevel=\"warning\",config=config) # using the DslStrRepository here\n",
    "compiler = Compiler(config=config,loglevel=\"warning\",repo=repo)\n",
    "# pass the compiler to the environment\n",
    "env = JobShopLabEnv(config=config, compiler=compiler)\n",
    "\n",
    "# run with random actions\n",
    "done = False\n",
    "while not done:\n",
    "    action = env.action_space.sample()\n",
    "    obs, reward, truncated, terminated, info = env.step(action)\n",
    "    done = truncated or terminated\n",
    "env.render()\n",
    "# env.render(mode=\"simulation\")\n",
    "# env.render(mode=\"debug\")"
   ]
  },
  {
   "cell_type": "markdown",
   "metadata": {},
   "source": [
    "# 🤖 Defining Agents and Solving the Environemnt\n",
    "\n",
    "For more details on defining agents and solving the environment using reinforcement learning algorithms, please refer to the jobshopagent repository.\n",
    "\n",
    "\n",
    "Below is an example of training an agent using Stable Baselines3:"
   ]
  },
  {
   "cell_type": "code",
   "execution_count": 19,
   "metadata": {},
   "outputs": [
    {
     "name": "stdout",
     "output_type": "stream",
     "text": [
      "Using cpu device\n",
      "Wrapping the env with a `Monitor` wrapper\n",
      "Wrapping the env in a DummyVecEnv.\n",
      "---------------------------------\n",
      "| rollout/           |          |\n",
      "|    ep_len_mean     | 70.6     |\n",
      "|    ep_rew_mean     | 0.794    |\n",
      "| time/              |          |\n",
      "|    fps             | 746      |\n",
      "|    iterations      | 1        |\n",
      "|    time_elapsed    | 2        |\n",
      "|    total_timesteps | 2048     |\n",
      "---------------------------------\n"
     ]
    },
    {
     "data": {
      "text/plain": [
       "<stable_baselines3.ppo.ppo.PPO at 0x7e30a2fa7d70>"
      ]
     },
     "execution_count": 19,
     "metadata": {},
     "output_type": "execute_result"
    }
   ],
   "source": [
    "# train an agent using stable baselines3\n",
    "\n",
    "from stable_baselines3 import PPO\n",
    "from jobshoplab import JobShopLabEnv\n",
    "\n",
    "env = JobShopLabEnv(config=config)\n",
    "model = PPO(\"MultiInputPolicy\", env, verbose=1)\n",
    "model.learn(total_timesteps=10)"
   ]
  },
  {
   "cell_type": "code",
   "execution_count": null,
   "metadata": {},
   "outputs": [],
   "source": []
  }
 ],
 "metadata": {
  "kernelspec": {
   "display_name": "lab",
   "language": "python",
   "name": "python3"
  },
  "language_info": {
   "codemirror_mode": {
    "name": "ipython",
    "version": 3
   },
   "file_extension": ".py",
   "mimetype": "text/x-python",
   "name": "python",
   "nbconvert_exporter": "python",
   "pygments_lexer": "ipython3",
   "version": "3.12.3"
  }
 },
 "nbformat": 4,
 "nbformat_minor": 4
}
