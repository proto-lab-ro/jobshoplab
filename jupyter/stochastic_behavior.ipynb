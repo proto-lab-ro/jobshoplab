{
 "cells": [
  {
   "cell_type": "markdown",
   "id": "7437ff39",
   "metadata": {},
   "source": [
    "<img src=\"../docs/assets/JobShopLabLogo.svg\" width=\"50\" align=\"left\" style=\"margin-right: 10px;\">\n",
    "\n",
    "# Stochastic behavior in JobShopLab\n"
   ]
  },
  {
   "cell_type": "code",
   "id": "39265db9",
   "metadata": {
    "ExecuteTime": {
     "end_time": "2025-09-09T12:47:21.796316Z",
     "start_time": "2025-09-09T12:47:20.189157Z"
    }
   },
   "source": [
    "from jobshoplab.types.stochasticy_models import *\n",
    "import ipywidgets as widgets\n",
    "from IPython.display import display, clear_output\n",
    "import plotly.express as px\n",
    "from jobshoplab.utils.load_config import load_config\n",
    "from jobshoplab.compiler.repos import DslStrRepository\n",
    "from jobshoplab.compiler import Compiler\n",
    "from jobshoplab import JobShopLabEnv\n",
    "from jupyter_utils import change_to_jobshoplab\n",
    "from pathlib import Path\n",
    "change_to_jobshoplab()"
   ],
   "outputs": [
    {
     "name": "stderr",
     "output_type": "stream",
     "text": [
      "C:\\Users\\klno603\\Anaconda3\\envs\\jsl\\Lib\\site-packages\\requests\\__init__.py:86: RequestsDependencyWarning: Unable to find acceptable character detection dependency (chardet or charset_normalizer).\n",
      "  warnings.warn(\n"
     ]
    },
    {
     "name": "stdout",
     "output_type": "stream",
     "text": [
      "Already in the desired directory: C:\\Users\\klno603\\PycharmProjects\\jobshoplab_\n"
     ]
    }
   ],
   "execution_count": 2
  },
  {
   "cell_type": "markdown",
   "id": "a325e0d3",
   "metadata": {},
   "source": [
    "## Distribution Explorer\n",
    "\n",
    "This interactive tool lets you explore four different probability distributions. Each time you select one, a sample of random values is drawn and visualized. Here's a brief explanation of each:\n",
    "\n",
    "* **Poisson Distribution**\n",
    "    Models the number of events occurring in a fixed interval of time or space.\n",
    "    Example: Number of emails received per hour.\n",
    "    Shape: Discrete, skewed right for small means.\n",
    "\n",
    "* **Gaussian (Normal) Distribution**\n",
    "    The classic bell curve. Models many natural phenomena due to the Central Limit Theorem.\n",
    "    Example: Heights of people, measurement errors.\n",
    "    Shape: Symmetric and continuous.\n",
    "\n",
    "* **Uniform Distribution**\n",
    "    Uniform distribution assigns equal probability to all values within a specified range.  \n",
    "    Example: Rolling a fair die.  \n",
    "    Shape: Flat and continuous.\n",
    "\n",
    "* **Gamma Distribution**\n",
    "    Models waiting times or the sum of multiple exponential variables.\n",
    "    Example: Time until the k-th event in a Poisson process.\n",
    "    Shape: Skewed continuous distribution.\n",
    "\n",
    "Each distribution object in this notebook has a .update() method that generates a new random value, which is stored in .time. The histogram shows how these values are distributed over many samples."
   ]
  },
  {
   "cell_type": "code",
   "id": "360eaf2e",
   "metadata": {
    "ExecuteTime": {
     "end_time": "2025-09-09T13:12:53.086833Z",
     "start_time": "2025-09-09T13:12:52.993340Z"
    }
   },
   "source": [
    "# available distributions and their parameters\n",
    "#! change the values here to observe the changes in the plots\n",
    "possion = PoissonFunction(base_time=1)\n",
    "gauss = GaussianFunction(base_time=5, std=1)\n",
    "uniform = UniformFunction(base_time=10, offset=2)\n",
    "gamma = GammaFunction(base_time=5.e4, shape=1., scale=10000.)\n",
    "\n",
    "# Sample size\n",
    "sample_size = 1000\n",
    "\n",
    "# Assuming these distribution objects are already defined\n",
    "# possion, gauss, gamma\n",
    "\n",
    "dist_mapping = {\n",
    "    \"Gamma\": gamma,\n",
    "    \"Poisson\": possion,\n",
    "    \"Gaussian\": gauss,\n",
    "    \"Uni\": uniform,\n",
    "}\n",
    "\n",
    "def get_sample(distribution):\n",
    "    distribution.update()\n",
    "    return distribution.time\n",
    "\n",
    "def make_plot(distribution, sample_size):\n",
    "    samples = [get_sample(distribution) for _ in range(sample_size)]\n",
    "    fig = px.histogram(\n",
    "        x=samples,\n",
    "        marginal=\"box\",\n",
    "        title=f\"Distribution: {distribution.__class__.__name__}\",\n",
    "        labels={\"x\": \"Sampled Values\", \"y\": \"Time Value\"},\n",
    "    )\n",
    "    fig.show()\n",
    "\n",
    "# Dropdown widget\n",
    "dropdown = widgets.Dropdown(\n",
    "    options=list(dist_mapping.keys()),\n",
    "    value=\"Gamma\",\n",
    "    description=\"Distribution:\"\n",
    ")\n",
    "\n",
    "# Output widget to contain the plot\n",
    "output = widgets.Output()\n",
    "\n",
    "def on_change(change):\n",
    "    if change['type'] == 'change' and change['name'] == 'value':\n",
    "        with output:\n",
    "            clear_output(wait=True)\n",
    "            dist_obj = dist_mapping[change['new']]\n",
    "            make_plot(dist_obj, sample_size)\n",
    "\n",
    "dropdown.observe(on_change)\n",
    "\n",
    "# Display widgets and initial plot\n",
    "display(dropdown, output)\n",
    "\n",
    "with output:\n",
    "    make_plot(dist_mapping[dropdown.value], sample_size)\n",
    "\n"
   ],
   "outputs": [
    {
     "data": {
      "text/plain": [
       "Dropdown(description='Distribution:', options=('Gamma', 'Poisson', 'Gaussian', 'Uni'), value='Gamma')"
      ],
      "application/vnd.jupyter.widget-view+json": {
       "version_major": 2,
       "version_minor": 0,
       "model_id": "0a9cc7fd7839479a87e9343427bd9277"
      }
     },
     "metadata": {},
     "output_type": "display_data",
     "jetTransient": {
      "display_id": null
     }
    },
    {
     "data": {
      "text/plain": [
       "Output()"
      ],
      "application/vnd.jupyter.widget-view+json": {
       "version_major": 2,
       "version_minor": 0,
       "model_id": "8abaa5adccba487aac95308cb3e178dc"
      }
     },
     "metadata": {},
     "output_type": "display_data",
     "jetTransient": {
      "display_id": null
     }
    }
   ],
   "execution_count": 32
  },
  {
   "cell_type": "markdown",
   "id": "bd921c80",
   "metadata": {},
   "source": [
    "# Setting stochasitiy for the Instance\n",
    "\n",
    "in order to use stochastic times this behavior needs to be defined somehow. \n",
    "\n",
    "Every Deffinition (Duration or Frequency) is settable\n",
    "\n",
    "**Example of how to set the time behavior for the setup times**"
   ]
  },
  {
   "cell_type": "markdown",
   "id": "c65525c8",
   "metadata": {},
   "source": [
    "```yaml\n",
    "# Stochastic Configuration\n",
    "setup_times:\n",
    "    - machine: \"m-0\"\n",
    "      specification: |\n",
    "        tl-0|tl-1|tl-2\n",
    "        tl-0|0 2 5\n",
    "        tl-1|2 0 8\n",
    "        tl-2|5 2 0\n",
    "      time_behavior: static # Static setup time \n",
    "          \n",
    "    - machine: \"m-1\"\n",
    "      specification: |\n",
    "        tl-0|tl-1|tl-2\n",
    "        tl-0|0 2 5\n",
    "        tl-1|2 0 8\n",
    "        tl-2|5 2 0\n",
    "      time_behavior: # Stochastic setup time Note: simple pass type and the arguments of the TimeModel\n",
    "        type: \"uniform\"\n",
    "        offset: 2\n",
    "\n",
    "    - machine: \"m-2\" # also static here\n",
    "      specification: |\n",
    "        tl-0|tl-1|tl-2\n",
    "        tl-0|0 2 5\n",
    "        tl-1|2 0 8\n",
    "        tl-2|5 2 0\n",
    "```"
   ]
  },
  {
   "cell_type": "markdown",
   "id": "2e570dea",
   "metadata": {},
   "source": [
    "**resulting mapping**"
   ]
  },
  {
   "cell_type": "code",
   "id": "c0360858",
   "metadata": {
    "ExecuteTime": {
     "end_time": "2025-09-09T12:25:20.762922Z",
     "start_time": "2025-09-09T12:25:20.756297Z"
    }
   },
   "source": [
    "instance = \"\"\"\n",
    "title: InstanceConfig\n",
    "\n",
    "# Example of a 3x3 Instance\n",
    "# with AGVs and outages and setup times and stochastic times\n",
    "\n",
    "instance_config:\n",
    "  description: \"example config\"\n",
    "  instance:\n",
    "    description: \"3x3\"\n",
    "    specification: |\n",
    "      (m0,t)|(m1,t)|(m2,t)\n",
    "      j0|(0,3) (1,2) (2,2)\n",
    "      j1|(0,2) (2,1) (1,4)\n",
    "      j2|(1,4) (2,3) (0,3)\n",
    "    time_behavior: static\n",
    "    tool_usage:\n",
    "      - job: \"j0\"\n",
    "        operation_tools: [\"tl-0\", \"tl-1\", \"tl-2\"]\n",
    "      - job: \"j1\"\n",
    "        operation_tools: [\"tl-0\", \"tl-1\", \"tl-2\"]\n",
    "      - job: \"j2\"\n",
    "        operation_tools: [\"tl-0\", \"tl-1\", \"tl-2\"]\n",
    "  \n",
    "  setup_times:\n",
    "    - machine: \"m-0\"\n",
    "      specification: |\n",
    "        tl-0|tl-1|tl-2\n",
    "        tl-0|0 2 5\n",
    "        tl-1|2 0 8\n",
    "        tl-2|5 2 0\n",
    "      time_behavior: static\n",
    "          \n",
    "    - machine: \"m-1\"\n",
    "      specification: |\n",
    "        tl-0|tl-1|tl-2\n",
    "        tl-0|0 2 5\n",
    "        tl-1|2 0 8\n",
    "        tl-2|5 2 0\n",
    "      time_behavior:\n",
    "        type: \"uniform\"\n",
    "        offset: 2\n",
    "\n",
    "    - machine: \"m-2\"\n",
    "      specification: |\n",
    "        tl-0|tl-1|tl-2\n",
    "        tl-0|0 2 5\n",
    "        tl-1|2 0 8\n",
    "        tl-2|5 2 0\n",
    "\n",
    "      time_behavior:\n",
    "        type: \"gaussian\"\n",
    "        std: 1\n",
    "\n",
    "\n",
    "  logistics: \n",
    "    type: \"agv\"\n",
    "    amount: 3\n",
    "    specification: |\n",
    "      m-0|m-1|m-2|in-buf|out-buf\n",
    "      m-0|0 2 5 2 7\n",
    "      m-1|2 0 8 3 6\n",
    "      m-2|5 2 0 6 2\n",
    "      in-buf|2 3 6 0 9\n",
    "      out-buf|7 5 2 9 0\n",
    "    \n",
    "    time_behavior:\n",
    "      type: \"poisson\"\n",
    "  \n",
    "  outages:\n",
    "    - component: \"m\"\n",
    "      type: \"maintenance\"\n",
    "      duration: 5\n",
    "      frequency: \n",
    "        type: \"gamma\"\n",
    "        scale: 5\n",
    "        base: 10\n",
    "\n",
    "    - component: \"t\"\n",
    "      type: \"recharge\"\n",
    "      duration: \n",
    "        type: \"gaussian\"\n",
    "        std: 1\n",
    "        base: 10\n",
    "      frequency: 10\n",
    "\n",
    "        \n",
    "\n",
    "init_state:\n",
    "  t-0:\n",
    "    location: \"m-1\"\n",
    "  t-1:\n",
    "    location: \"m-2\"\n",
    "  t-2:\n",
    "    location: \"m-2\"\n",
    "\"\"\""
   ],
   "outputs": [],
   "execution_count": 1
  },
  {
   "cell_type": "code",
   "execution_count": 5,
   "id": "737d9eb2",
   "metadata": {},
   "outputs": [
    {
     "data": {
      "text/plain": [
       "{('tl-0', 'tl-0'): UniformFunction(base_time=0, low=-2.0, high=2.0),\n",
       " ('tl-0', 'tl-1'): UniformFunction(base_time=2, low=0.0, high=4.0),\n",
       " ('tl-0', 'tl-2'): UniformFunction(base_time=5, low=3.0, high=7.0),\n",
       " ('tl-1', 'tl-0'): UniformFunction(base_time=2, low=0.0, high=4.0),\n",
       " ('tl-1', 'tl-1'): UniformFunction(base_time=0, low=-2.0, high=2.0),\n",
       " ('tl-1', 'tl-2'): UniformFunction(base_time=8, low=6.0, high=10.0),\n",
       " ('tl-2', 'tl-0'): UniformFunction(base_time=5, low=3.0, high=7.0),\n",
       " ('tl-2', 'tl-1'): UniformFunction(base_time=2, low=0.0, high=4.0),\n",
       " ('tl-2', 'tl-2'): UniformFunction(base_time=0, low=-2.0, high=2.0)}"
      ]
     },
     "execution_count": 5,
     "metadata": {},
     "output_type": "execute_result"
    }
   ],
   "source": [
    "config = load_config(config_path = Path(\"./data/config/getting_started_config.yaml\"))\n",
    "repo = DslStrRepository(instance,1,config)\n",
    "compiler = Compiler(config, loglevel=\"warning\", repo=repo)\n",
    "env = JobShopLabEnv(config=config, compiler=compiler)\n",
    "\n",
    "# show the setuptime mapping\n",
    "env.instance.machines[1].setup_times"
   ]
  },
  {
   "cell_type": "code",
   "execution_count": 11,
   "id": "baab0383",
   "metadata": {},
   "outputs": [
    {
     "name": "stdout",
     "output_type": "stream",
     "text": [
      "init time: 2\n",
      "after_update:  2\n"
     ]
    }
   ],
   "source": [
    "# access the setup time for a specific tool\n",
    "print(\"init time:\" ,env.instance.machines[1].setup_times[('tl-0', 'tl-1')].time)\n",
    "\n",
    "# sample a new time \n",
    "env.instance.machines[1].setup_times[('tl-0', 'tl-1')].update()\n",
    "print(\"after_update: \",env.instance.machines[1].setup_times[('tl-0', 'tl-1')].time)"
   ]
  }
 ],
 "metadata": {
  "kernelspec": {
   "display_name": "lab",
   "language": "python",
   "name": "python3"
  },
  "language_info": {
   "codemirror_mode": {
    "name": "ipython",
    "version": 3
   },
   "file_extension": ".py",
   "mimetype": "text/x-python",
   "name": "python",
   "nbconvert_exporter": "python",
   "pygments_lexer": "ipython3",
   "version": "3.12.3"
  }
 },
 "nbformat": 4,
 "nbformat_minor": 5
}
